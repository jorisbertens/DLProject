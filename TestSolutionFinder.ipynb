{
 "cells": [
  {
   "cell_type": "code",
   "execution_count": 1,
   "metadata": {
    "scrolled": false
   },
   "outputs": [
    {
     "name": "stdout",
     "output_type": "stream",
     "text": [
      "Using TensorFlow backend.\n",
      "17\n",
      "Number of cpu cores: 8\n",
      "\n",
      "Seed,Algorithm,dataset,time,train_f1,val_f1,train_loss,val_loss\n",
      "Skipped Shallow Easy\n",
      "Skipped Deep Easy\n",
      "Skipped CNN_1D Easy\n",
      "2019-06-08 17:10:16.646892: I tensorflow/core/platform/cpu_feature_guard.cc:141] Your CPU supports instructions that this TensorFlow binary was not compiled to use: AVX2 FMA\n",
      "2019-06-08 17:10:16.672201: I tensorflow/core/platform/profile_utils/cpu_utils.cc:94] CPU Frequency: 1800000000 Hz\n",
      "2019-06-08 17:10:16.673499: I tensorflow/compiler/xla/service/service.cc:150] XLA service 0x55a5df893f90 executing computations on platform Host. Devices:\n",
      "2019-06-08 17:10:16.673550: I tensorflow/compiler/xla/service/service.cc:158]   StreamExecutor device (0): <undefined>, <undefined>\n",
      "WARNING:tensorflow:From /opt/conda/lib/python3.7/site-packages/tensorflow/python/framework/op_def_library.py:263: colocate_with (from tensorflow.python.framework.ops) is deprecated and will be removed in a future version.\n",
      "Instructions for updating:\n",
      "Colocations handled automatically by placer.\n",
      "WARNING:tensorflow:From /opt/conda/lib/python3.7/site-packages/tensorflow/python/ops/math_ops.py:3066: to_int32 (from tensorflow.python.ops.math_ops) is deprecated and will be removed in a future version.\n",
      "Instructions for updating:\n",
      "Use tf.cast instead.\n",
      "Train on 1047 samples, validate on 262 samples\n",
      "Epoch 1/10\n",
      "1047/1047 [==============================] - 0s 394us/step - loss: 0.6289 - f1: 0.3656 - val_loss: 0.5508 - val_f1: 0.5999\n",
      "Epoch 2/10\n",
      "1047/1047 [==============================] - 0s 141us/step - loss: 0.5174 - f1: 0.6442 - val_loss: 0.4950 - val_f1: 0.6827\n",
      "Epoch 3/10\n",
      "1047/1047 [==============================] - 0s 142us/step - loss: 0.4803 - f1: 0.7174 - val_loss: 0.5104 - val_f1: 0.6268\n",
      "Epoch 4/10\n",
      "1047/1047 [==============================] - 0s 140us/step - loss: 0.4641 - f1: 0.7248 - val_loss: 0.4531 - val_f1: 0.7154\n",
      "Epoch 5/10\n",
      "1047/1047 [==============================] - 0s 142us/step - loss: 0.4691 - f1: 0.7113 - val_loss: 0.4750 - val_f1: 0.7239\n",
      "Epoch 6/10\n",
      "1047/1047 [==============================] - 0s 140us/step - loss: 0.4683 - f1: 0.7126 - val_loss: 0.4686 - val_f1: 0.7402\n",
      "Epoch 7/10\n",
      "1047/1047 [==============================] - 0s 137us/step - loss: 0.4488 - f1: 0.7267 - val_loss: 0.4449 - val_f1: 0.7047\n",
      "Epoch 8/10\n",
      "1047/1047 [==============================] - 0s 139us/step - loss: 0.4490 - f1: 0.7271 - val_loss: 0.4468 - val_f1: 0.6951\n",
      "Epoch 9/10\n",
      "1047/1047 [==============================] - 0s 139us/step - loss: 0.4475 - f1: 0.7198 - val_loss: 0.4457 - val_f1: 0.6959\n",
      "Epoch 10/10\n",
      "1047/1047 [==============================] - 0s 147us/step - loss: 0.4477 - f1: 0.7146 - val_loss: 0.4643 - val_f1: 0.7064\n",
      "0,CNN_2D,Easy,0:00:02.229693,0.7146182454759549,0.7064317078080796,0.4477437208580083,0.4643173035774522\n",
      "Skipped Shallow Big\n",
      "Skipped Deep Big\n",
      "Skipped Shallow Text\n",
      "Skipped Deep Text\n",
      "Skipped LSTM Text\n",
      "Skipped RNN Text\n",
      "Skipped Shallow Image\n",
      "Skipped Deep Image\n",
      "Skipped CNN Image\n",
      "Skipped Shallow TimeSeries\n",
      "Skipped Deep TimeSeries\n",
      "Skipped CNN TimeSeries\n",
      "Skipped LSTM TimeSeries\n"
     ]
    }
   ],
   "source": [
    "! python3 solution_finder.py"
   ]
  },
  {
   "cell_type": "code",
   "execution_count": null,
   "metadata": {},
   "outputs": [],
   "source": []
  }
 ],
 "metadata": {
  "kernelspec": {
   "display_name": "Python 3",
   "language": "python",
   "name": "python3"
  },
  "language_info": {
   "codemirror_mode": {
    "name": "ipython",
    "version": 3
   },
   "file_extension": ".py",
   "mimetype": "text/x-python",
   "name": "python",
   "nbconvert_exporter": "python",
   "pygments_lexer": "ipython3",
   "version": "3.7.1"
  }
 },
 "nbformat": 4,
 "nbformat_minor": 2
}
