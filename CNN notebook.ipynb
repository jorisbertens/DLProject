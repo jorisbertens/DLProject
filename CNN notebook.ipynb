{
 "cells": [
  {
   "cell_type": "code",
   "execution_count": 1,
   "metadata": {},
   "outputs": [
    {
     "name": "stderr",
     "output_type": "stream",
     "text": [
      "Using TensorFlow backend.\n"
     ]
    }
   ],
   "source": [
    "import keras\n",
    "from keras import models\n",
    "from keras import layers\n",
    "from keras import optimizers\n",
    "import os, shutil\n",
    "import utils\n",
    "import pandas as pd\n",
    "from keras.models import Sequential\n",
    "from keras.layers import Dense\n",
    "from keras.layers import Flatten\n",
    "from keras.layers.convolutional import Conv1D\n",
    "from keras.layers.convolutional import MaxPooling1D\n",
    "from ML_algorithms import *\n",
    "from numpy import array\n",
    "from numpy import hstack\n",
    "import numpy as np"
   ]
  },
  {
   "cell_type": "markdown",
   "metadata": {},
   "source": [
    "## 1. Image data"
   ]
  },
  {
   "cell_type": "code",
   "execution_count": null,
   "metadata": {},
   "outputs": [],
   "source": [
    "train_dir = \"data_files/Cactus_Image/training_set\"\n",
    "test_dir = \"data_files/Cactus_Image/testing_set\""
   ]
  },
  {
   "cell_type": "code",
   "execution_count": null,
   "metadata": {},
   "outputs": [],
   "source": [
    "def keras_cnn(n_neurons=32, n_layers=3, filter_size=(3, 3), activation=\"relu\", \n",
    "               input_shape =(64,64,3), max_pooling=(2,2), dense_layer=128, \n",
    "               loss=\"binary_crossentropy\",optimizer=\"adam\",metrics=\"acc\"):\n",
    "    # NOTE: always alter the input_shape to the specific input shape off the problem.\n",
    "\n",
    "    model = models.Sequential()\n",
    "    model.add(layers.Conv2D(n_neurons, filter_size, activation=activation,\n",
    "                           input_shape =input_shape))\n",
    "    model.add(layers.MaxPooling2D(max_pooling))\n",
    "    for num in range(n_layers-2):\n",
    "        model.add(layers.Conv2D(n_neurons, filter_size, activation=activation))\n",
    "        model.add(layers.MaxPooling2D(max_pooling))\n",
    "    model.add(layers.Flatten())\n",
    "    model.add(layers.Dense(dense_layer, activation=activation))\n",
    "    model.add(layers.Dense(1, activation=\"sigmoid\"))\n",
    "\n",
    "    model.compile(loss=loss, \n",
    "                  optimizer=optimizer,\n",
    "                  metrics=[metrics])\n",
    "    \n",
    "    return model\n"
   ]
  },
  {
   "cell_type": "code",
   "execution_count": null,
   "metadata": {
    "scrolled": true
   },
   "outputs": [],
   "source": [
    "model = keras_cnn() \n",
    "model.summary()"
   ]
  },
  {
   "cell_type": "code",
   "execution_count": null,
   "metadata": {},
   "outputs": [],
   "source": [
    "from keras.preprocessing.image import ImageDataGenerator\n",
    "\n",
    "train_datagen = ImageDataGenerator(rescale=1./255)\n",
    "test_datagen = ImageDataGenerator(rescale=1./255)\n",
    "\n",
    "train_generator = train_datagen.flow_from_directory(\n",
    "    train_dir,\n",
    "    target_size=(64,64),\n",
    "    batch_size=20,\n",
    "    class_mode=\"binary\")\n",
    "\n",
    "test_generator = test_datagen.flow_from_directory(\n",
    "    test_dir,\n",
    "    target_size=(64, 64),\n",
    "    batch_size=20,\n",
    "    class_mode=\"binary\")"
   ]
  },
  {
   "cell_type": "code",
   "execution_count": null,
   "metadata": {
    "scrolled": true
   },
   "outputs": [],
   "source": [
    "history = model.fit_generator(\n",
    "    train_generator,\n",
    "    steps_per_epoch=250,\n",
    "    epochs=5,\n",
    "    validation_data=test_generator,\n",
    "    validation_steps=50)"
   ]
  },
  {
   "cell_type": "markdown",
   "metadata": {},
   "source": [
    "## 2. Timeseries Data"
   ]
  },
  {
   "cell_type": "code",
   "execution_count": 2,
   "metadata": {},
   "outputs": [
    {
     "name": "stderr",
     "output_type": "stream",
     "text": [
      "/opt/conda/lib/python3.7/site-packages/sklearn/preprocessing/data.py:334: DataConversionWarning: Data with input dtype int64, float64 were all converted to float64 by MinMaxScaler.\n",
      "  return self.partial_fit(X, y)\n",
      "/home/jovyan/work/2_Semester/Deep Learning/DLProject/utils.py:192: FutureWarning: Method .as_matrix will be removed in a future version. Use .values instead.\n",
      "  X_train = X_train.as_matrix().reshape((len(X_train), 15))\n",
      "/home/jovyan/work/2_Semester/Deep Learning/DLProject/utils.py:193: FutureWarning: Method .as_matrix will be removed in a future version. Use .values instead.\n",
      "  y_train = y_train.as_matrix().reshape((len(y_train), 1))\n",
      "/home/jovyan/work/2_Semester/Deep Learning/DLProject/utils.py:194: FutureWarning: Method .as_matrix will be removed in a future version. Use .values instead.\n",
      "  X_test = X_test.as_matrix().reshape((len(X_test), 15))\n",
      "/home/jovyan/work/2_Semester/Deep Learning/DLProject/utils.py:195: FutureWarning: Method .as_matrix will be removed in a future version. Use .values instead.\n",
      "  y_test = y_test.as_matrix().reshape((len(y_test), 1))\n"
     ]
    }
   ],
   "source": [
    "X_train, X_test, y_train, y_test = utils.get_timeseries_dataset(cnn_or_lstm=True)"
   ]
  },
  {
   "cell_type": "code",
   "execution_count": 3,
   "metadata": {
    "scrolled": true
   },
   "outputs": [
    {
     "name": "stdout",
     "output_type": "stream",
     "text": [
      "WARNING:tensorflow:From /opt/conda/lib/python3.7/site-packages/tensorflow/python/framework/op_def_library.py:263: colocate_with (from tensorflow.python.framework.ops) is deprecated and will be removed in a future version.\n",
      "Instructions for updating:\n",
      "Colocations handled automatically by placer.\n"
     ]
    }
   ],
   "source": [
    "model = keras_cnn_conv1D()"
   ]
  },
  {
   "cell_type": "code",
   "execution_count": 17,
   "metadata": {
    "scrolled": true
   },
   "outputs": [
    {
     "name": "stdout",
     "output_type": "stream",
     "text": [
      "Train on 1047 samples, validate on 262 samples\n",
      "Epoch 1/10\n",
      "1047/1047 [==============================] - 0s 47us/step - loss: 1.5948 - acc: 0.6877 - val_loss: 3.9170 - val_acc: 0.5649\n",
      "Epoch 2/10\n",
      "1047/1047 [==============================] - 0s 39us/step - loss: 2.0018 - acc: 0.6504 - val_loss: 0.7379 - val_acc: 0.7481\n",
      "Epoch 3/10\n",
      "1047/1047 [==============================] - 0s 36us/step - loss: 0.5376 - acc: 0.7650 - val_loss: 0.6240 - val_acc: 0.7214\n",
      "Epoch 4/10\n",
      "1047/1047 [==============================] - 0s 39us/step - loss: 0.4997 - acc: 0.7813 - val_loss: 0.5454 - val_acc: 0.7519\n",
      "Epoch 5/10\n",
      "1047/1047 [==============================] - 0s 41us/step - loss: 0.4875 - acc: 0.7899 - val_loss: 0.5512 - val_acc: 0.7481\n",
      "Epoch 6/10\n",
      "1047/1047 [==============================] - 0s 38us/step - loss: 0.4831 - acc: 0.7947 - val_loss: 0.5525 - val_acc: 0.7557\n",
      "Epoch 7/10\n",
      "1047/1047 [==============================] - 0s 40us/step - loss: 0.4783 - acc: 0.7985 - val_loss: 0.6010 - val_acc: 0.7595\n",
      "Epoch 8/10\n",
      "1047/1047 [==============================] - 0s 41us/step - loss: 0.4747 - acc: 0.8013 - val_loss: 0.5953 - val_acc: 0.7595\n",
      "Epoch 9/10\n",
      "1047/1047 [==============================] - 0s 38us/step - loss: 0.4696 - acc: 0.8061 - val_loss: 0.6078 - val_acc: 0.7634\n",
      "Epoch 10/10\n",
      "1047/1047 [==============================] - 0s 37us/step - loss: 0.4708 - acc: 0.8071 - val_loss: 0.5546 - val_acc: 0.7710\n"
     ]
    },
    {
     "data": {
      "text/plain": [
       "<keras.callbacks.History at 0x7fe5a06ed5f8>"
      ]
     },
     "execution_count": 17,
     "metadata": {},
     "output_type": "execute_result"
    }
   ],
   "source": [
    "model.fit(X_train, y_train, epochs=10, verbose=1, validation_data=(X_test, y_test))"
   ]
  },
  {
   "cell_type": "markdown",
   "metadata": {},
   "source": [
    "## 2. Titanic Data \n",
    "### 2.1 conv1D"
   ]
  },
  {
   "cell_type": "code",
   "execution_count": 31,
   "metadata": {},
   "outputs": [
    {
     "name": "stderr",
     "output_type": "stream",
     "text": [
      "/opt/conda/lib/python3.7/site-packages/sklearn/preprocessing/_encoders.py:371: FutureWarning: The handling of integer data will change in version 0.22. Currently, the categories are determined based on the range [0, max(values)], while in the future they will be determined based on the unique values.\n",
      "If you want the future behaviour and silence this warning, you can specify \"categories='auto'\".\n",
      "In case you used a LabelEncoder before this OneHotEncoder to convert the categories to integers, then you can now use the OneHotEncoder directly.\n",
      "  warnings.warn(msg, FutureWarning)\n",
      "/opt/conda/lib/python3.7/site-packages/sklearn/preprocessing/_encoders.py:392: DeprecationWarning: The 'categorical_features' keyword is deprecated in version 0.20 and will be removed in 0.22. You can use the ColumnTransformer instead.\n",
      "  \"use the ColumnTransformer instead.\", DeprecationWarning)\n",
      "/home/jovyan/work/2_Semester/Deep Learning/DLProject/utils.py:97: FutureWarning: Method .as_matrix will be removed in a future version. Use .values instead.\n",
      "  X_train = X_train.as_matrix().reshape((len(X_train), 36))\n",
      "/home/jovyan/work/2_Semester/Deep Learning/DLProject/utils.py:98: FutureWarning: Method .as_matrix will be removed in a future version. Use .values instead.\n",
      "  y_train = y_train.as_matrix().reshape((len(y_train), 1))\n",
      "/home/jovyan/work/2_Semester/Deep Learning/DLProject/utils.py:99: FutureWarning: Method .as_matrix will be removed in a future version. Use .values instead.\n",
      "  X_test = X_test.as_matrix().reshape((len(X_test), 36))\n",
      "/home/jovyan/work/2_Semester/Deep Learning/DLProject/utils.py:100: FutureWarning: Method .as_matrix will be removed in a future version. Use .values instead.\n",
      "  y_test = y_test.as_matrix().reshape((len(y_test), 1))\n"
     ]
    }
   ],
   "source": [
    "X_train, X_test, y_train, y_test = utils.get_titanic_dataset(cnn_or_lstm=True)"
   ]
  },
  {
   "cell_type": "code",
   "execution_count": 21,
   "metadata": {},
   "outputs": [
    {
     "data": {
      "text/plain": [
       "(1047, 1, 36)"
      ]
     },
     "execution_count": 21,
     "metadata": {},
     "output_type": "execute_result"
    }
   ],
   "source": [
    "X_train.shape"
   ]
  },
  {
   "cell_type": "code",
   "execution_count": 33,
   "metadata": {},
   "outputs": [],
   "source": [
    "model = keras_cnn_conv1D(filters=6, input_shape=(1,36), pool_size=1,kernel_size=1)"
   ]
  },
  {
   "cell_type": "code",
   "execution_count": 34,
   "metadata": {
    "scrolled": false
   },
   "outputs": [
    {
     "name": "stdout",
     "output_type": "stream",
     "text": [
      "Train on 1047 samples, validate on 262 samples\n",
      "Epoch 1/100\n",
      "1047/1047 [==============================] - 1s 588us/step - loss: 3.4329 - f1: 0.5513 - val_loss: 4.4179 - val_f1: 0.5232\n",
      "Epoch 2/100\n",
      "1047/1047 [==============================] - 0s 39us/step - loss: 3.8007 - f1: 0.5132 - val_loss: 4.1173 - val_f1: 0.5361\n",
      "Epoch 3/100\n",
      "1047/1047 [==============================] - 0s 40us/step - loss: 3.3062 - f1: 0.5443 - val_loss: 2.6152 - val_f1: 0.5212\n",
      "Epoch 4/100\n",
      "1047/1047 [==============================] - 0s 48us/step - loss: 2.4082 - f1: 0.5572 - val_loss: 2.1770 - val_f1: 0.5208\n",
      "Epoch 5/100\n",
      "1047/1047 [==============================] - 0s 39us/step - loss: 3.3367 - f1: 0.3584 - val_loss: 5.6869 - val_f1: 0.0628\n",
      "Epoch 6/100\n",
      "1047/1047 [==============================] - 0s 37us/step - loss: 4.8919 - f1: 0.2222 - val_loss: 4.7331 - val_f1: 0.2949\n",
      "Epoch 7/100\n",
      "1047/1047 [==============================] - 0s 38us/step - loss: 4.7557 - f1: 0.3188 - val_loss: 4.7294 - val_f1: 0.2949\n",
      "Epoch 8/100\n",
      "1047/1047 [==============================] - 0s 40us/step - loss: 4.6875 - f1: 0.3280 - val_loss: 4.6889 - val_f1: 0.3065\n",
      "Epoch 9/100\n",
      "1047/1047 [==============================] - 0s 42us/step - loss: 4.6045 - f1: 0.3114 - val_loss: 4.6240 - val_f1: 0.3375\n",
      "Epoch 10/100\n",
      "1047/1047 [==============================] - 0s 39us/step - loss: 4.5365 - f1: 0.3314 - val_loss: 4.6159 - val_f1: 0.3373\n",
      "Epoch 11/100\n",
      "1047/1047 [==============================] - 0s 41us/step - loss: 4.4563 - f1: 0.3178 - val_loss: 4.6488 - val_f1: 0.2071\n",
      "Epoch 12/100\n",
      "1047/1047 [==============================] - 0s 38us/step - loss: 4.4541 - f1: 0.2770 - val_loss: 4.5224 - val_f1: 0.2700\n",
      "Epoch 13/100\n",
      "1047/1047 [==============================] - 0s 41us/step - loss: 4.4019 - f1: 0.3060 - val_loss: 4.5126 - val_f1: 0.2647\n",
      "Epoch 14/100\n",
      "1047/1047 [==============================] - 0s 38us/step - loss: 4.3636 - f1: 0.3147 - val_loss: 4.4582 - val_f1: 0.2967\n",
      "Epoch 15/100\n",
      "1047/1047 [==============================] - 0s 42us/step - loss: 4.4092 - f1: 0.2628 - val_loss: 4.5217 - val_f1: 0.2573\n",
      "Epoch 16/100\n",
      "1047/1047 [==============================] - 0s 40us/step - loss: 4.3191 - f1: 0.3356 - val_loss: 4.3662 - val_f1: 0.3058\n",
      "Epoch 17/100\n",
      "1047/1047 [==============================] - 0s 40us/step - loss: 4.2411 - f1: 0.3669 - val_loss: 4.2475 - val_f1: 0.3044\n",
      "Epoch 18/100\n",
      "1047/1047 [==============================] - 0s 40us/step - loss: 4.0526 - f1: 0.4318 - val_loss: 3.9113 - val_f1: 0.3405\n",
      "Epoch 19/100\n",
      "1047/1047 [==============================] - 0s 39us/step - loss: 3.6008 - f1: 0.3649 - val_loss: 3.6884 - val_f1: 0.3449\n",
      "Epoch 20/100\n",
      "1047/1047 [==============================] - 0s 39us/step - loss: 3.3074 - f1: 0.3624 - val_loss: 3.4447 - val_f1: 0.3295\n",
      "Epoch 21/100\n",
      "1047/1047 [==============================] - 0s 39us/step - loss: 2.4618 - f1: 0.4228 - val_loss: 2.0707 - val_f1: 0.4476\n",
      "Epoch 22/100\n",
      "1047/1047 [==============================] - 0s 39us/step - loss: 2.5759 - f1: 0.1865 - val_loss: 3.1446 - val_f1: 0.0000e+00\n",
      "Epoch 23/100\n",
      "1047/1047 [==============================] - 0s 40us/step - loss: 2.3668 - f1: 0.1839 - val_loss: 1.7501 - val_f1: 0.5028\n",
      "Epoch 24/100\n",
      "1047/1047 [==============================] - 0s 48us/step - loss: 1.6725 - f1: 0.5559 - val_loss: 1.3729 - val_f1: 0.5047\n",
      "Epoch 25/100\n",
      "1047/1047 [==============================] - 0s 42us/step - loss: 0.9689 - f1: 0.4684 - val_loss: 0.7791 - val_f1: 0.3601\n",
      "Epoch 26/100\n",
      "1047/1047 [==============================] - 0s 41us/step - loss: 0.6963 - f1: 0.4138 - val_loss: 0.7436 - val_f1: 0.2951\n",
      "Epoch 27/100\n",
      "1047/1047 [==============================] - 0s 39us/step - loss: 0.6730 - f1: 0.4480 - val_loss: 0.7539 - val_f1: 0.4243\n",
      "Epoch 28/100\n",
      "1047/1047 [==============================] - 0s 39us/step - loss: 2.3540 - f1: 0.1196 - val_loss: 2.4807 - val_f1: 0.0781\n",
      "Epoch 29/100\n",
      "1047/1047 [==============================] - 0s 39us/step - loss: 2.2999 - f1: 0.3256 - val_loss: 1.4359 - val_f1: 0.3954\n",
      "Epoch 30/100\n",
      "1047/1047 [==============================] - 0s 40us/step - loss: 1.2050 - f1: 0.3477 - val_loss: 1.1796 - val_f1: 0.4739\n",
      "Epoch 31/100\n",
      "1047/1047 [==============================] - 0s 38us/step - loss: 1.0383 - f1: 0.4422 - val_loss: 0.8350 - val_f1: 0.3744\n",
      "Epoch 32/100\n",
      "1047/1047 [==============================] - 0s 38us/step - loss: 0.7523 - f1: 0.4134 - val_loss: 0.7454 - val_f1: 0.4507\n",
      "Epoch 33/100\n",
      "1047/1047 [==============================] - 0s 39us/step - loss: 0.7790 - f1: 0.3533 - val_loss: 0.6194 - val_f1: 0.3785\n",
      "Epoch 34/100\n",
      "1047/1047 [==============================] - 0s 39us/step - loss: 0.8111 - f1: 0.3224 - val_loss: 0.7184 - val_f1: 0.3593\n",
      "Epoch 35/100\n",
      "1047/1047 [==============================] - 0s 40us/step - loss: 0.6744 - f1: 0.3912 - val_loss: 0.7088 - val_f1: 0.5293\n",
      "Epoch 36/100\n",
      "1047/1047 [==============================] - 0s 41us/step - loss: 1.0936 - f1: 0.5680 - val_loss: 1.1152 - val_f1: 0.4512\n",
      "Epoch 37/100\n",
      "1047/1047 [==============================] - 0s 38us/step - loss: 0.7749 - f1: 0.4803 - val_loss: 0.8005 - val_f1: 0.5282\n",
      "Epoch 38/100\n",
      "1047/1047 [==============================] - 0s 43us/step - loss: 0.7423 - f1: 0.5103 - val_loss: 0.7021 - val_f1: 0.5144\n",
      "Epoch 39/100\n",
      "1047/1047 [==============================] - 0s 39us/step - loss: 0.7020 - f1: 0.4763 - val_loss: 0.6879 - val_f1: 0.5144\n",
      "Epoch 40/100\n",
      "1047/1047 [==============================] - 0s 40us/step - loss: 0.6478 - f1: 0.4793 - val_loss: 0.6859 - val_f1: 0.4653\n",
      "Epoch 41/100\n",
      "1047/1047 [==============================] - 0s 40us/step - loss: 0.6306 - f1: 0.4822 - val_loss: 0.6876 - val_f1: 0.4516\n",
      "Epoch 42/100\n",
      "1047/1047 [==============================] - 0s 38us/step - loss: 0.7392 - f1: 0.3931 - val_loss: 0.7490 - val_f1: 0.5661\n",
      "Epoch 43/100\n",
      "1047/1047 [==============================] - 0s 39us/step - loss: 0.6136 - f1: 0.5405 - val_loss: 0.6798 - val_f1: 0.4578\n",
      "Epoch 44/100\n",
      "1047/1047 [==============================] - 0s 38us/step - loss: 0.9508 - f1: 0.5787 - val_loss: 0.9087 - val_f1: 0.5693\n",
      "Epoch 45/100\n",
      "1047/1047 [==============================] - 0s 41us/step - loss: 0.7892 - f1: 0.5085 - val_loss: 0.7817 - val_f1: 0.5282\n",
      "Epoch 46/100\n",
      "1047/1047 [==============================] - 0s 38us/step - loss: 0.6149 - f1: 0.4521 - val_loss: 0.5802 - val_f1: 0.3458\n",
      "Epoch 47/100\n",
      "1047/1047 [==============================] - 0s 44us/step - loss: 0.5536 - f1: 0.5028 - val_loss: 0.6155 - val_f1: 0.4614\n",
      "Epoch 48/100\n",
      "1047/1047 [==============================] - 0s 49us/step - loss: 0.5597 - f1: 0.5176 - val_loss: 0.5641 - val_f1: 0.4231\n",
      "Epoch 49/100\n",
      "1047/1047 [==============================] - 0s 51us/step - loss: 0.5399 - f1: 0.5277 - val_loss: 0.6103 - val_f1: 0.5541\n",
      "Epoch 50/100\n",
      "1047/1047 [==============================] - 0s 53us/step - loss: 0.5884 - f1: 0.5075 - val_loss: 0.6044 - val_f1: 0.5665\n",
      "Epoch 51/100\n",
      "1047/1047 [==============================] - 0s 53us/step - loss: 0.5399 - f1: 0.5972 - val_loss: 0.5508 - val_f1: 0.4842\n",
      "Epoch 52/100\n",
      "1047/1047 [==============================] - 0s 49us/step - loss: 0.5313 - f1: 0.5665 - val_loss: 0.5433 - val_f1: 0.5289\n",
      "Epoch 53/100\n",
      "1047/1047 [==============================] - 0s 54us/step - loss: 0.5289 - f1: 0.5818 - val_loss: 0.5399 - val_f1: 0.5743\n",
      "Epoch 54/100\n",
      "1047/1047 [==============================] - 0s 50us/step - loss: 0.8180 - f1: 0.4888 - val_loss: 1.8321 - val_f1: 0.0509\n",
      "Epoch 55/100\n",
      "1047/1047 [==============================] - 0s 49us/step - loss: 1.6529 - f1: 0.3849 - val_loss: 1.0245 - val_f1: 0.5266\n",
      "Epoch 56/100\n",
      "1047/1047 [==============================] - 0s 49us/step - loss: 0.9265 - f1: 0.5755 - val_loss: 0.7014 - val_f1: 0.6089\n",
      "Epoch 57/100\n",
      "1047/1047 [==============================] - 0s 47us/step - loss: 0.5573 - f1: 0.5923 - val_loss: 0.6474 - val_f1: 0.5917\n",
      "Epoch 58/100\n",
      "1047/1047 [==============================] - 0s 46us/step - loss: 0.7200 - f1: 0.6181 - val_loss: 1.4764 - val_f1: 0.5850\n",
      "Epoch 59/100\n",
      "1047/1047 [==============================] - 0s 47us/step - loss: 0.7837 - f1: 0.6254 - val_loss: 0.7039 - val_f1: 0.5860\n",
      "Epoch 60/100\n",
      "1047/1047 [==============================] - 0s 46us/step - loss: 0.5826 - f1: 0.5735 - val_loss: 0.5075 - val_f1: 0.6104\n",
      "Epoch 61/100\n"
     ]
    },
    {
     "name": "stdout",
     "output_type": "stream",
     "text": [
      "1047/1047 [==============================] - 0s 49us/step - loss: 0.5837 - f1: 0.5752 - val_loss: 0.6463 - val_f1: 0.5510\n",
      "Epoch 62/100\n",
      "1047/1047 [==============================] - 0s 50us/step - loss: 0.8744 - f1: 0.4919 - val_loss: 2.2186 - val_f1: 0.0204\n",
      "Epoch 63/100\n",
      "1047/1047 [==============================] - 0s 50us/step - loss: 1.9650 - f1: 0.3774 - val_loss: 1.3039 - val_f1: 0.5380\n",
      "Epoch 64/100\n",
      "1047/1047 [==============================] - 0s 44us/step - loss: 1.4483 - f1: 0.5154 - val_loss: 0.8487 - val_f1: 0.6128\n",
      "Epoch 65/100\n",
      "1047/1047 [==============================] - 0s 47us/step - loss: 0.6795 - f1: 0.6581 - val_loss: 0.5460 - val_f1: 0.6457\n",
      "Epoch 66/100\n",
      "1047/1047 [==============================] - 0s 49us/step - loss: 0.4823 - f1: 0.6754 - val_loss: 0.4867 - val_f1: 0.6879\n",
      "Epoch 67/100\n",
      "1047/1047 [==============================] - 0s 46us/step - loss: 0.4707 - f1: 0.6921 - val_loss: 0.4770 - val_f1: 0.6986\n",
      "Epoch 68/100\n",
      "1047/1047 [==============================] - 0s 45us/step - loss: 0.4682 - f1: 0.7001 - val_loss: 0.4695 - val_f1: 0.7119\n",
      "Epoch 69/100\n",
      "1047/1047 [==============================] - 0s 46us/step - loss: 0.4820 - f1: 0.6967 - val_loss: 0.6214 - val_f1: 0.6430\n",
      "Epoch 70/100\n",
      "1047/1047 [==============================] - 0s 54us/step - loss: 0.7230 - f1: 0.5919 - val_loss: 0.4753 - val_f1: 0.7099\n",
      "Epoch 71/100\n",
      "1047/1047 [==============================] - 0s 54us/step - loss: 0.4687 - f1: 0.7046 - val_loss: 0.4748 - val_f1: 0.7133\n",
      "Epoch 72/100\n",
      "1047/1047 [==============================] - 0s 53us/step - loss: 0.4635 - f1: 0.6950 - val_loss: 0.4663 - val_f1: 0.7036\n",
      "Epoch 73/100\n",
      "1047/1047 [==============================] - 0s 51us/step - loss: 0.4623 - f1: 0.7248 - val_loss: 0.5185 - val_f1: 0.7008\n",
      "Epoch 74/100\n",
      "1047/1047 [==============================] - 0s 50us/step - loss: 0.4587 - f1: 0.7084 - val_loss: 0.4615 - val_f1: 0.7108\n",
      "Epoch 75/100\n",
      "1047/1047 [==============================] - 0s 49us/step - loss: 0.4523 - f1: 0.7061 - val_loss: 0.4636 - val_f1: 0.7350\n",
      "Epoch 76/100\n",
      "1047/1047 [==============================] - 0s 49us/step - loss: 0.4603 - f1: 0.7132 - val_loss: 0.4552 - val_f1: 0.7426\n",
      "Epoch 77/100\n",
      "1047/1047 [==============================] - 0s 52us/step - loss: 0.4549 - f1: 0.7212 - val_loss: 0.4559 - val_f1: 0.7141\n",
      "Epoch 78/100\n",
      "1047/1047 [==============================] - 0s 46us/step - loss: 0.4516 - f1: 0.7189 - val_loss: 0.4537 - val_f1: 0.7386\n",
      "Epoch 79/100\n",
      "1047/1047 [==============================] - 0s 45us/step - loss: 0.4574 - f1: 0.7032 - val_loss: 0.4539 - val_f1: 0.7277\n",
      "Epoch 80/100\n",
      "1047/1047 [==============================] - 0s 45us/step - loss: 0.4502 - f1: 0.7252 - val_loss: 0.5061 - val_f1: 0.7350\n",
      "Epoch 81/100\n",
      "1047/1047 [==============================] - 0s 50us/step - loss: 0.4628 - f1: 0.7107 - val_loss: 0.4467 - val_f1: 0.7342\n",
      "Epoch 82/100\n",
      "1047/1047 [==============================] - 0s 47us/step - loss: 0.4470 - f1: 0.7244 - val_loss: 0.4521 - val_f1: 0.7173\n",
      "Epoch 83/100\n",
      "1047/1047 [==============================] - 0s 45us/step - loss: 0.4590 - f1: 0.7248 - val_loss: 0.4448 - val_f1: 0.7342\n",
      "Epoch 84/100\n",
      "1047/1047 [==============================] - 0s 45us/step - loss: 0.4451 - f1: 0.7205 - val_loss: 0.4429 - val_f1: 0.7342\n",
      "Epoch 85/100\n",
      "1047/1047 [==============================] - 0s 47us/step - loss: 0.4450 - f1: 0.7177 - val_loss: 0.4415 - val_f1: 0.7342\n",
      "Epoch 86/100\n",
      "1047/1047 [==============================] - 0s 45us/step - loss: 0.4467 - f1: 0.7280 - val_loss: 0.4418 - val_f1: 0.7389\n",
      "Epoch 87/100\n",
      "1047/1047 [==============================] - 0s 46us/step - loss: 2.9721 - f1: 0.3570 - val_loss: 5.7767 - val_f1: 0.0000e+00\n",
      "Epoch 88/100\n",
      "1047/1047 [==============================] - 0s 49us/step - loss: 5.6894 - f1: 0.0000e+00 - val_loss: 5.4932 - val_f1: 0.0000e+00\n",
      "Epoch 89/100\n",
      "1047/1047 [==============================] - 0s 51us/step - loss: 5.5518 - f1: 0.0044 - val_loss: 5.0466 - val_f1: 0.0000e+00\n",
      "Epoch 90/100\n",
      "1047/1047 [==============================] - 0s 51us/step - loss: 3.0920 - f1: 0.3443 - val_loss: 1.6514 - val_f1: 0.6027\n",
      "Epoch 91/100\n",
      "1047/1047 [==============================] - 0s 51us/step - loss: 0.8878 - f1: 0.6521 - val_loss: 0.5595 - val_f1: 0.7482\n",
      "Epoch 92/100\n",
      "1047/1047 [==============================] - 0s 51us/step - loss: 0.5326 - f1: 0.7056 - val_loss: 0.5047 - val_f1: 0.7460\n",
      "Epoch 93/100\n",
      "1047/1047 [==============================] - 0s 51us/step - loss: 0.4674 - f1: 0.7168 - val_loss: 0.4952 - val_f1: 0.7346\n",
      "Epoch 94/100\n",
      "1047/1047 [==============================] - 0s 51us/step - loss: 0.4953 - f1: 0.6995 - val_loss: 0.5653 - val_f1: 0.6976\n",
      "Epoch 95/100\n",
      "1047/1047 [==============================] - 0s 49us/step - loss: 0.5457 - f1: 0.7054 - val_loss: 0.4489 - val_f1: 0.7580\n",
      "Epoch 96/100\n",
      "1047/1047 [==============================] - 0s 53us/step - loss: 0.4773 - f1: 0.7012 - val_loss: 0.4405 - val_f1: 0.7476\n",
      "Epoch 97/100\n",
      "1047/1047 [==============================] - 0s 50us/step - loss: 3.8644 - f1: 0.6451 - val_loss: 9.7360 - val_f1: 0.5547\n",
      "Epoch 98/100\n",
      "1047/1047 [==============================] - 0s 50us/step - loss: 9.8677 - f1: 0.5462 - val_loss: 9.7358 - val_f1: 0.5547\n",
      "Epoch 99/100\n",
      "1047/1047 [==============================] - 0s 50us/step - loss: 9.8676 - f1: 0.5468 - val_loss: 9.7358 - val_f1: 0.5547\n",
      "Epoch 100/100\n",
      "1047/1047 [==============================] - 0s 51us/step - loss: 9.8675 - f1: 0.5460 - val_loss: 9.7358 - val_f1: 0.5547\n"
     ]
    },
    {
     "data": {
      "text/plain": [
       "<keras.callbacks.History at 0x7fe55b6dd128>"
      ]
     },
     "execution_count": 34,
     "metadata": {},
     "output_type": "execute_result"
    }
   ],
   "source": [
    "model.fit(X_train, y_train, epochs=100, verbose=1, validation_data=(X_test, y_test))"
   ]
  },
  {
   "cell_type": "code",
   "execution_count": 14,
   "metadata": {},
   "outputs": [
    {
     "name": "stdout",
     "output_type": "stream",
     "text": [
      "_________________________________________________________________\n",
      "Layer (type)                 Output Shape              Param #   \n",
      "=================================================================\n",
      "conv1d_4 (Conv1D)            (None, 1, 6)              222       \n",
      "_________________________________________________________________\n",
      "max_pooling1d_4 (MaxPooling1 (None, 1, 6)              0         \n",
      "_________________________________________________________________\n",
      "flatten_5 (Flatten)          (None, 6)                 0         \n",
      "_________________________________________________________________\n",
      "dense_9 (Dense)              (None, 50)                350       \n",
      "_________________________________________________________________\n",
      "dense_10 (Dense)             (None, 1)                 51        \n",
      "=================================================================\n",
      "Total params: 623\n",
      "Trainable params: 623\n",
      "Non-trainable params: 0\n",
      "_________________________________________________________________\n"
     ]
    }
   ],
   "source": [
    "model.summary()"
   ]
  },
  {
   "cell_type": "markdown",
   "metadata": {},
   "source": [
    "### 2.2 conv2D"
   ]
  },
  {
   "cell_type": "code",
   "execution_count": 7,
   "metadata": {},
   "outputs": [
    {
     "name": "stderr",
     "output_type": "stream",
     "text": [
      "/opt/conda/lib/python3.7/site-packages/sklearn/preprocessing/_encoders.py:371: FutureWarning: The handling of integer data will change in version 0.22. Currently, the categories are determined based on the range [0, max(values)], while in the future they will be determined based on the unique values.\n",
      "If you want the future behaviour and silence this warning, you can specify \"categories='auto'\".\n",
      "In case you used a LabelEncoder before this OneHotEncoder to convert the categories to integers, then you can now use the OneHotEncoder directly.\n",
      "  warnings.warn(msg, FutureWarning)\n",
      "/opt/conda/lib/python3.7/site-packages/sklearn/preprocessing/_encoders.py:392: DeprecationWarning: The 'categorical_features' keyword is deprecated in version 0.20 and will be removed in 0.22. You can use the ColumnTransformer instead.\n",
      "  \"use the ColumnTransformer instead.\", DeprecationWarning)\n"
     ]
    }
   ],
   "source": [
    "X_train, X_test, y_train, y_test = utils.get_titanic_dataset(cnn_conv2d=True)"
   ]
  },
  {
   "cell_type": "code",
   "execution_count": 8,
   "metadata": {},
   "outputs": [],
   "source": [
    "model = keras_cnn(filter_size=(1,1), input_shape=(1, 36, 1), max_pooling=(1,1))"
   ]
  },
  {
   "cell_type": "code",
   "execution_count": 9,
   "metadata": {},
   "outputs": [
    {
     "name": "stdout",
     "output_type": "stream",
     "text": [
      "Train on 1047 samples, validate on 262 samples\n",
      "Epoch 1/10\n",
      "1047/1047 [==============================] - 0s 439us/step - loss: 0.6271 - f1: 0.4542 - val_loss: 0.6039 - val_f1: 0.0889\n",
      "Epoch 2/10\n",
      "1047/1047 [==============================] - 0s 143us/step - loss: 0.5197 - f1: 0.6208 - val_loss: 0.5316 - val_f1: 0.7017\n",
      "Epoch 3/10\n",
      "1047/1047 [==============================] - 0s 132us/step - loss: 0.4850 - f1: 0.6872 - val_loss: 0.5131 - val_f1: 0.7045\n",
      "Epoch 4/10\n",
      "1047/1047 [==============================] - 0s 139us/step - loss: 0.4550 - f1: 0.7123 - val_loss: 0.4936 - val_f1: 0.7233\n",
      "Epoch 5/10\n",
      "1047/1047 [==============================] - 0s 131us/step - loss: 0.4496 - f1: 0.7088 - val_loss: 0.4980 - val_f1: 0.7148\n",
      "Epoch 6/10\n",
      "1047/1047 [==============================] - 0s 123us/step - loss: 0.4402 - f1: 0.7119 - val_loss: 0.4740 - val_f1: 0.7268\n",
      "Epoch 7/10\n",
      "1047/1047 [==============================] - 0s 119us/step - loss: 0.4500 - f1: 0.7068 - val_loss: 0.4762 - val_f1: 0.7469\n",
      "Epoch 8/10\n",
      "1047/1047 [==============================] - 0s 122us/step - loss: 0.4503 - f1: 0.7035 - val_loss: 0.4886 - val_f1: 0.7047\n",
      "Epoch 9/10\n",
      "1047/1047 [==============================] - 0s 126us/step - loss: 0.4635 - f1: 0.6891 - val_loss: 0.4730 - val_f1: 0.7136\n",
      "Epoch 10/10\n",
      "1047/1047 [==============================] - 0s 123us/step - loss: 0.4299 - f1: 0.7240 - val_loss: 0.4812 - val_f1: 0.7286\n"
     ]
    },
    {
     "data": {
      "text/plain": [
       "<keras.callbacks.History at 0x7fe5de560908>"
      ]
     },
     "execution_count": 9,
     "metadata": {},
     "output_type": "execute_result"
    }
   ],
   "source": [
    "model.fit(X_train, y_train, epochs=10, verbose=1, validation_data=(X_test, y_test))"
   ]
  },
  {
   "cell_type": "code",
   "execution_count": null,
   "metadata": {},
   "outputs": [],
   "source": [
    "#img_rows, img_cols = 1,36\n",
    "#nb_filters = 1000\n",
    "#pool_size = (1, 1)\n",
    "#kernel_size = (1, 1)"
   ]
  },
  {
   "cell_type": "code",
   "execution_count": null,
   "metadata": {},
   "outputs": [],
   "source": []
  },
  {
   "cell_type": "code",
   "execution_count": null,
   "metadata": {},
   "outputs": [],
   "source": []
  },
  {
   "cell_type": "code",
   "execution_count": null,
   "metadata": {},
   "outputs": [],
   "source": []
  },
  {
   "cell_type": "code",
   "execution_count": null,
   "metadata": {},
   "outputs": [],
   "source": []
  },
  {
   "cell_type": "code",
   "execution_count": null,
   "metadata": {},
   "outputs": [],
   "source": [
    "from keras.layers import Dense, Activation, Dropout, Convolution2D, MaxPooling2D, Flatten\n",
    "\n",
    "model = Sequential()\n",
    "model.add(Convolution2D(nb_filters, filter_size=(1,1),\n",
    "                        border_mode='valid',\n",
    "                        input_shape=input_shape))\n",
    "model.add(Activation('relu'))\n",
    "model.add(Convolution2D(nb_filters, kernel_size[0], kernel_size[1]))\n",
    "model.add(Activation('relu'))\n",
    "model.add(MaxPooling2D(pool_size=pool_size))\n",
    "model.add(Dropout(0.25))\n",
    "\n",
    "model.add(Flatten())\n",
    "model.add(Dense(128))\n",
    "model.add(Activation('tanh'))\n",
    "model.add(Dropout(0.25))\n",
    "model.add(Dense(2))\n",
    "model.add(Activation('sigmoid'))\n",
    "model.compile(loss='mean_squared_error', optimizer='Nadam', metrics=['binary_accuracy'])\n",
    "\n",
    "model.fit(X_train, y_train_onehot, epochs=30)"
   ]
  },
  {
   "cell_type": "code",
   "execution_count": null,
   "metadata": {},
   "outputs": [],
   "source": []
  },
  {
   "cell_type": "code",
   "execution_count": null,
   "metadata": {},
   "outputs": [],
   "source": [
    "from keras.layers import Dense, Activation, Dropout, Convolution2D, MaxPooling2D, Flatten\n",
    "\n",
    "model = models.Sequential()\n",
    "model.add(layers.Conv2D(32, filter_size=(1,1), activation=\"relu\", input_shape=input_shape))\n",
    "model.add(layers.MaxPooling2D(pool_size))\n",
    "model.add(layers.Conv2D(32, filter_size=(1,1), activation=\"relu\"))\n",
    "model.add(layers.MaxPooling2D(pool_size))\n",
    "\n",
    "model.add(layers.Flatten())\n",
    "model.add(layers.Dense(dense_layer, activation=activation))\n",
    "model.add(layers.Dense(1, activation=\"sigmoid\"))\n",
    "\n",
    "model.compile(loss='mean_squared_error', optimizer='Nadam', metrics=['binary_accuracy'])\n",
    "\n",
    "model.fit(X_train, y_train_onehot, epochs=30)"
   ]
  },
  {
   "cell_type": "code",
   "execution_count": null,
   "metadata": {},
   "outputs": [],
   "source": [
    "X_train = X_train.as_matrix().reshape((len(X_train), 15))\n",
    "y_train = y_train.as_matrix().reshape((len(y_train), 1))\n",
    "X_test = X_test.as_matrix().reshape((len(X_test), 15))\n",
    "y_test = y_test.as_matrix().reshape((len(y_test), 1))\n",
    "\n",
    "train_dataset=hstack((X_train,y_train))\n",
    "test_dataset=hstack((X_test,y_test))\n",
    "\n",
    "def split_sequences(sequences, n_steps):\n",
    "    X, y = list(), list()\n",
    "    for i in range(len(sequences)):\n",
    "        # find the end of this pattern\n",
    "        end_ix = i + n_steps\n",
    "        # check if we are beyond the dataset\n",
    "        if end_ix > len(sequences):\n",
    "            break\n",
    "        # gather input and output parts of the pattern\n",
    "        seq_x, seq_y = sequences[i:end_ix, :-1], sequences[end_ix-1, -1]\n",
    "        X.append(seq_x)\n",
    "        y.append(seq_y)\n",
    "    return array(X), array(y)\n",
    "\n",
    "X_train, y_train = split_sequences(train_dataset, 3)\n",
    "X_test, y_test = split_sequences(test_dataset, 3)"
   ]
  },
  {
   "cell_type": "code",
   "execution_count": null,
   "metadata": {},
   "outputs": [],
   "source": [
    "def keras_cnn_conv1D(filters=64, n_layers=2, kernel_size=2, activation=\"relu\", \n",
    "               input_shape =(3,15), pool_size=2, dense_layer=50, \n",
    "               loss=\"binary_crossentropy\",optimizer=\"adam\",metrics=\"acc\"):\n",
    "\n",
    "    model = Sequential()\n",
    "    model.add(Conv1D(filters=filters, kernel_size=kernel_size, activation=activation, input_shape=input_shape))\n",
    "    model.add(MaxPooling1D(pool_size=pool_size))\n",
    "    for num in range(n_layers-2):\n",
    "        model.add(Conv1D(filters=filters, kernel_size=kernen_size, activation=activation, input_shape=input_shape))\n",
    "        model.add(MaxPooling1D(pool_size=pool_size))    \n",
    "    model.add(Flatten())\n",
    "    model.add(Dense(dense_layer, activation=activation))\n",
    "    model.add(Dense(1))\n",
    "    \n",
    "    model.compile(optimizer=optimizer,\n",
    "                  loss=loss,\n",
    "                  metrics=[metrics])\n",
    "    \n",
    "    return model"
   ]
  }
 ],
 "metadata": {
  "kernelspec": {
   "display_name": "Python 3",
   "language": "python",
   "name": "python3"
  },
  "language_info": {
   "codemirror_mode": {
    "name": "ipython",
    "version": 3
   },
   "file_extension": ".py",
   "mimetype": "text/x-python",
   "name": "python",
   "nbconvert_exporter": "python",
   "pygments_lexer": "ipython3",
   "version": "3.7.1"
  }
 },
 "nbformat": 4,
 "nbformat_minor": 2
}
