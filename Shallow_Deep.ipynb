{
 "cells": [
  {
   "cell_type": "markdown",
   "metadata": {},
   "source": [
    "### Fitting DataSets to Shallow and Deep Neural Net"
   ]
  },
  {
   "cell_type": "markdown",
   "metadata": {},
   "source": [
    "#### Easy (Titanic)"
   ]
  },
  {
   "cell_type": "markdown",
   "metadata": {},
   "source": [
    "Preprocessing"
   ]
  },
  {
   "cell_type": "code",
   "execution_count": 1,
   "metadata": {},
   "outputs": [
    {
     "name": "stderr",
     "output_type": "stream",
     "text": [
      "Using TensorFlow backend.\n"
     ]
    }
   ],
   "source": [
    "# import all packages\n",
    "import pandas as pd\n",
    "import numpy as np\n",
    "import re\n",
    "import keras\n",
    "from keras import models\n",
    "from keras import layers\n",
    "import matplotlib.pyplot as plt\n",
    "from sklearn.model_selection import train_test_split\n",
    "from sklearn.preprocessing import OneHotEncoder"
   ]
  },
  {
   "cell_type": "code",
   "execution_count": 2,
   "metadata": {},
   "outputs": [],
   "source": [
    "# Preprossed as suggested here\n",
    "# https://towardsdatascience.com/predicting-the-survival-of-titanic-passengers-30870ccc7e8"
   ]
  },
  {
   "cell_type": "code",
   "execution_count": 3,
   "metadata": {},
   "outputs": [],
   "source": [
    "# Load data\n",
    "titanic = pd.read_csv(r\"C:\\Users\\Axel\\Documents\\Nova_IMS\\2_Semester\\Deep Learning\\Project\\DLProject\\data_files\\Easy\\titanic.csv\")"
   ]
  },
  {
   "cell_type": "code",
   "execution_count": 4,
   "metadata": {},
   "outputs": [],
   "source": [
    "# Drop ticket, home.dest, boat, body\n",
    "titanic = titanic.drop(['ticket', 'home.dest', 'boat', 'body'], axis=1)"
   ]
  },
  {
   "cell_type": "code",
   "execution_count": 5,
   "metadata": {},
   "outputs": [],
   "source": [
    "# Deal with cabin missing values\n",
    "deck = {\"A\": 1, \"B\": 2, \"C\": 3, \"D\": 4, \"E\": 5, \"F\": 6, \"G\": 7, \"U\": 8}\n",
    "\n",
    "titanic['cabin'] = titanic['cabin'].fillna(\"U0\")\n",
    "titanic['deck'] = titanic['cabin'].map(lambda x: re.compile(\"([a-zA-Z]+)\").search(x).group())\n",
    "titanic['deck'] = titanic['deck'].map(deck)\n",
    "titanic['deck'] = titanic['deck'].fillna(0)\n",
    "titanic['deck'] = titanic['deck'].astype(int)\n",
    "# we can now drop the cabin feature\n",
    "titanic = titanic.drop(['cabin'], axis=1)"
   ]
  },
  {
   "cell_type": "code",
   "execution_count": 6,
   "metadata": {},
   "outputs": [],
   "source": [
    "# Deal with Age missing values\n",
    "mean = titanic[\"age\"].mean()\n",
    "std = titanic[\"age\"].std()\n",
    "is_null = titanic[\"age\"].isnull().sum()\n",
    "# compute random numbers between the mean, std and is_null\n",
    "rand_age = np.random.randint(mean - std, mean + std, size = is_null)\n",
    "# fill NaN values in Age column with random values generated\n",
    "age_slice = titanic[\"age\"].copy()\n",
    "age_slice[np.isnan(age_slice)] = rand_age\n",
    "titanic[\"age\"] = age_slice\n",
    "titanic[\"age\"] = titanic[\"age\"].astype(int)"
   ]
  },
  {
   "cell_type": "code",
   "execution_count": 7,
   "metadata": {},
   "outputs": [],
   "source": [
    "# Deal with Embarked missing values\n",
    "common_value = 'S'\n",
    "titanic['embarked'] = titanic['embarked'].fillna(common_value)"
   ]
  },
  {
   "cell_type": "code",
   "execution_count": 8,
   "metadata": {},
   "outputs": [],
   "source": [
    "# Converting Fares\n",
    "titanic['fare'] = titanic['fare'].fillna(0)\n",
    "titanic['fare'] = titanic['fare'].astype(int)"
   ]
  },
  {
   "cell_type": "code",
   "execution_count": 9,
   "metadata": {},
   "outputs": [],
   "source": [
    "# Converting Names\n",
    "titles = {\"Mr\": 1, \"Miss\": 2, \"Mrs\": 3, \"Master\": 4, \"Rare\": 5}\n",
    "\n",
    "# extract titles\n",
    "titanic['title'] = titanic.name.str.extract(' ([A-Za-z]+)\\.', expand=False)\n",
    "# replace titles with a more common title or as Rare\n",
    "titanic['title'] = titanic['title'].replace(['Lady', 'Countess','Capt', 'Col','Don', 'Dr',\\\n",
    "                                            'Major', 'Rev', 'Sir', 'Jonkheer', 'Dona'], 'Rare')\n",
    "titanic['title'] = titanic['title'].replace('Mlle', 'Miss')\n",
    "titanic['title'] = titanic['title'].replace('Ms', 'Miss')\n",
    "titanic['title'] = titanic['title'].replace('Mme', 'Mrs')\n",
    "# convert titles into numbers\n",
    "titanic['title'] = titanic['title'].map(titles)\n",
    "# filling NaN with 0, to get safe\n",
    "titanic['title'] = titanic['title'].fillna(0)\n",
    "titanic = titanic.drop(['name'], axis=1)"
   ]
  },
  {
   "cell_type": "code",
   "execution_count": 10,
   "metadata": {},
   "outputs": [],
   "source": [
    "# Converting Sex\n",
    "genders = {\"male\": 0, \"female\": 1}\n",
    "titanic['sex'] = titanic['sex'].map(genders)"
   ]
  },
  {
   "cell_type": "code",
   "execution_count": 11,
   "metadata": {},
   "outputs": [],
   "source": [
    "# Converting Embarked\n",
    "ports = {\"S\": 0, \"C\": 1, \"Q\": 2}\n",
    "titanic['embarked'] = titanic['embarked'].map(ports)"
   ]
  },
  {
   "cell_type": "code",
   "execution_count": 12,
   "metadata": {},
   "outputs": [],
   "source": [
    "# Rearrange columns\n",
    "titanic = titanic[['pclass', \"sex\",\"age\",\"sibsp\",\"parch\",\"fare\", \"embarked\", \"deck\", \"title\", \"survived\"]]"
   ]
  },
  {
   "cell_type": "code",
   "execution_count": 14,
   "metadata": {},
   "outputs": [
    {
     "name": "stderr",
     "output_type": "stream",
     "text": [
      "C:\\Users\\Axel\\Anaconda3\\lib\\site-packages\\sklearn\\preprocessing\\_encoders.py:363: FutureWarning: The handling of integer data will change in version 0.22. Currently, the categories are determined based on the range [0, max(values)], while in the future they will be determined based on the unique values.\n",
      "If you want the future behaviour and silence this warning, you can specify \"categories='auto'\".\n",
      "In case you used a LabelEncoder before this OneHotEncoder to convert the categories to integers, then you can now use the OneHotEncoder directly.\n",
      "  warnings.warn(msg, FutureWarning)\n",
      "C:\\Users\\Axel\\Anaconda3\\lib\\site-packages\\sklearn\\preprocessing\\_encoders.py:385: DeprecationWarning: The 'categorical_features' keyword is deprecated in version 0.20 and will be removed in 0.22. You can use the ColumnTransformer instead.\n",
      "  \"use the ColumnTransformer instead.\", DeprecationWarning)\n"
     ]
    }
   ],
   "source": [
    "# Encode with one hot encoder\n",
    "onehotencoder = OneHotEncoder(categorical_features = [0, 3, 4, 7, 8])\n",
    "titanic = onehotencoder.fit_transform(titanic).toarray()"
   ]
  },
  {
   "cell_type": "code",
   "execution_count": 15,
   "metadata": {},
   "outputs": [],
   "source": [
    "# back to df after encoding\n",
    "titanic = pd.DataFrame(titanic)"
   ]
  },
  {
   "cell_type": "markdown",
   "metadata": {},
   "source": [
    "Split to train and test set"
   ]
  },
  {
   "cell_type": "code",
   "execution_count": 17,
   "metadata": {},
   "outputs": [],
   "source": [
    "# Create train, test set\n",
    "y = titanic[36]\n",
    "X = titanic.drop(36, axis=1)\n",
    "\n",
    "X_train, X_test, y_train, y_test = train_test_split(X, y, test_size=0.3, random_state=42)"
   ]
  },
  {
   "cell_type": "code",
   "execution_count": 18,
   "metadata": {},
   "outputs": [],
   "source": [
    "# get validation set\n",
    "x_val = X_train[:100]\n",
    "partial_X_train = X_train[100:]\n",
    "y_val = y_train[:100]\n",
    "partial_y_train = y_train[100:]"
   ]
  },
  {
   "cell_type": "markdown",
   "metadata": {},
   "source": [
    "Shallow Neural Net"
   ]
  },
  {
   "cell_type": "code",
   "execution_count": 19,
   "metadata": {},
   "outputs": [],
   "source": [
    "def keras_shallow(input_dim=39, n_layers=3, n_neurons=6, r_dropout=0.5, optimizer=\"rmsprop\", loss=\"binary_crossentropy\", init=\"uniform\", metrics=[\"accuracy\"], random_state=42):\n",
    "    \"\"\"\n",
    "    shallow neural net, define the amount of layers either having 1 or 2 hidden layers., which optimizer you want to use and which loss function you want to apply.\n",
    "    \"\"\" \n",
    "    np.random.seed(random_state)\n",
    "    \n",
    "\n",
    "    from keras import backend as K\n",
    "    K.clear_session()\n",
    "\n",
    "\n",
    "    model = models.Sequential()\n",
    "    model.add(layers.Dense(n_neurons, activation=\"relu\", input_dim=input_dim))\n",
    "    model.add(layers.Dropout(r_dropout))\n",
    "    for num in range(n_layers-2):\n",
    "        model.add(layers.Dense(n_neurons, activation=\"relu\"))\n",
    "        model.add(layers.Dropout(r_dropout))\n",
    "    model.add(layers.Dense(1, activation=\"sigmoid\", init=init))\n",
    "    model.compile(optimizer, loss, metrics=metrics)\n",
    "    \n",
    "    return model"
   ]
  },
  {
   "cell_type": "code",
   "execution_count": 20,
   "metadata": {},
   "outputs": [
    {
     "name": "stdout",
     "output_type": "stream",
     "text": [
      "WARNING:tensorflow:From C:\\Users\\Axel\\Anaconda3\\lib\\site-packages\\tensorflow\\python\\framework\\op_def_library.py:263: colocate_with (from tensorflow.python.framework.ops) is deprecated and will be removed in a future version.\n",
      "Instructions for updating:\n",
      "Colocations handled automatically by placer.\n",
      "WARNING:tensorflow:From C:\\Users\\Axel\\Anaconda3\\lib\\site-packages\\keras\\backend\\tensorflow_backend.py:3445: calling dropout (from tensorflow.python.ops.nn_ops) with keep_prob is deprecated and will be removed in a future version.\n",
      "Instructions for updating:\n",
      "Please use `rate` instead of `keep_prob`. Rate should be set to `rate = 1 - keep_prob`.\n"
     ]
    },
    {
     "name": "stderr",
     "output_type": "stream",
     "text": [
      "C:\\Users\\Axel\\Anaconda3\\lib\\site-packages\\ipykernel_launcher.py:18: UserWarning: Update your `Dense` call to the Keras 2 API: `Dense(1, activation=\"sigmoid\", kernel_initializer=\"uniform\")`\n"
     ]
    }
   ],
   "source": [
    "shallow_nn = keras_shallow(input_dim=len(X_train.columns))"
   ]
  },
  {
   "cell_type": "code",
   "execution_count": 21,
   "metadata": {},
   "outputs": [
    {
     "name": "stdout",
     "output_type": "stream",
     "text": [
      "WARNING:tensorflow:From C:\\Users\\Axel\\Anaconda3\\lib\\site-packages\\tensorflow\\python\\ops\\math_ops.py:3066: to_int32 (from tensorflow.python.ops.math_ops) is deprecated and will be removed in a future version.\n",
      "Instructions for updating:\n",
      "Use tf.cast instead.\n",
      "Train on 816 samples, validate on 100 samples\n",
      "Epoch 1/20\n",
      "816/816 [==============================] - 1s 702us/step - loss: 0.6820 - acc: 0.6017 - val_loss: 0.6817 - val_acc: 0.6800\n",
      "Epoch 2/20\n",
      "816/816 [==============================] - 0s 11us/step - loss: 0.6814 - acc: 0.5931 - val_loss: 0.6795 - val_acc: 0.6800\n",
      "Epoch 3/20\n",
      "816/816 [==============================] - 0s 10us/step - loss: 0.6709 - acc: 0.6434 - val_loss: 0.6751 - val_acc: 0.6800\n",
      "Epoch 4/20\n",
      "816/816 [==============================] - 0s 9us/step - loss: 0.6746 - acc: 0.6091 - val_loss: 0.6725 - val_acc: 0.6700\n",
      "Epoch 5/20\n",
      "816/816 [==============================] - 0s 14us/step - loss: 0.6704 - acc: 0.6115 - val_loss: 0.6698 - val_acc: 0.6700\n",
      "Epoch 6/20\n",
      "816/816 [==============================] - 0s 10us/step - loss: 0.6693 - acc: 0.6189 - val_loss: 0.6692 - val_acc: 0.6700\n",
      "Epoch 7/20\n",
      "816/816 [==============================] - 0s 10us/step - loss: 0.6685 - acc: 0.6348 - val_loss: 0.6687 - val_acc: 0.6700\n",
      "Epoch 8/20\n",
      "816/816 [==============================] - 0s 11us/step - loss: 0.6729 - acc: 0.6348 - val_loss: 0.6688 - val_acc: 0.6700\n",
      "Epoch 9/20\n",
      "816/816 [==============================] - 0s 10us/step - loss: 0.6791 - acc: 0.6348 - val_loss: 0.6687 - val_acc: 0.6700\n",
      "Epoch 10/20\n",
      "816/816 [==============================] - 0s 10us/step - loss: 0.6684 - acc: 0.6348 - val_loss: 0.6675 - val_acc: 0.6700\n",
      "Epoch 11/20\n",
      "816/816 [==============================] - 0s 10us/step - loss: 0.6676 - acc: 0.6348 - val_loss: 0.6674 - val_acc: 0.6700\n",
      "Epoch 12/20\n",
      "816/816 [==============================] - 0s 10us/step - loss: 0.6711 - acc: 0.6348 - val_loss: 0.6692 - val_acc: 0.6700\n",
      "Epoch 13/20\n",
      "816/816 [==============================] - 0s 10us/step - loss: 0.6618 - acc: 0.6348 - val_loss: 0.6668 - val_acc: 0.6700\n",
      "Epoch 14/20\n",
      "816/816 [==============================] - 0s 10us/step - loss: 0.6621 - acc: 0.6348 - val_loss: 0.6655 - val_acc: 0.6700\n",
      "Epoch 15/20\n",
      "816/816 [==============================] - 0s 10us/step - loss: 0.6669 - acc: 0.6348 - val_loss: 0.6652 - val_acc: 0.6700\n",
      "Epoch 16/20\n",
      "816/816 [==============================] - 0s 10us/step - loss: 0.6662 - acc: 0.6348 - val_loss: 0.6646 - val_acc: 0.6700\n",
      "Epoch 17/20\n",
      "816/816 [==============================] - 0s 11us/step - loss: 0.6625 - acc: 0.6348 - val_loss: 0.6632 - val_acc: 0.6700\n",
      "Epoch 18/20\n",
      "816/816 [==============================] - 0s 18us/step - loss: 0.6604 - acc: 0.6348 - val_loss: 0.6636 - val_acc: 0.6700\n",
      "Epoch 19/20\n",
      "816/816 [==============================] - 0s 12us/step - loss: 0.6573 - acc: 0.6348 - val_loss: 0.6611 - val_acc: 0.6700\n",
      "Epoch 20/20\n",
      "816/816 [==============================] - 0s 10us/step - loss: 0.6615 - acc: 0.6348 - val_loss: 0.6598 - val_acc: 0.6700\n"
     ]
    }
   ],
   "source": [
    "history_shallow = shallow_nn.fit(partial_X_train, partial_y_train, epochs=20, batch_size=512, validation_data=(x_val, y_val))"
   ]
  },
  {
   "cell_type": "code",
   "execution_count": 22,
   "metadata": {},
   "outputs": [],
   "source": [
    "history_dict = history_shallow.history"
   ]
  },
  {
   "cell_type": "code",
   "execution_count": 23,
   "metadata": {},
   "outputs": [
    {
     "data": {
      "image/png": "[encoded data removed]",
      "text/plain": [
       "<Figure size 432x288 with 1 Axes>"
      ]
     },
     "metadata": {
      "needs_background": "light"
     },
     "output_type": "display_data"
    }
   ],
   "source": [
    "loss_values = history_dict[\"loss\"]\n",
    "val_loss_values = history_dict[\"val_loss\"]\n",
    "\n",
    "epochs = range(1, len(loss_values)+1)\n",
    "\n",
    "plt.plot(epochs, loss_values, \"bo\", label=\"Training loss\")\n",
    "plt.plot(epochs, val_loss_values, \"b\", label=\"Validation loss\")\n",
    "plt.title(\"Training and validation loss\")\n",
    "plt.xlabel(\"Epochs\")\n",
    "plt.ylabel(\"Loss\")\n",
    "plt.legend()\n",
    "\n",
    "plt.show()"
   ]
  },
  {
   "cell_type": "code",
   "execution_count": 24,
   "metadata": {},
   "outputs": [
    {
     "data": {
      "image/png": "[encoded data removed]",
      "text/plain": [
       "<Figure size 432x288 with 1 Axes>"
      ]
     },
     "metadata": {
      "needs_background": "light"
     },
     "output_type": "display_data"
    }
   ],
   "source": [
    "plt.clf()\n",
    "acc_values = history_dict[\"acc\"]\n",
    "val_acc_values = history_dict[\"val_acc\"]\n",
    "\n",
    "plt.plot(epochs, acc_values, \"bo\", label=\"Training acc\")\n",
    "plt.plot(epochs, val_acc_values, \"b\", label=\"Validation acc\")\n",
    "plt.title(\"Training and validation accuracy\")\n",
    "plt.xlabel(\"Epochs\")\n",
    "plt.ylabel(\"Acc\")\n",
    "plt.show()"
   ]
  },
  {
   "cell_type": "code",
   "execution_count": 25,
   "metadata": {},
   "outputs": [
    {
     "data": {
      "text/plain": [
       "array([[0.43025687],\n",
       "       [0.47062224],\n",
       "       [0.4197802 ],\n",
       "       [0.433561  ],\n",
       "       [0.43167114],\n",
       "       [0.44039822],\n",
       "       [0.4478532 ],\n",
       "       [0.4491454 ],\n",
       "       [0.43518052],\n",
       "       [0.48380664],\n",
       "       [0.47203586],\n",
       "       [0.47127277],\n",
       "       [0.4757119 ],\n",
       "       [0.4355194 ],\n",
       "       [0.43376356],\n",
       "       [0.45326063],\n",
       "       [0.4213535 ],\n",
       "       [0.4465282 ],\n",
       "       [0.47942173],\n",
       "       [0.46916127],\n",
       "       [0.45673725],\n",
       "       [0.42860112],\n",
       "       [0.454931  ],\n",
       "       [0.4623077 ],\n",
       "       [0.4547601 ],\n",
       "       [0.48573887],\n",
       "       [0.42628732],\n",
       "       [0.44571012],\n",
       "       [0.45326063],\n",
       "       [0.4764664 ],\n",
       "       [0.45073277],\n",
       "       [0.48687553],\n",
       "       [0.4837736 ],\n",
       "       [0.48276076],\n",
       "       [0.48611808],\n",
       "       [0.44567943],\n",
       "       [0.48876864],\n",
       "       [0.44032297],\n",
       "       [0.48768932],\n",
       "       [0.48413774],\n",
       "       [0.4408419 ],\n",
       "       [0.46004662],\n",
       "       [0.4233099 ],\n",
       "       [0.45231143],\n",
       "       [0.4669488 ],\n",
       "       [0.43727684],\n",
       "       [0.43862972],\n",
       "       [0.46226594],\n",
       "       [0.4563563 ],\n",
       "       [0.45360228],\n",
       "       [0.48392364],\n",
       "       [0.4564988 ],\n",
       "       [0.4329027 ],\n",
       "       [0.48485878],\n",
       "       [0.45670342],\n",
       "       [0.46556693],\n",
       "       [0.48924938],\n",
       "       [0.4879122 ],\n",
       "       [0.4390359 ],\n",
       "       [0.45639846],\n",
       "       [0.46566588],\n",
       "       [0.4639082 ],\n",
       "       [0.48924938],\n",
       "       [0.46556693],\n",
       "       [0.48740518],\n",
       "       [0.48008788],\n",
       "       [0.48148862],\n",
       "       [0.37712723],\n",
       "       [0.46318838],\n",
       "       [0.46380362],\n",
       "       [0.45550177],\n",
       "       [0.46853197],\n",
       "       [0.45847693],\n",
       "       [0.44398168],\n",
       "       [0.48695174],\n",
       "       [0.45118544],\n",
       "       [0.42152154],\n",
       "       [0.45546544],\n",
       "       [0.47405982],\n",
       "       [0.4865426 ],\n",
       "       [0.44962078],\n",
       "       [0.48725736],\n",
       "       [0.44877174],\n",
       "       [0.4817237 ],\n",
       "       [0.4507598 ],\n",
       "       [0.41496977],\n",
       "       [0.46828595],\n",
       "       [0.48061025],\n",
       "       [0.46559736],\n",
       "       [0.48275867],\n",
       "       [0.48333156],\n",
       "       [0.437169  ],\n",
       "       [0.45830604],\n",
       "       [0.46715412],\n",
       "       [0.46312872],\n",
       "       [0.47736332],\n",
       "       [0.4250086 ],\n",
       "       [0.48578987],\n",
       "       [0.47857356],\n",
       "       [0.43359667],\n",
       "       [0.4861873 ],\n",
       "       [0.47883698],\n",
       "       [0.455032  ],\n",
       "       [0.45326063],\n",
       "       [0.4478532 ],\n",
       "       [0.44079643],\n",
       "       [0.43035674],\n",
       "       [0.46879977],\n",
       "       [0.44618756],\n",
       "       [0.48176882],\n",
       "       [0.44062924],\n",
       "       [0.3906464 ],\n",
       "       [0.4144009 ],\n",
       "       [0.4707113 ],\n",
       "       [0.48247162],\n",
       "       [0.44079643],\n",
       "       [0.45670342],\n",
       "       [0.48371115],\n",
       "       [0.44079643],\n",
       "       [0.4522001 ],\n",
       "       [0.44608694],\n",
       "       [0.4335366 ],\n",
       "       [0.47484344],\n",
       "       [0.4613822 ],\n",
       "       [0.45315975],\n",
       "       [0.48269314],\n",
       "       [0.48532045],\n",
       "       [0.4347067 ],\n",
       "       [0.48427063],\n",
       "       [0.43575567],\n",
       "       [0.46817484],\n",
       "       [0.45143276],\n",
       "       [0.43499836],\n",
       "       [0.48734942],\n",
       "       [0.45228052],\n",
       "       [0.47412744],\n",
       "       [0.45608702],\n",
       "       [0.454931  ],\n",
       "       [0.46202707],\n",
       "       [0.46327603],\n",
       "       [0.42484167],\n",
       "       [0.45811212],\n",
       "       [0.4566618 ],\n",
       "       [0.48924938],\n",
       "       [0.4412043 ],\n",
       "       [0.44436753],\n",
       "       [0.45315975],\n",
       "       [0.4478532 ],\n",
       "       [0.4623333 ],\n",
       "       [0.43025687],\n",
       "       [0.4570969 ],\n",
       "       [0.4498586 ],\n",
       "       [0.4657617 ],\n",
       "       [0.442762  ],\n",
       "       [0.41236943],\n",
       "       [0.45645553],\n",
       "       [0.48410013],\n",
       "       [0.4555987 ],\n",
       "       [0.46168447],\n",
       "       [0.44608694],\n",
       "       [0.41618976],\n",
       "       [0.45183188],\n",
       "       [0.43693915],\n",
       "       [0.42306358],\n",
       "       [0.48355785],\n",
       "       [0.44123667],\n",
       "       [0.454931  ],\n",
       "       [0.4638067 ],\n",
       "       [0.4197802 ],\n",
       "       [0.4513561 ],\n",
       "       [0.42206   ],\n",
       "       [0.4879122 ],\n",
       "       [0.48256776],\n",
       "       [0.4323237 ],\n",
       "       [0.48450625],\n",
       "       [0.4806464 ],\n",
       "       [0.48924938],\n",
       "       [0.48810714],\n",
       "       [0.4411456 ],\n",
       "       [0.43160468],\n",
       "       [0.46301028],\n",
       "       [0.4448672 ],\n",
       "       [0.46540958],\n",
       "       [0.48746666],\n",
       "       [0.42850617],\n",
       "       [0.45479816],\n",
       "       [0.44432202],\n",
       "       [0.45698997],\n",
       "       [0.46718928],\n",
       "       [0.43724447],\n",
       "       [0.46561477],\n",
       "       [0.48695904],\n",
       "       [0.46434003],\n",
       "       [0.4678311 ],\n",
       "       [0.4247355 ],\n",
       "       [0.4547601 ],\n",
       "       [0.431807  ],\n",
       "       [0.4758916 ],\n",
       "       [0.46953037],\n",
       "       [0.48446465],\n",
       "       [0.48348603],\n",
       "       [0.45536092],\n",
       "       [0.4593778 ],\n",
       "       [0.483282  ],\n",
       "       [0.41955966],\n",
       "       [0.41150463],\n",
       "       [0.41167033],\n",
       "       [0.48550683],\n",
       "       [0.41996664],\n",
       "       [0.4867204 ],\n",
       "       [0.45118544],\n",
       "       [0.48107535],\n",
       "       [0.44975764],\n",
       "       [0.4879122 ],\n",
       "       [0.47114855],\n",
       "       [0.39708015],\n",
       "       [0.4832333 ],\n",
       "       [0.48047826],\n",
       "       [0.48800445],\n",
       "       [0.44255853],\n",
       "       [0.4842145 ],\n",
       "       [0.46065265],\n",
       "       [0.48419306],\n",
       "       [0.4547601 ],\n",
       "       [0.4294791 ],\n",
       "       [0.45249903],\n",
       "       [0.4404567 ],\n",
       "       [0.48819494],\n",
       "       [0.48001504],\n",
       "       [0.45098123],\n",
       "       [0.46292758],\n",
       "       [0.46639952],\n",
       "       [0.44059318],\n",
       "       [0.44432202],\n",
       "       [0.43955606],\n",
       "       [0.46968597],\n",
       "       [0.44062656],\n",
       "       [0.44933158],\n",
       "       [0.44945022],\n",
       "       [0.40030432],\n",
       "       [0.46380362],\n",
       "       [0.40438163],\n",
       "       [0.42118543],\n",
       "       [0.43008792],\n",
       "       [0.46894312],\n",
       "       [0.4246733 ],\n",
       "       [0.481744  ],\n",
       "       [0.45315975],\n",
       "       [0.457897  ],\n",
       "       [0.43727684],\n",
       "       [0.39329275],\n",
       "       [0.37332425],\n",
       "       [0.45183188],\n",
       "       [0.48149484],\n",
       "       [0.4550681 ],\n",
       "       [0.4177069 ],\n",
       "       [0.48924938],\n",
       "       [0.44633627],\n",
       "       [0.48924938],\n",
       "       [0.45537382],\n",
       "       [0.48924938],\n",
       "       [0.48924938],\n",
       "       [0.46202707],\n",
       "       [0.43565533],\n",
       "       [0.48865566],\n",
       "       [0.47755018],\n",
       "       [0.4671357 ],\n",
       "       [0.45622677],\n",
       "       [0.44432202],\n",
       "       [0.4878902 ],\n",
       "       [0.48633948],\n",
       "       [0.4869362 ],\n",
       "       [0.46882898],\n",
       "       [0.44962078],\n",
       "       [0.48523557],\n",
       "       [0.4397325 ],\n",
       "       [0.4086045 ],\n",
       "       [0.46434003],\n",
       "       [0.4624387 ],\n",
       "       [0.4386964 ],\n",
       "       [0.42152154],\n",
       "       [0.44079643],\n",
       "       [0.4535498 ],\n",
       "       [0.436186  ],\n",
       "       [0.45670342],\n",
       "       [0.48693222],\n",
       "       [0.46212828],\n",
       "       [0.4727635 ],\n",
       "       [0.45240358],\n",
       "       [0.45315975],\n",
       "       [0.44265896],\n",
       "       [0.48620647],\n",
       "       [0.46428922],\n",
       "       [0.4866565 ],\n",
       "       [0.45132747],\n",
       "       [0.44608694],\n",
       "       [0.46532056],\n",
       "       [0.4849108 ],\n",
       "       [0.46717325],\n",
       "       [0.44438508],\n",
       "       [0.44782412],\n",
       "       [0.4861907 ],\n",
       "       [0.44608694],\n",
       "       [0.4595383 ],\n",
       "       [0.41808566],\n",
       "       [0.4855344 ],\n",
       "       [0.3838644 ],\n",
       "       [0.41630346],\n",
       "       [0.4180408 ],\n",
       "       [0.4203617 ],\n",
       "       [0.4708783 ],\n",
       "       [0.45772088],\n",
       "       [0.45118544],\n",
       "       [0.40248287],\n",
       "       [0.47422603],\n",
       "       [0.42622164],\n",
       "       [0.4878988 ],\n",
       "       [0.44972154],\n",
       "       [0.48785943],\n",
       "       [0.43045908],\n",
       "       [0.44428858],\n",
       "       [0.44235775],\n",
       "       [0.48358524],\n",
       "       [0.48770374],\n",
       "       [0.4595645 ],\n",
       "       [0.48360384],\n",
       "       [0.4379537 ],\n",
       "       [0.47697416],\n",
       "       [0.42501011],\n",
       "       [0.4884363 ],\n",
       "       [0.48436797],\n",
       "       [0.4746466 ],\n",
       "       [0.48020816],\n",
       "       [0.433561  ],\n",
       "       [0.43724352],\n",
       "       [0.42242262],\n",
       "       [0.4550681 ],\n",
       "       [0.4879122 ],\n",
       "       [0.45466387],\n",
       "       [0.46597776],\n",
       "       [0.36366868],\n",
       "       [0.43982697],\n",
       "       [0.46300995],\n",
       "       [0.41630346],\n",
       "       [0.4879122 ],\n",
       "       [0.43782458],\n",
       "       [0.4575492 ],\n",
       "       [0.46120504],\n",
       "       [0.46191403],\n",
       "       [0.44795388],\n",
       "       [0.46439052],\n",
       "       [0.48924938],\n",
       "       [0.44798994],\n",
       "       [0.4472752 ],\n",
       "       [0.38392866],\n",
       "       [0.4624529 ],\n",
       "       [0.48798868],\n",
       "       [0.48924938],\n",
       "       [0.429919  ],\n",
       "       [0.4027993 ],\n",
       "       [0.48529378],\n",
       "       [0.38881543],\n",
       "       [0.48635897],\n",
       "       [0.43868056],\n",
       "       [0.47480488],\n",
       "       [0.48835158],\n",
       "       [0.46537587],\n",
       "       [0.4228623 ],\n",
       "       [0.43913618],\n",
       "       [0.46301335],\n",
       "       [0.4586142 ],\n",
       "       [0.44076306],\n",
       "       [0.48924938],\n",
       "       [0.46979514],\n",
       "       [0.454931  ],\n",
       "       [0.48446602],\n",
       "       [0.4882045 ],\n",
       "       [0.45138964],\n",
       "       [0.46718782],\n",
       "       [0.43504715],\n",
       "       [0.47357452],\n",
       "       [0.44608694],\n",
       "       [0.47855163],\n",
       "       [0.43927357],\n",
       "       [0.42413777],\n",
       "       [0.4824812 ],\n",
       "       [0.46723056],\n",
       "       [0.46701625],\n",
       "       [0.45091394],\n",
       "       [0.46185577],\n",
       "       [0.43639523],\n",
       "       [0.4234995 ],\n",
       "       [0.4873707 ]], dtype=float32)"
      ]
     },
     "execution_count": 25,
     "metadata": {},
     "output_type": "execute_result"
    }
   ],
   "source": [
    "shallow_nn.predict(X_test)"
   ]
  },
  {
   "cell_type": "markdown",
   "metadata": {},
   "source": [
    "Deep Neural Network"
   ]
  },
  {
   "cell_type": "code",
   "execution_count": 26,
   "metadata": {},
   "outputs": [],
   "source": [
    "def keras_deep(input_dim=39, n_layers=9, n_neurons=12, r_dropout=0.5, optimizer=\"rmsprop\", loss=\"binary_crossentropy\", init=\"uniform\", metrics=[\"accuracy\"], random_state=42):\n",
    "    \"\"\"\n",
    "    Keras Neural Network, define the amount of layers you want, which optimizer you want to use and which loss function you want to apply.\n",
    "    \"\"\" \n",
    "    np.random.seed(random_state)\n",
    "    \n",
    "\n",
    "    from keras import backend as K\n",
    "    K.clear_session()\n",
    "\n",
    "\n",
    "    model = models.Sequential()\n",
    "    model.add(layers.Dense(n_neurons, activation=\"relu\", input_dim=input_dim))\n",
    "    model.add(layers.Dropout(r_dropout))\n",
    "    for num in range(n_layers-2):\n",
    "        model.add(layers.Dense(n_neurons, activation=\"relu\"))\n",
    "        model.add(layers.Dropout(r_dropout))\n",
    "    model.add(layers.Dense(1, activation=\"sigmoid\", init=init))\n",
    "    model.compile(optimizer, loss, metrics=metrics)\n",
    "    \n",
    "    return model"
   ]
  },
  {
   "cell_type": "code",
   "execution_count": 27,
   "metadata": {},
   "outputs": [
    {
     "name": "stderr",
     "output_type": "stream",
     "text": [
      "C:\\Users\\Axel\\Anaconda3\\lib\\site-packages\\ipykernel_launcher.py:18: UserWarning: Update your `Dense` call to the Keras 2 API: `Dense(1, activation=\"sigmoid\", kernel_initializer=\"uniform\")`\n"
     ]
    }
   ],
   "source": [
    "deep_nn = keras_deep(input_dim=len(X_train.columns))"
   ]
  },
  {
   "cell_type": "code",
   "execution_count": 28,
   "metadata": {},
   "outputs": [
    {
     "name": "stdout",
     "output_type": "stream",
     "text": [
      "Train on 816 samples, validate on 100 samples\n",
      "Epoch 1/20\n",
      "816/816 [==============================] - 1s 1ms/step - loss: 0.7269 - acc: 0.6078 - val_loss: 0.6919 - val_acc: 0.6700\n",
      "Epoch 2/20\n",
      "816/816 [==============================] - 0s 16us/step - loss: 0.6997 - acc: 0.6152 - val_loss: 0.6912 - val_acc: 0.6700\n",
      "Epoch 3/20\n",
      "816/816 [==============================] - 0s 18us/step - loss: 0.7098 - acc: 0.6299 - val_loss: 0.6908 - val_acc: 0.6700\n",
      "Epoch 4/20\n",
      "816/816 [==============================] - 0s 15us/step - loss: 0.6936 - acc: 0.6103 - val_loss: 0.6903 - val_acc: 0.6700\n",
      "Epoch 5/20\n",
      "816/816 [==============================] - 0s 16us/step - loss: 0.6963 - acc: 0.6201 - val_loss: 0.6898 - val_acc: 0.6700\n",
      "Epoch 6/20\n",
      "816/816 [==============================] - 0s 15us/step - loss: 0.7001 - acc: 0.6115 - val_loss: 0.6895 - val_acc: 0.6700\n",
      "Epoch 7/20\n",
      "816/816 [==============================] - 0s 19us/step - loss: 0.6919 - acc: 0.6299 - val_loss: 0.6890 - val_acc: 0.6700\n",
      "Epoch 8/20\n",
      "816/816 [==============================] - 0s 16us/step - loss: 0.6967 - acc: 0.6213 - val_loss: 0.6886 - val_acc: 0.6700\n",
      "Epoch 9/20\n",
      "816/816 [==============================] - 0s 17us/step - loss: 0.6955 - acc: 0.6299 - val_loss: 0.6883 - val_acc: 0.6700\n",
      "Epoch 10/20\n",
      "816/816 [==============================] - 0s 15us/step - loss: 0.6898 - acc: 0.6225 - val_loss: 0.6879 - val_acc: 0.6700\n",
      "Epoch 11/20\n",
      "816/816 [==============================] - 0s 15us/step - loss: 0.6906 - acc: 0.6238 - val_loss: 0.6876 - val_acc: 0.6700\n",
      "Epoch 12/20\n",
      "816/816 [==============================] - 0s 21us/step - loss: 0.6890 - acc: 0.6336 - val_loss: 0.6873 - val_acc: 0.6700\n",
      "Epoch 13/20\n",
      "816/816 [==============================] - 0s 18us/step - loss: 0.6954 - acc: 0.6275 - val_loss: 0.6869 - val_acc: 0.6700\n",
      "Epoch 14/20\n",
      "816/816 [==============================] - 0s 17us/step - loss: 0.6883 - acc: 0.6225 - val_loss: 0.6866 - val_acc: 0.6700\n",
      "Epoch 15/20\n",
      "816/816 [==============================] - 0s 13us/step - loss: 0.6894 - acc: 0.6176 - val_loss: 0.6863 - val_acc: 0.6700\n",
      "Epoch 16/20\n",
      "816/816 [==============================] - 0s 15us/step - loss: 0.6843 - acc: 0.6238 - val_loss: 0.6859 - val_acc: 0.6700\n",
      "Epoch 17/20\n",
      "816/816 [==============================] - 0s 17us/step - loss: 0.6931 - acc: 0.6201 - val_loss: 0.6857 - val_acc: 0.6700\n",
      "Epoch 18/20\n",
      "816/816 [==============================] - 0s 20us/step - loss: 0.6860 - acc: 0.6250 - val_loss: 0.6853 - val_acc: 0.6700\n",
      "Epoch 19/20\n",
      "816/816 [==============================] - 0s 17us/step - loss: 0.6852 - acc: 0.6348 - val_loss: 0.6849 - val_acc: 0.6700\n",
      "Epoch 20/20\n",
      "816/816 [==============================] - 0s 15us/step - loss: 0.6886 - acc: 0.6275 - val_loss: 0.6847 - val_acc: 0.6700\n"
     ]
    }
   ],
   "source": [
    "history_deep = deep_nn.fit(partial_X_train, partial_y_train, epochs=20, batch_size=512, validation_data=(x_val, y_val))"
   ]
  },
  {
   "cell_type": "code",
   "execution_count": 29,
   "metadata": {},
   "outputs": [],
   "source": [
    "history_dict = history_deep.history"
   ]
  },
  {
   "cell_type": "code",
   "execution_count": 30,
   "metadata": {},
   "outputs": [
    {
     "data": {
      "image/png": "[encoded data removed]",
      "text/plain": [
       "<Figure size 432x288 with 1 Axes>"
      ]
     },
     "metadata": {
      "needs_background": "light"
     },
     "output_type": "display_data"
    }
   ],
   "source": [
    "loss_values = history_dict[\"loss\"]\n",
    "val_loss_values = history_dict[\"val_loss\"]\n",
    "\n",
    "epochs = range(1, len(loss_values)+1)\n",
    "\n",
    "plt.plot(epochs, loss_values, \"bo\", label=\"Training loss\")\n",
    "plt.plot(epochs, val_loss_values, \"b\", label=\"Validation loss\")\n",
    "plt.title(\"Training and validation loss\")\n",
    "plt.xlabel(\"Epochs\")\n",
    "plt.ylabel(\"Loss\")\n",
    "plt.legend()\n",
    "\n",
    "plt.show()"
   ]
  },
  {
   "cell_type": "code",
   "execution_count": 31,
   "metadata": {},
   "outputs": [
    {
     "data": {
      "image/png": "[encoded data removed]",
      "text/plain": [
       "<Figure size 432x288 with 1 Axes>"
      ]
     },
     "metadata": {
      "needs_background": "light"
     },
     "output_type": "display_data"
    }
   ],
   "source": [
    "plt.clf()\n",
    "acc_values = history_dict[\"acc\"]\n",
    "val_acc_values = history_dict[\"val_acc\"]\n",
    "\n",
    "plt.plot(epochs, acc_values, \"bo\", label=\"Training acc\")\n",
    "plt.plot(epochs, val_acc_values, \"b\", label=\"Validation acc\")\n",
    "plt.title(\"Training and validation accuracy\")\n",
    "plt.xlabel(\"Epochs\")\n",
    "plt.ylabel(\"Acc\")\n",
    "plt.show()"
   ]
  },
  {
   "cell_type": "code",
   "execution_count": 32,
   "metadata": {},
   "outputs": [
    {
     "data": {
      "text/plain": [
       "array([[0.48707187],\n",
       "       [0.48683113],\n",
       "       [0.4870722 ],\n",
       "       [0.48707318],\n",
       "       [0.48707196],\n",
       "       [0.48712385],\n",
       "       [0.48699403],\n",
       "       [0.48707557],\n",
       "       [0.48707184],\n",
       "       [0.4863956 ],\n",
       "       [0.48639545],\n",
       "       [0.48690125],\n",
       "       [0.48685423],\n",
       "       [0.48704973],\n",
       "       [0.48705968],\n",
       "       [0.4869716 ],\n",
       "       [0.48707223],\n",
       "       [0.48698753],\n",
       "       [0.4863667 ],\n",
       "       [0.48690563],\n",
       "       [0.48695758],\n",
       "       [0.4870446 ],\n",
       "       [0.48696345],\n",
       "       [0.48696044],\n",
       "       [0.48697057],\n",
       "       [0.4863943 ],\n",
       "       [0.48711255],\n",
       "       [0.48701006],\n",
       "       [0.4869716 ],\n",
       "       [0.48633844],\n",
       "       [0.4870735 ],\n",
       "       [0.48639777],\n",
       "       [0.48662847],\n",
       "       [0.4863956 ],\n",
       "       [0.48640254],\n",
       "       [0.48703474],\n",
       "       [0.48641676],\n",
       "       [0.48711985],\n",
       "       [0.48642063],\n",
       "       [0.4863956 ],\n",
       "       [0.48706493],\n",
       "       [0.4869588 ],\n",
       "       [0.48709998],\n",
       "       [0.4870044 ],\n",
       "       [0.4869406 ],\n",
       "       [0.48704118],\n",
       "       [0.48706588],\n",
       "       [0.48691815],\n",
       "       [0.487008  ],\n",
       "       [0.48694772],\n",
       "       [0.48631757],\n",
       "       [0.48697355],\n",
       "       [0.48713043],\n",
       "       [0.4863956 ],\n",
       "       [0.48695618],\n",
       "       [0.48697037],\n",
       "       [0.486235  ],\n",
       "       [0.48615202],\n",
       "       [0.4870333 ],\n",
       "       [0.48693588],\n",
       "       [0.48698428],\n",
       "       [0.48699892],\n",
       "       [0.4863088 ],\n",
       "       [0.48697037],\n",
       "       [0.4862657 ],\n",
       "       [0.48623818],\n",
       "       [0.4863956 ],\n",
       "       [0.48707312],\n",
       "       [0.48696083],\n",
       "       [0.48692685],\n",
       "       [0.48699766],\n",
       "       [0.48694384],\n",
       "       [0.4869489 ],\n",
       "       [0.48702574],\n",
       "       [0.48645064],\n",
       "       [0.48699546],\n",
       "       [0.48707214],\n",
       "       [0.48693445],\n",
       "       [0.48666033],\n",
       "       [0.48639917],\n",
       "       [0.48698616],\n",
       "       [0.486429  ],\n",
       "       [0.48708647],\n",
       "       [0.4863956 ],\n",
       "       [0.4870029 ],\n",
       "       [0.4870979 ],\n",
       "       [0.48694876],\n",
       "       [0.48640686],\n",
       "       [0.4863956 ],\n",
       "       [0.48631147],\n",
       "       [0.48627245],\n",
       "       [0.48712552],\n",
       "       [0.48696762],\n",
       "       [0.486932  ],\n",
       "       [0.48649496],\n",
       "       [0.48671854],\n",
       "       [0.48713157],\n",
       "       [0.48641592],\n",
       "       [0.4863956 ],\n",
       "       [0.48708093],\n",
       "       [0.4863956 ],\n",
       "       [0.4863956 ],\n",
       "       [0.48696166],\n",
       "       [0.4869716 ],\n",
       "       [0.48699403],\n",
       "       [0.48702544],\n",
       "       [0.48707187],\n",
       "       [0.48691332],\n",
       "       [0.4870114 ],\n",
       "       [0.48643047],\n",
       "       [0.48712268],\n",
       "       [0.48707268],\n",
       "       [0.48707247],\n",
       "       [0.4868843 ],\n",
       "       [0.4864303 ],\n",
       "       [0.48702544],\n",
       "       [0.48695618],\n",
       "       [0.4863956 ],\n",
       "       [0.48702544],\n",
       "       [0.4870747 ],\n",
       "       [0.48700187],\n",
       "       [0.48713118],\n",
       "       [0.4863956 ],\n",
       "       [0.48698255],\n",
       "       [0.48697072],\n",
       "       [0.4863956 ],\n",
       "       [0.48640576],\n",
       "       [0.48706615],\n",
       "       [0.4863956 ],\n",
       "       [0.48705193],\n",
       "       [0.48689598],\n",
       "       [0.48696363],\n",
       "       [0.48713228],\n",
       "       [0.4863956 ],\n",
       "       [0.4868153 ],\n",
       "       [0.48626018],\n",
       "       [0.4869527 ],\n",
       "       [0.48696345],\n",
       "       [0.4869342 ],\n",
       "       [0.48680997],\n",
       "       [0.4870721 ],\n",
       "       [0.48698243],\n",
       "       [0.4869289 ],\n",
       "       [0.48640326],\n",
       "       [0.4870134 ],\n",
       "       [0.48704526],\n",
       "       [0.48697072],\n",
       "       [0.48699403],\n",
       "       [0.48691857],\n",
       "       [0.48707187],\n",
       "       [0.4869417 ],\n",
       "       [0.48697275],\n",
       "       [0.4866507 ],\n",
       "       [0.48700666],\n",
       "       [0.4870885 ],\n",
       "       [0.4869865 ],\n",
       "       [0.48656753],\n",
       "       [0.48699775],\n",
       "       [0.48694855],\n",
       "       [0.48700187],\n",
       "       [0.4871021 ],\n",
       "       [0.48695767],\n",
       "       [0.48702687],\n",
       "       [0.48707077],\n",
       "       [0.48639432],\n",
       "       [0.48701736],\n",
       "       [0.48696345],\n",
       "       [0.4869119 ],\n",
       "       [0.4870722 ],\n",
       "       [0.4870409 ],\n",
       "       [0.48713237],\n",
       "       [0.4862135 ],\n",
       "       [0.48645067],\n",
       "       [0.4870314 ],\n",
       "       [0.48642835],\n",
       "       [0.4863956 ],\n",
       "       [0.4863956 ],\n",
       "       [0.48643276],\n",
       "       [0.4869903 ],\n",
       "       [0.4870831 ],\n",
       "       [0.4868562 ],\n",
       "       [0.48703182],\n",
       "       [0.48692673],\n",
       "       [0.4863685 ],\n",
       "       [0.48707193],\n",
       "       [0.48690403],\n",
       "       [0.48700973],\n",
       "       [0.48699152],\n",
       "       [0.48682198],\n",
       "       [0.48711675],\n",
       "       [0.48690942],\n",
       "       [0.4864357 ],\n",
       "       [0.48694712],\n",
       "       [0.4869347 ],\n",
       "       [0.48707286],\n",
       "       [0.48697057],\n",
       "       [0.48707485],\n",
       "       [0.4863956 ],\n",
       "       [0.4863956 ],\n",
       "       [0.4864427 ],\n",
       "       [0.4863956 ],\n",
       "       [0.48704842],\n",
       "       [0.48696262],\n",
       "       [0.4863956 ],\n",
       "       [0.48707098],\n",
       "       [0.48709586],\n",
       "       [0.48707184],\n",
       "       [0.48641807],\n",
       "       [0.48713362],\n",
       "       [0.4864243 ],\n",
       "       [0.48699546],\n",
       "       [0.4863956 ],\n",
       "       [0.48703918],\n",
       "       [0.48628265],\n",
       "       [0.4869061 ],\n",
       "       [0.48706767],\n",
       "       [0.4864085 ],\n",
       "       [0.48631555],\n",
       "       [0.4864477 ],\n",
       "       [0.4870176 ],\n",
       "       [0.4863956 ],\n",
       "       [0.4869749 ],\n",
       "       [0.48644474],\n",
       "       [0.48697057],\n",
       "       [0.48707062],\n",
       "       [0.4870606 ],\n",
       "       [0.48704377],\n",
       "       [0.48643458],\n",
       "       [0.4863956 ],\n",
       "       [0.48701292],\n",
       "       [0.4869761 ],\n",
       "       [0.4868939 ],\n",
       "       [0.48704174],\n",
       "       [0.48700973],\n",
       "       [0.48712966],\n",
       "       [0.48688447],\n",
       "       [0.48703346],\n",
       "       [0.48707515],\n",
       "       [0.48699415],\n",
       "       [0.4870804 ],\n",
       "       [0.48692685],\n",
       "       [0.4870727 ],\n",
       "       [0.48707232],\n",
       "       [0.48707193],\n",
       "       [0.48674813],\n",
       "       [0.4870722 ],\n",
       "       [0.4863956 ],\n",
       "       [0.48697072],\n",
       "       [0.48701817],\n",
       "       [0.48704118],\n",
       "       [0.48707858],\n",
       "       [0.4870739 ],\n",
       "       [0.48695767],\n",
       "       [0.48642662],\n",
       "       [0.48701707],\n",
       "       [0.4870908 ],\n",
       "       [0.48639485],\n",
       "       [0.4870256 ],\n",
       "       [0.48642612],\n",
       "       [0.48693776],\n",
       "       [0.4862537 ],\n",
       "       [0.48639774],\n",
       "       [0.4869342 ],\n",
       "       [0.48709884],\n",
       "       [0.48634636],\n",
       "       [0.48624098],\n",
       "       [0.4866573 ],\n",
       "       [0.48702964],\n",
       "       [0.48700973],\n",
       "       [0.48641998],\n",
       "       [0.4864451 ],\n",
       "       [0.4863956 ],\n",
       "       [0.48691255],\n",
       "       [0.48698616],\n",
       "       [0.4862844 ],\n",
       "       [0.48707494],\n",
       "       [0.48713723],\n",
       "       [0.48694712],\n",
       "       [0.4867328 ],\n",
       "       [0.48705372],\n",
       "       [0.48707214],\n",
       "       [0.48702544],\n",
       "       [0.48681116],\n",
       "       [0.48711345],\n",
       "       [0.48695618],\n",
       "       [0.48642305],\n",
       "       [0.48692185],\n",
       "       [0.48647097],\n",
       "       [0.4869374 ],\n",
       "       [0.48697072],\n",
       "       [0.4870313 ],\n",
       "       [0.48643357],\n",
       "       [0.48662913],\n",
       "       [0.48634467],\n",
       "       [0.48696974],\n",
       "       [0.48700187],\n",
       "       [0.48669267],\n",
       "       [0.48643073],\n",
       "       [0.48696524],\n",
       "       [0.48712176],\n",
       "       [0.48704463],\n",
       "       [0.4863962 ],\n",
       "       [0.48700187],\n",
       "       [0.48691273],\n",
       "       [0.48709098],\n",
       "       [0.4863956 ],\n",
       "       [0.48707289],\n",
       "       [0.48707232],\n",
       "       [0.48707226],\n",
       "       [0.4870725 ],\n",
       "       [0.48687854],\n",
       "       [0.48702058],\n",
       "       [0.48699546],\n",
       "       [0.4870728 ],\n",
       "       [0.4863956 ],\n",
       "       [0.487134  ],\n",
       "       [0.48639518],\n",
       "       [0.4869915 ],\n",
       "       [0.48640135],\n",
       "       [0.48707432],\n",
       "       [0.48708007],\n",
       "       [0.48711598],\n",
       "       [0.4864159 ],\n",
       "       [0.4862899 ],\n",
       "       [0.48701823],\n",
       "       [0.48650658],\n",
       "       [0.48712733],\n",
       "       [0.4866951 ],\n",
       "       [0.48707205],\n",
       "       [0.48643708],\n",
       "       [0.4863956 ],\n",
       "       [0.4862684 ],\n",
       "       [0.48639578],\n",
       "       [0.48707318],\n",
       "       [0.48710465],\n",
       "       [0.4871337 ],\n",
       "       [0.48701707],\n",
       "       [0.4864164 ],\n",
       "       [0.48692086],\n",
       "       [0.48682302],\n",
       "       [0.4870741 ],\n",
       "       [0.48709503],\n",
       "       [0.48639423],\n",
       "       [0.48707232],\n",
       "       [0.48640227],\n",
       "       [0.48711357],\n",
       "       [0.48699498],\n",
       "       [0.48700696],\n",
       "       [0.48695147],\n",
       "       [0.48700145],\n",
       "       [0.4869756 ],\n",
       "       [0.48643696],\n",
       "       [0.48704657],\n",
       "       [0.4870462 ],\n",
       "       [0.48707473],\n",
       "       [0.48695093],\n",
       "       [0.4863901 ],\n",
       "       [0.4863956 ],\n",
       "       [0.48707202],\n",
       "       [0.48713467],\n",
       "       [0.48624104],\n",
       "       [0.48707324],\n",
       "       [0.4863956 ],\n",
       "       [0.4871297 ],\n",
       "       [0.4868305 ],\n",
       "       [0.48629555],\n",
       "       [0.48693782],\n",
       "       [0.4870735 ],\n",
       "       [0.4870512 ],\n",
       "       [0.48690104],\n",
       "       [0.4869976 ],\n",
       "       [0.4870946 ],\n",
       "       [0.48629352],\n",
       "       [0.4863956 ],\n",
       "       [0.48696345],\n",
       "       [0.48643702],\n",
       "       [0.4863956 ],\n",
       "       [0.4869783 ],\n",
       "       [0.48692077],\n",
       "       [0.48711687],\n",
       "       [0.48631635],\n",
       "       [0.48700187],\n",
       "       [0.48677826],\n",
       "       [0.4870769 ],\n",
       "       [0.48712018],\n",
       "       [0.4863215 ],\n",
       "       [0.48690453],\n",
       "       [0.48692662],\n",
       "       [0.48706406],\n",
       "       [0.48694146],\n",
       "       [0.4870902 ],\n",
       "       [0.48707062],\n",
       "       [0.48639423]], dtype=float32)"
      ]
     },
     "execution_count": 32,
     "metadata": {},
     "output_type": "execute_result"
    }
   ],
   "source": [
    "deep_nn.predict(X_test)"
   ]
  },
  {
   "cell_type": "markdown",
   "metadata": {},
   "source": [
    "Conclusion"
   ]
  },
  {
   "cell_type": "markdown",
   "metadata": {},
   "source": [
    "Besides normal preprocessing nothing special to do with the data to fit into shallow/deep neural networks."
   ]
  },
  {
   "cell_type": "markdown",
   "metadata": {},
   "source": [
    "#### Santander (Big)"
   ]
  },
  {
   "cell_type": "markdown",
   "metadata": {},
   "source": [
    "Preprocessing"
   ]
  },
  {
   "cell_type": "code",
   "execution_count": 33,
   "metadata": {},
   "outputs": [],
   "source": [
    "# Load data\n",
    "santander = pd.read_csv(r\"C:\\Users\\Axel\\Documents\\Nova_IMS\\2_Semester\\Deep Learning\\Project\\DLProject\\data_files\\Big\\santander.csv\")"
   ]
  },
  {
   "cell_type": "code",
   "execution_count": 34,
   "metadata": {},
   "outputs": [],
   "source": [
    "# drop id column\n",
    "santander = santander.drop([\"ID_code\"], axis=1)"
   ]
  },
  {
   "cell_type": "markdown",
   "metadata": {},
   "source": [
    "Split train and test data"
   ]
  },
  {
   "cell_type": "code",
   "execution_count": 43,
   "metadata": {},
   "outputs": [],
   "source": [
    "# Get train and test set\n",
    "y = santander.target\n",
    "X = santander.drop([\"target\"], axis=1)\n",
    "\n",
    "X_train, X_test, y_train, y_test = train_test_split(X, y, test_size=0.3, random_state=42)"
   ]
  },
  {
   "cell_type": "code",
   "execution_count": 44,
   "metadata": {},
   "outputs": [],
   "source": [
    "# get validation set\n",
    "x_val = X_train[:10000]\n",
    "partial_X_train = X_train[10000:]\n",
    "y_val = y_train[:10000]\n",
    "partial_y_train = y_train[10000:]"
   ]
  },
  {
   "cell_type": "markdown",
   "metadata": {},
   "source": [
    "Shallow Neural Net"
   ]
  },
  {
   "cell_type": "code",
   "execution_count": 45,
   "metadata": {},
   "outputs": [
    {
     "name": "stderr",
     "output_type": "stream",
     "text": [
      "C:\\Users\\Axel\\Anaconda3\\lib\\site-packages\\ipykernel_launcher.py:18: UserWarning: Update your `Dense` call to the Keras 2 API: `Dense(1, activation=\"sigmoid\", kernel_initializer=\"uniform\")`\n"
     ]
    }
   ],
   "source": [
    "shallow_nn = keras_shallow(input_dim=len(X_train.columns))"
   ]
  },
  {
   "cell_type": "code",
   "execution_count": 46,
   "metadata": {},
   "outputs": [
    {
     "name": "stdout",
     "output_type": "stream",
     "text": [
      "Train on 130000 samples, validate on 10000 samples\n",
      "Epoch 1/20\n",
      "130000/130000 [==============================] - 3s 22us/step - loss: 0.4377 - acc: 0.8983 - val_loss: 0.3725 - val_acc: 0.9033\n",
      "Epoch 2/20\n",
      "130000/130000 [==============================] - 2s 19us/step - loss: 0.3822 - acc: 0.9001 - val_loss: 0.3345 - val_acc: 0.9033\n",
      "Epoch 3/20\n",
      "130000/130000 [==============================] - 2s 19us/step - loss: 0.3419 - acc: 0.9001 - val_loss: 0.2836 - val_acc: 0.9033\n",
      "Epoch 4/20\n",
      "130000/130000 [==============================] - 2s 19us/step - loss: 0.3185 - acc: 0.9001 - val_loss: 0.2878 - val_acc: 0.9033\n",
      "Epoch 5/20\n",
      "130000/130000 [==============================] - 3s 19us/step - loss: 0.3064 - acc: 0.9001 - val_loss: 0.2768 - val_acc: 0.9033\n",
      "Epoch 6/20\n",
      "130000/130000 [==============================] - 2s 19us/step - loss: 0.3019 - acc: 0.9001 - val_loss: 0.2755 - val_acc: 0.9033\n",
      "Epoch 7/20\n",
      "130000/130000 [==============================] - 2s 19us/step - loss: 0.2983 - acc: 0.9001 - val_loss: 0.2736 - val_acc: 0.9033\n",
      "Epoch 8/20\n",
      "130000/130000 [==============================] - 3s 19us/step - loss: 0.2970 - acc: 0.9001 - val_loss: 0.2698 - val_acc: 0.9033\n",
      "Epoch 9/20\n",
      "130000/130000 [==============================] - 3s 19us/step - loss: 0.2946 - acc: 0.9001 - val_loss: 0.2671 - val_acc: 0.9033\n",
      "Epoch 10/20\n",
      "130000/130000 [==============================] - 2s 19us/step - loss: 0.2931 - acc: 0.9001 - val_loss: 0.2654 - val_acc: 0.9033\n",
      "Epoch 11/20\n",
      "130000/130000 [==============================] - 2s 19us/step - loss: 0.2924 - acc: 0.9001 - val_loss: 0.2669 - val_acc: 0.9033\n",
      "Epoch 12/20\n",
      "130000/130000 [==============================] - 2s 19us/step - loss: 0.2912 - acc: 0.9001 - val_loss: 0.2693 - val_acc: 0.9033\n",
      "Epoch 13/20\n",
      "130000/130000 [==============================] - 2s 19us/step - loss: 0.2907 - acc: 0.9001 - val_loss: 0.2671 - val_acc: 0.9033\n",
      "Epoch 14/20\n",
      "130000/130000 [==============================] - 2s 19us/step - loss: 0.2901 - acc: 0.9001 - val_loss: 0.2640 - val_acc: 0.9033\n",
      "Epoch 15/20\n",
      "130000/130000 [==============================] - 2s 19us/step - loss: 0.2897 - acc: 0.9001 - val_loss: 0.2609 - val_acc: 0.9033\n",
      "Epoch 16/20\n",
      "130000/130000 [==============================] - 3s 20us/step - loss: 0.2883 - acc: 0.9001 - val_loss: 0.2630 - val_acc: 0.9033\n",
      "Epoch 17/20\n",
      "130000/130000 [==============================] - 2s 19us/step - loss: 0.2884 - acc: 0.9001 - val_loss: 0.2597 - val_acc: 0.9033\n",
      "Epoch 18/20\n",
      "130000/130000 [==============================] - 2s 18us/step - loss: 0.2875 - acc: 0.9001 - val_loss: 0.2639 - val_acc: 0.9033\n",
      "Epoch 19/20\n",
      "130000/130000 [==============================] - 2s 18us/step - loss: 0.2878 - acc: 0.9001 - val_loss: 0.2610 - val_acc: 0.9033\n",
      "Epoch 20/20\n",
      "130000/130000 [==============================] - 2s 18us/step - loss: 0.2879 - acc: 0.9001 - val_loss: 0.2585 - val_acc: 0.9033\n"
     ]
    }
   ],
   "source": [
    "history_shallow = shallow_nn.fit(partial_X_train, partial_y_train, epochs=20, batch_size=512, validation_data=(x_val, y_val))"
   ]
  },
  {
   "cell_type": "code",
   "execution_count": 47,
   "metadata": {},
   "outputs": [],
   "source": [
    "history_dict = history_shallow.history"
   ]
  },
  {
   "cell_type": "code",
   "execution_count": 48,
   "metadata": {},
   "outputs": [
    {
     "data": {
      "image/png": "[encoded data removed]",
      "text/plain": [
       "<Figure size 432x288 with 1 Axes>"
      ]
     },
     "metadata": {
      "needs_background": "light"
     },
     "output_type": "display_data"
    }
   ],
   "source": [
    "loss_values = history_dict[\"loss\"]\n",
    "val_loss_values = history_dict[\"val_loss\"]\n",
    "\n",
    "epochs = range(1, len(loss_values)+1)\n",
    "\n",
    "plt.plot(epochs, loss_values, \"bo\", label=\"Training loss\")\n",
    "plt.plot(epochs, val_loss_values, \"b\", label=\"Validation loss\")\n",
    "plt.title(\"Training and validation loss\")\n",
    "plt.xlabel(\"Epochs\")\n",
    "plt.ylabel(\"Loss\")\n",
    "plt.legend()\n",
    "\n",
    "plt.show()"
   ]
  },
  {
   "cell_type": "code",
   "execution_count": 49,
   "metadata": {},
   "outputs": [
    {
     "data": {
      "image/png": "[encoded data removed]",
      "text/plain": [
       "<Figure size 432x288 with 1 Axes>"
      ]
     },
     "metadata": {
      "needs_background": "light"
     },
     "output_type": "display_data"
    }
   ],
   "source": [
    "plt.clf()\n",
    "acc_values = history_dict[\"acc\"]\n",
    "val_acc_values = history_dict[\"val_acc\"]\n",
    "\n",
    "plt.plot(epochs, acc_values, \"bo\", label=\"Training acc\")\n",
    "plt.plot(epochs, val_acc_values, \"b\", label=\"Validation acc\")\n",
    "plt.title(\"Training and validation accuracy\")\n",
    "plt.xlabel(\"Epochs\")\n",
    "plt.ylabel(\"Loss\")\n",
    "plt.show()"
   ]
  },
  {
   "cell_type": "code",
   "execution_count": 50,
   "metadata": {},
   "outputs": [
    {
     "data": {
      "text/plain": [
       "array([[0.00161359],\n",
       "       [0.007081  ],\n",
       "       [0.0094834 ],\n",
       "       ...,\n",
       "       [0.1875602 ],\n",
       "       [0.00115663],\n",
       "       [0.067332  ]], dtype=float32)"
      ]
     },
     "execution_count": 50,
     "metadata": {},
     "output_type": "execute_result"
    }
   ],
   "source": [
    "shallow_nn.predict(X_test)"
   ]
  },
  {
   "cell_type": "markdown",
   "metadata": {},
   "source": [
    "Deep Neural Network"
   ]
  },
  {
   "cell_type": "code",
   "execution_count": 51,
   "metadata": {},
   "outputs": [
    {
     "name": "stderr",
     "output_type": "stream",
     "text": [
      "C:\\Users\\Axel\\Anaconda3\\lib\\site-packages\\ipykernel_launcher.py:18: UserWarning: Update your `Dense` call to the Keras 2 API: `Dense(1, activation=\"sigmoid\", kernel_initializer=\"uniform\")`\n"
     ]
    }
   ],
   "source": [
    "deep_nn = keras_deep(input_dim=len(X_train.columns))"
   ]
  },
  {
   "cell_type": "code",
   "execution_count": 52,
   "metadata": {},
   "outputs": [
    {
     "name": "stdout",
     "output_type": "stream",
     "text": [
      "Train on 130000 samples, validate on 10000 samples\n",
      "Epoch 1/20\n",
      "130000/130000 [==============================] - 4s 34us/step - loss: 0.5111 - acc: 0.8982 - val_loss: 0.5120 - val_acc: 0.9033\n",
      "Epoch 2/20\n",
      "130000/130000 [==============================] - 3s 26us/step - loss: 0.3814 - acc: 0.9001 - val_loss: 0.3235 - val_acc: 0.9033\n",
      "Epoch 3/20\n",
      "130000/130000 [==============================] - 3s 26us/step - loss: 0.3418 - acc: 0.9001 - val_loss: 0.3192 - val_acc: 0.9033\n",
      "Epoch 4/20\n",
      "130000/130000 [==============================] - 3s 26us/step - loss: 0.3356 - acc: 0.9001 - val_loss: 0.3183 - val_acc: 0.9033\n",
      "Epoch 5/20\n",
      "130000/130000 [==============================] - 3s 26us/step - loss: 0.3314 - acc: 0.9001 - val_loss: 0.3198 - val_acc: 0.9033\n",
      "Epoch 6/20\n",
      "130000/130000 [==============================] - 3s 26us/step - loss: 0.3289 - acc: 0.9001 - val_loss: 0.3202 - val_acc: 0.9033\n",
      "Epoch 7/20\n",
      "130000/130000 [==============================] - 3s 26us/step - loss: 0.3258 - acc: 0.9001 - val_loss: 0.3197 - val_acc: 0.9033\n",
      "Epoch 8/20\n",
      "130000/130000 [==============================] - 3s 26us/step - loss: 0.3232 - acc: 0.9001 - val_loss: 0.3190 - val_acc: 0.9033\n",
      "Epoch 9/20\n",
      "130000/130000 [==============================] - 3s 26us/step - loss: 0.3195 - acc: 0.9001 - val_loss: 0.3123 - val_acc: 0.9033\n",
      "Epoch 10/20\n",
      "130000/130000 [==============================] - 3s 26us/step - loss: 0.3158 - acc: 0.9001 - val_loss: 0.3050 - val_acc: 0.9033\n",
      "Epoch 11/20\n",
      "130000/130000 [==============================] - 3s 26us/step - loss: 0.3138 - acc: 0.9001 - val_loss: 0.3157 - val_acc: 0.9033\n",
      "Epoch 12/20\n",
      "130000/130000 [==============================] - 3s 26us/step - loss: 0.3121 - acc: 0.9001 - val_loss: 0.3058 - val_acc: 0.9033\n",
      "Epoch 13/20\n",
      "130000/130000 [==============================] - 3s 26us/step - loss: 0.3115 - acc: 0.9001 - val_loss: 0.2963 - val_acc: 0.9033\n",
      "Epoch 14/20\n",
      "130000/130000 [==============================] - 3s 26us/step - loss: 0.3087 - acc: 0.9001 - val_loss: 0.2928 - val_acc: 0.9033\n",
      "Epoch 15/20\n",
      "130000/130000 [==============================] - 3s 26us/step - loss: 0.3082 - acc: 0.9001 - val_loss: 0.2879 - val_acc: 0.9033\n",
      "Epoch 16/20\n",
      "130000/130000 [==============================] - 3s 26us/step - loss: 0.3086 - acc: 0.9001 - val_loss: 0.2811 - val_acc: 0.9033\n",
      "Epoch 17/20\n",
      "130000/130000 [==============================] - 3s 26us/step - loss: 0.3071 - acc: 0.9001 - val_loss: 0.2872 - val_acc: 0.9033\n",
      "Epoch 18/20\n",
      "130000/130000 [==============================] - 3s 26us/step - loss: 0.3068 - acc: 0.9001 - val_loss: 0.3011 - val_acc: 0.9033\n",
      "Epoch 19/20\n",
      "130000/130000 [==============================] - 3s 26us/step - loss: 0.3054 - acc: 0.9001 - val_loss: 0.2939 - val_acc: 0.9033\n",
      "Epoch 20/20\n",
      "130000/130000 [==============================] - 3s 26us/step - loss: 0.3051 - acc: 0.9001 - val_loss: 0.2769 - val_acc: 0.9033\n"
     ]
    }
   ],
   "source": [
    "history_deep = deep_nn.fit(partial_X_train, partial_y_train, epochs=20, batch_size=512, validation_data=(x_val, y_val))"
   ]
  },
  {
   "cell_type": "code",
   "execution_count": 53,
   "metadata": {},
   "outputs": [],
   "source": [
    "history_dict = history_deep.history"
   ]
  },
  {
   "cell_type": "code",
   "execution_count": 54,
   "metadata": {},
   "outputs": [
    {
     "data": {
      "image/png": "[encoded data removed]",
      "text/plain": [
       "<Figure size 432x288 with 1 Axes>"
      ]
     },
     "metadata": {
      "needs_background": "light"
     },
     "output_type": "display_data"
    }
   ],
   "source": [
    "loss_values = history_dict[\"loss\"]\n",
    "val_loss_values = history_dict[\"val_loss\"]\n",
    "\n",
    "epochs = range(1, len(loss_values)+1)\n",
    "\n",
    "plt.plot(epochs, loss_values, \"bo\", label=\"Training loss\")\n",
    "plt.plot(epochs, val_loss_values, \"b\", label=\"Validation loss\")\n",
    "plt.title(\"Training and validation loss\")\n",
    "plt.xlabel(\"Epochs\")\n",
    "plt.ylabel(\"Loss\")\n",
    "plt.legend()\n",
    "\n",
    "plt.show()"
   ]
  },
  {
   "cell_type": "code",
   "execution_count": 55,
   "metadata": {},
   "outputs": [
    {
     "data": {
      "image/png": "[encoded data removed]",
      "text/plain": [
       "<Figure size 432x288 with 1 Axes>"
      ]
     },
     "metadata": {
      "needs_background": "light"
     },
     "output_type": "display_data"
    }
   ],
   "source": [
    "plt.clf()\n",
    "acc_values = history_dict[\"acc\"]\n",
    "val_acc_values = history_dict[\"val_acc\"]\n",
    "\n",
    "plt.plot(epochs, acc_values, \"bo\", label=\"Training acc\")\n",
    "plt.plot(epochs, val_acc_values, \"b\", label=\"Validation acc\")\n",
    "plt.title(\"Training and validation accuracy\")\n",
    "plt.xlabel(\"Epochs\")\n",
    "plt.ylabel(\"Acc\")\n",
    "plt.show()"
   ]
  },
  {
   "cell_type": "code",
   "execution_count": 56,
   "metadata": {},
   "outputs": [
    {
     "data": {
      "text/plain": [
       "array([[0.00234276],\n",
       "       [0.00690815],\n",
       "       [0.01746318],\n",
       "       ...,\n",
       "       [0.15288481],\n",
       "       [0.00083536],\n",
       "       [0.06288835]], dtype=float32)"
      ]
     },
     "execution_count": 56,
     "metadata": {},
     "output_type": "execute_result"
    }
   ],
   "source": [
    "deep_nn.predict(X_test)"
   ]
  },
  {
   "cell_type": "markdown",
   "metadata": {},
   "source": [
    "Conclusion"
   ]
  },
  {
   "cell_type": "markdown",
   "metadata": {},
   "source": [
    "Besides dropping the ID column, no further preprocessing/things to consider before passing to shallow/deep neural network."
   ]
  },
  {
   "cell_type": "markdown",
   "metadata": {},
   "source": [
    "#### Weather Australia (Time Series)"
   ]
  },
  {
   "cell_type": "markdown",
   "metadata": {},
   "source": [
    "Preprocessing"
   ]
  },
  {
   "cell_type": "code",
   "execution_count": 59,
   "metadata": {},
   "outputs": [],
   "source": [
    "weather = pd.read_csv(r\"C:\\Users\\Axel\\Documents\\Nova_IMS\\2_Semester\\Deep Learning\\Project\\DLProject\\data_files\\TimeSeries\\weatherAUS.csv\")"
   ]
  },
  {
   "cell_type": "code",
   "execution_count": 60,
   "metadata": {},
   "outputs": [
    {
     "data": {
      "text/plain": [
       "Date                 0\n",
       "Location             0\n",
       "MinTemp            637\n",
       "MaxTemp            322\n",
       "Rainfall          1406\n",
       "Evaporation      60843\n",
       "Sunshine         67816\n",
       "WindGustDir       9330\n",
       "WindGustSpeed     9270\n",
       "WindDir9am       10013\n",
       "WindDir3pm        3778\n",
       "WindSpeed9am      1348\n",
       "WindSpeed3pm      2630\n",
       "Humidity9am       1774\n",
       "Humidity3pm       3610\n",
       "Pressure9am      14014\n",
       "Pressure3pm      13981\n",
       "Cloud9am         53657\n",
       "Cloud3pm         57094\n",
       "Temp9am            904\n",
       "Temp3pm           2726\n",
       "RainToday         1406\n",
       "RISK_MM              0\n",
       "RainTomorrow         0\n",
       "dtype: int64"
      ]
     },
     "execution_count": 60,
     "metadata": {},
     "output_type": "execute_result"
    }
   ],
   "source": [
    "weather.isna().sum()"
   ]
  },
  {
   "cell_type": "code",
   "execution_count": 61,
   "metadata": {},
   "outputs": [],
   "source": [
    "# drop columns with too many missing values, Location & Wind Directions as well (to not produce so many new columns when encoding)\n",
    "weather = weather.drop([\"Evaporation\",\"Sunshine\",\"Cloud9am\",\"Cloud3pm\",\"WindGustDir\",\"WindDir9am\", \"Location\", 'WindDir3pm'], axis=1)"
   ]
  },
  {
   "cell_type": "code",
   "execution_count": 62,
   "metadata": {},
   "outputs": [],
   "source": [
    "# Get binary variables to 1 and 0\n",
    "weather['RainTomorrow'] = weather['RainTomorrow'].map({'Yes': 1, 'No': 0})\n",
    "weather['RainToday'] = weather['RainToday'].map({'Yes': 1, 'No': 0})"
   ]
  },
  {
   "cell_type": "code",
   "execution_count": 63,
   "metadata": {},
   "outputs": [],
   "source": [
    "# impute missing values\n",
    "weather[\"Temp3pm\"] = weather[\"Temp3pm\"].fillna(weather[\"Temp3pm\"].mean())\n",
    "weather[\"Pressure3pm\"] = weather[\"Pressure3pm\"].fillna(weather[\"Pressure3pm\"].mean())\n",
    "weather[\"Temp9am\"] = weather[\"Temp9am\"].fillna(weather[\"Temp9am\"].mean())\n",
    "weather[\"Pressure9am\"] = weather[\"Pressure3pm\"].fillna(weather[\"Pressure3pm\"].mean())\n",
    "weather[\"Humidity9am\"] = weather[\"Humidity9am\"].fillna(weather[\"Humidity9am\"].mean())\n",
    "weather[\"Humidity3pm\"] = weather[\"Humidity3pm\"].fillna(weather[\"Humidity3pm\"].mean())\n",
    "weather[\"MinTemp\"] = weather[\"MinTemp\"].fillna(weather[\"MinTemp\"].mean())\n",
    "weather[\"MaxTemp\"] = weather[\"MaxTemp\"].fillna(weather[\"MaxTemp\"].mean())\n",
    "weather[\"WindGustSpeed\"] = weather[\"WindGustSpeed\"].fillna(weather[\"WindGustSpeed\"].mean())\n",
    "weather[\"WindSpeed9am\"] = weather[\"WindSpeed9am\"].fillna(weather[\"WindSpeed9am\"].mean())\n",
    "weather[\"WindSpeed3pm\"] = weather[\"WindSpeed3pm\"].fillna(weather[\"WindSpeed3pm\"].mean())"
   ]
  },
  {
   "cell_type": "code",
   "execution_count": 64,
   "metadata": {},
   "outputs": [
    {
     "data": {
      "text/plain": [
       "Date                0\n",
       "MinTemp             0\n",
       "MaxTemp             0\n",
       "Rainfall         1406\n",
       "WindGustSpeed       0\n",
       "WindSpeed9am        0\n",
       "WindSpeed3pm        0\n",
       "Humidity9am         0\n",
       "Humidity3pm         0\n",
       "Pressure9am         0\n",
       "Pressure3pm         0\n",
       "Temp9am             0\n",
       "Temp3pm             0\n",
       "RainToday        1406\n",
       "RISK_MM             0\n",
       "RainTomorrow        0\n",
       "dtype: int64"
      ]
     },
     "execution_count": 64,
     "metadata": {},
     "output_type": "execute_result"
    }
   ],
   "source": [
    "# check for missing values again\n",
    "weather.isna().sum()"
   ]
  },
  {
   "cell_type": "code",
   "execution_count": 67,
   "metadata": {},
   "outputs": [],
   "source": [
    "# drop rest of the rows (e.g. rainfall should only be there if rain today is a 1. Would require kind of dependent imputation)\n",
    "weather = weather[pd.notnull(weather['RainToday'])]\n",
    "weather = weather[pd.notnull(weather['Rainfall'])]"
   ]
  },
  {
   "cell_type": "code",
   "execution_count": 68,
   "metadata": {},
   "outputs": [
    {
     "data": {
      "text/plain": [
       "Date             0\n",
       "MinTemp          0\n",
       "MaxTemp          0\n",
       "Rainfall         0\n",
       "WindGustSpeed    0\n",
       "WindSpeed9am     0\n",
       "WindSpeed3pm     0\n",
       "Humidity9am      0\n",
       "Humidity3pm      0\n",
       "Pressure9am      0\n",
       "Pressure3pm      0\n",
       "Temp9am          0\n",
       "Temp3pm          0\n",
       "RainToday        0\n",
       "RISK_MM          0\n",
       "RainTomorrow     0\n",
       "dtype: int64"
      ]
     },
     "execution_count": 68,
     "metadata": {},
     "output_type": "execute_result"
    }
   ],
   "source": [
    "weather.isna().sum()"
   ]
  },
  {
   "cell_type": "code",
   "execution_count": 69,
   "metadata": {},
   "outputs": [],
   "source": [
    "# convert date to datetime\n",
    "weather[\"Date\"] = pd.to_datetime(weather[\"Date\"])"
   ]
  },
  {
   "cell_type": "code",
   "execution_count": 70,
   "metadata": {},
   "outputs": [],
   "source": [
    "# convert date to days since start date (measures distance between minimum date)\n",
    "# This way at least some information of time can be kept, even though it might not be the perfect solution\n",
    "# Got this idea from here:\n",
    "# https://stackoverflow.com/questions/42044003/how-to-use-date-and-time-values-as-features-to-predict-a-value-using-a-neural-ne\n",
    "\n",
    "start = min(weather[\"Date\"])\n",
    "date_features = [(i - start) for i in weather[\"Date\"]]\n",
    "date_features = [i.days for i in date_features]"
   ]
  },
  {
   "cell_type": "code",
   "execution_count": 71,
   "metadata": {},
   "outputs": [],
   "source": [
    "# Replace date with days\n",
    "weather[\"Date\"] = date_features"
   ]
  },
  {
   "cell_type": "markdown",
   "metadata": {},
   "source": [
    "Split into Train and Test Set"
   ]
  },
  {
   "cell_type": "code",
   "execution_count": 73,
   "metadata": {},
   "outputs": [],
   "source": [
    "# Get train and test set\n",
    "y = weather.RainTomorrow\n",
    "X = weather.drop([\"RainTomorrow\"], axis=1)\n",
    "\n",
    "X_train, X_test, y_train, y_test = train_test_split(X, y, test_size=0.3, random_state=42)"
   ]
  },
  {
   "cell_type": "code",
   "execution_count": 74,
   "metadata": {},
   "outputs": [],
   "source": [
    "# get validation set\n",
    "x_val = X_train[:10000]\n",
    "partial_X_train = X_train[10000:]\n",
    "y_val = y_train[:10000]\n",
    "partial_y_train = y_train[10000:]"
   ]
  },
  {
   "cell_type": "markdown",
   "metadata": {},
   "source": [
    "Shallow Neural Network"
   ]
  },
  {
   "cell_type": "code",
   "execution_count": 75,
   "metadata": {
    "scrolled": true
   },
   "outputs": [
    {
     "name": "stderr",
     "output_type": "stream",
     "text": [
      "C:\\Users\\Axel\\Anaconda3\\lib\\site-packages\\ipykernel_launcher.py:18: UserWarning: Update your `Dense` call to the Keras 2 API: `Dense(1, activation=\"sigmoid\", kernel_initializer=\"uniform\")`\n"
     ]
    }
   ],
   "source": [
    "shallow_nn = keras_shallow(input_dim=len(X_train.columns))"
   ]
  },
  {
   "cell_type": "code",
   "execution_count": 76,
   "metadata": {},
   "outputs": [
    {
     "name": "stdout",
     "output_type": "stream",
     "text": [
      "Train on 88550 samples, validate on 10000 samples\n",
      "Epoch 1/20\n",
      "88550/88550 [==============================] - 1s 11us/step - loss: 0.6893 - acc: 0.7637 - val_loss: 0.5671 - val_acc: 0.7777\n",
      "Epoch 2/20\n",
      "88550/88550 [==============================] - 1s 6us/step - loss: 0.5969 - acc: 0.7754 - val_loss: 0.5704 - val_acc: 0.7777\n",
      "Epoch 3/20\n",
      "88550/88550 [==============================] - 1s 6us/step - loss: 0.5688 - acc: 0.7784 - val_loss: 0.5505 - val_acc: 0.7777\n",
      "Epoch 4/20\n",
      "88550/88550 [==============================] - 1s 6us/step - loss: 0.5338 - acc: 0.7791 - val_loss: 0.4788 - val_acc: 0.7777\n",
      "Epoch 5/20\n",
      "88550/88550 [==============================] - 1s 6us/step - loss: 0.5038 - acc: 0.7791 - val_loss: 0.4777 - val_acc: 0.7777\n",
      "Epoch 6/20\n",
      "88550/88550 [==============================] - 1s 6us/step - loss: 0.4970 - acc: 0.7791 - val_loss: 0.4412 - val_acc: 0.7777\n",
      "Epoch 7/20\n",
      "88550/88550 [==============================] - 1s 6us/step - loss: 0.4943 - acc: 0.7791 - val_loss: 0.4438 - val_acc: 0.7777\n",
      "Epoch 8/20\n",
      "88550/88550 [==============================] - 1s 6us/step - loss: 0.4912 - acc: 0.7791 - val_loss: 0.4496 - val_acc: 0.7777\n",
      "Epoch 9/20\n",
      "88550/88550 [==============================] - 1s 6us/step - loss: 0.4872 - acc: 0.7791 - val_loss: 0.4427 - val_acc: 0.7777\n",
      "Epoch 10/20\n",
      "88550/88550 [==============================] - 1s 6us/step - loss: 0.4864 - acc: 0.7791 - val_loss: 0.4420 - val_acc: 0.7777\n",
      "Epoch 11/20\n",
      "88550/88550 [==============================] - 0s 6us/step - loss: 0.4829 - acc: 0.7791 - val_loss: 0.4170 - val_acc: 0.7777\n",
      "Epoch 12/20\n",
      "88550/88550 [==============================] - 1s 6us/step - loss: 0.4819 - acc: 0.7791 - val_loss: 0.4135 - val_acc: 0.7777\n",
      "Epoch 13/20\n",
      "88550/88550 [==============================] - 1s 6us/step - loss: 0.4801 - acc: 0.7791 - val_loss: 0.4061 - val_acc: 0.7777\n",
      "Epoch 14/20\n",
      "88550/88550 [==============================] - 1s 6us/step - loss: 0.4769 - acc: 0.7791 - val_loss: 0.3991 - val_acc: 0.7777\n",
      "Epoch 15/20\n",
      "88550/88550 [==============================] - 1s 6us/step - loss: 0.4750 - acc: 0.7791 - val_loss: 0.3986 - val_acc: 0.7777\n",
      "Epoch 16/20\n",
      "88550/88550 [==============================] - 1s 6us/step - loss: 0.4724 - acc: 0.7791 - val_loss: 0.4158 - val_acc: 0.7777\n",
      "Epoch 17/20\n",
      "88550/88550 [==============================] - 1s 6us/step - loss: 0.4709 - acc: 0.7791 - val_loss: 0.3904 - val_acc: 0.7777\n",
      "Epoch 18/20\n",
      "88550/88550 [==============================] - 1s 6us/step - loss: 0.4695 - acc: 0.7791 - val_loss: 0.3783 - val_acc: 0.7777\n",
      "Epoch 19/20\n",
      "88550/88550 [==============================] - 1s 6us/step - loss: 0.4667 - acc: 0.7791 - val_loss: 0.4027 - val_acc: 0.7777\n",
      "Epoch 20/20\n",
      "88550/88550 [==============================] - 1s 6us/step - loss: 0.4629 - acc: 0.7791 - val_loss: 0.4115 - val_acc: 0.7777\n"
     ]
    }
   ],
   "source": [
    "history_shallow = shallow_nn.fit(partial_X_train, partial_y_train, epochs=20, batch_size=512, validation_data=(x_val, y_val))"
   ]
  },
  {
   "cell_type": "code",
   "execution_count": 77,
   "metadata": {},
   "outputs": [],
   "source": [
    "history_dict = history_shallow.history"
   ]
  },
  {
   "cell_type": "code",
   "execution_count": 78,
   "metadata": {},
   "outputs": [
    {
     "data": {
      "image/png": "[encoded data removed]",
      "text/plain": [
       "<Figure size 432x288 with 1 Axes>"
      ]
     },
     "metadata": {
      "needs_background": "light"
     },
     "output_type": "display_data"
    }
   ],
   "source": [
    "loss_values = history_dict[\"loss\"]\n",
    "val_loss_values = history_dict[\"val_loss\"]\n",
    "\n",
    "epochs = range(1, len(loss_values)+1)\n",
    "\n",
    "plt.plot(epochs, loss_values, \"bo\", label=\"Training loss\")\n",
    "plt.plot(epochs, val_loss_values, \"b\", label=\"Validation loss\")\n",
    "plt.title(\"Training and validation loss\")\n",
    "plt.xlabel(\"Epochs\")\n",
    "plt.ylabel(\"Loss\")\n",
    "plt.legend()\n",
    "\n",
    "plt.show()"
   ]
  },
  {
   "cell_type": "code",
   "execution_count": 79,
   "metadata": {},
   "outputs": [
    {
     "data": {
      "image/png": "[encoded data removed]",
      "text/plain": [
       "<Figure size 432x288 with 1 Axes>"
      ]
     },
     "metadata": {
      "needs_background": "light"
     },
     "output_type": "display_data"
    }
   ],
   "source": [
    "plt.clf()\n",
    "acc_values = history_dict[\"acc\"]\n",
    "val_acc_values = history_dict[\"val_acc\"]\n",
    "\n",
    "plt.plot(epochs, acc_values, \"bo\", label=\"Training acc\")\n",
    "plt.plot(epochs, val_acc_values, \"b\", label=\"Validation acc\")\n",
    "plt.title(\"Training and validation accuracy\")\n",
    "plt.xlabel(\"Epochs\")\n",
    "plt.ylabel(\"Loss\")\n",
    "plt.show()"
   ]
  },
  {
   "cell_type": "code",
   "execution_count": 80,
   "metadata": {},
   "outputs": [
    {
     "data": {
      "text/plain": [
       "array([[0.11426151],\n",
       "       [0.3122403 ],\n",
       "       [0.09040269],\n",
       "       ...,\n",
       "       [0.10935911],\n",
       "       [0.31224027],\n",
       "       [0.21289928]], dtype=float32)"
      ]
     },
     "execution_count": 80,
     "metadata": {},
     "output_type": "execute_result"
    }
   ],
   "source": [
    "shallow_nn.predict(X_test)"
   ]
  },
  {
   "cell_type": "markdown",
   "metadata": {},
   "source": [
    "Deep Neural Network"
   ]
  },
  {
   "cell_type": "code",
   "execution_count": 81,
   "metadata": {},
   "outputs": [
    {
     "name": "stderr",
     "output_type": "stream",
     "text": [
      "C:\\Users\\Axel\\Anaconda3\\lib\\site-packages\\ipykernel_launcher.py:18: UserWarning: Update your `Dense` call to the Keras 2 API: `Dense(1, activation=\"sigmoid\", kernel_initializer=\"uniform\")`\n"
     ]
    }
   ],
   "source": [
    "deep_nn = keras_deep(input_dim=len(X_train.columns))"
   ]
  },
  {
   "cell_type": "code",
   "execution_count": 82,
   "metadata": {},
   "outputs": [
    {
     "name": "stdout",
     "output_type": "stream",
     "text": [
      "Train on 88550 samples, validate on 10000 samples\n",
      "Epoch 1/20\n",
      "88550/88550 [==============================] - 2s 24us/step - loss: 0.6998 - acc: 0.7681 - val_loss: 0.6418 - val_acc: 0.7777\n",
      "Epoch 2/20\n",
      "88550/88550 [==============================] - 1s 13us/step - loss: 0.6048 - acc: 0.7784 - val_loss: 0.6082 - val_acc: 0.7777\n",
      "Epoch 3/20\n",
      "88550/88550 [==============================] - 1s 13us/step - loss: 0.5778 - acc: 0.7790 - val_loss: 0.5802 - val_acc: 0.7777\n",
      "Epoch 4/20\n",
      "88550/88550 [==============================] - 1s 13us/step - loss: 0.5570 - acc: 0.7791 - val_loss: 0.5574 - val_acc: 0.7777\n",
      "Epoch 5/20\n",
      "88550/88550 [==============================] - 1s 13us/step - loss: 0.5430 - acc: 0.7791 - val_loss: 0.5429 - val_acc: 0.7777\n",
      "Epoch 6/20\n",
      "88550/88550 [==============================] - 1s 13us/step - loss: 0.5324 - acc: 0.7791 - val_loss: 0.5333 - val_acc: 0.7777\n",
      "Epoch 7/20\n",
      "88550/88550 [==============================] - 1s 13us/step - loss: 0.5235 - acc: 0.7791 - val_loss: 0.5307 - val_acc: 0.7777\n",
      "Epoch 8/20\n",
      "88550/88550 [==============================] - 1s 13us/step - loss: 0.5121 - acc: 0.7791 - val_loss: 0.5245 - val_acc: 0.7777\n",
      "Epoch 9/20\n",
      "88550/88550 [==============================] - 1s 13us/step - loss: 0.5014 - acc: 0.7791 - val_loss: 0.5144 - val_acc: 0.7777\n",
      "Epoch 10/20\n",
      "88550/88550 [==============================] - 1s 13us/step - loss: 0.4936 - acc: 0.7790 - val_loss: 0.5134 - val_acc: 0.7777\n",
      "Epoch 11/20\n",
      "88550/88550 [==============================] - 1s 13us/step - loss: 0.4882 - acc: 0.7790 - val_loss: 0.4881 - val_acc: 0.7777\n",
      "Epoch 12/20\n",
      "88550/88550 [==============================] - 1s 13us/step - loss: 0.4816 - acc: 0.7790 - val_loss: 0.4801 - val_acc: 0.7777\n",
      "Epoch 13/20\n",
      "88550/88550 [==============================] - 1s 12us/step - loss: 0.4793 - acc: 0.7790 - val_loss: 0.4741 - val_acc: 0.7777\n",
      "Epoch 14/20\n",
      "88550/88550 [==============================] - 1s 12us/step - loss: 0.4738 - acc: 0.7791 - val_loss: 0.4723 - val_acc: 0.7777\n",
      "Epoch 15/20\n",
      "88550/88550 [==============================] - 1s 13us/step - loss: 0.4728 - acc: 0.7791 - val_loss: 0.4576 - val_acc: 0.7777\n",
      "Epoch 16/20\n",
      "88550/88550 [==============================] - 1s 13us/step - loss: 0.4731 - acc: 0.7791 - val_loss: 0.4423 - val_acc: 0.7777\n",
      "Epoch 17/20\n",
      "88550/88550 [==============================] - 1s 12us/step - loss: 0.4681 - acc: 0.7791 - val_loss: 0.4293 - val_acc: 0.7777\n",
      "Epoch 18/20\n",
      "88550/88550 [==============================] - 1s 13us/step - loss: 0.4663 - acc: 0.7791 - val_loss: 0.4541 - val_acc: 0.7777\n",
      "Epoch 19/20\n",
      "88550/88550 [==============================] - 1s 12us/step - loss: 0.4629 - acc: 0.7791 - val_loss: 0.4510 - val_acc: 0.7777\n",
      "Epoch 20/20\n",
      "88550/88550 [==============================] - 1s 12us/step - loss: 0.4604 - acc: 0.7791 - val_loss: 0.4366 - val_acc: 0.7777\n"
     ]
    }
   ],
   "source": [
    "history_deep = deep_nn.fit(partial_X_train, partial_y_train, epochs=20, batch_size=512, validation_data=(x_val, y_val))"
   ]
  },
  {
   "cell_type": "code",
   "execution_count": 83,
   "metadata": {},
   "outputs": [],
   "source": [
    "history_dict = history_deep.history"
   ]
  },
  {
   "cell_type": "code",
   "execution_count": 84,
   "metadata": {},
   "outputs": [
    {
     "data": {
      "image/png": "[encoded data removed]",
      "text/plain": [
       "<Figure size 432x288 with 1 Axes>"
      ]
     },
     "metadata": {
      "needs_background": "light"
     },
     "output_type": "display_data"
    }
   ],
   "source": [
    "loss_values = history_dict[\"loss\"]\n",
    "val_loss_values = history_dict[\"val_loss\"]\n",
    "\n",
    "epochs = range(1, len(loss_values)+1)\n",
    "\n",
    "plt.plot(epochs, loss_values, \"bo\", label=\"Training loss\")\n",
    "plt.plot(epochs, val_loss_values, \"b\", label=\"Validation loss\")\n",
    "plt.title(\"Training and validation loss\")\n",
    "plt.xlabel(\"Epochs\")\n",
    "plt.ylabel(\"Loss\")\n",
    "plt.legend()\n",
    "\n",
    "plt.show()"
   ]
  },
  {
   "cell_type": "code",
   "execution_count": 85,
   "metadata": {},
   "outputs": [
    {
     "data": {
      "image/png": "[encoded data removed]",
      "text/plain": [
       "<Figure size 432x288 with 1 Axes>"
      ]
     },
     "metadata": {
      "needs_background": "light"
     },
     "output_type": "display_data"
    }
   ],
   "source": [
    "plt.clf()\n",
    "acc_values = history_dict[\"acc\"]\n",
    "val_acc_values = history_dict[\"val_acc\"]\n",
    "\n",
    "plt.plot(epochs, acc_values, \"bo\", label=\"Training acc\")\n",
    "plt.plot(epochs, val_acc_values, \"b\", label=\"Validation acc\")\n",
    "plt.title(\"Training and validation accuracy\")\n",
    "plt.xlabel(\"Epochs\")\n",
    "plt.ylabel(\"Acc\")\n",
    "plt.show()"
   ]
  },
  {
   "cell_type": "code",
   "execution_count": 86,
   "metadata": {},
   "outputs": [
    {
     "data": {
      "text/plain": [
       "array([[0.12323707],\n",
       "       [0.355599  ],\n",
       "       [0.09223631],\n",
       "       ...,\n",
       "       [0.15396634],\n",
       "       [0.35559896],\n",
       "       [0.24343115]], dtype=float32)"
      ]
     },
     "execution_count": 86,
     "metadata": {},
     "output_type": "execute_result"
    }
   ],
   "source": [
    "deep_nn.predict(X_test)"
   ]
  },
  {
   "cell_type": "markdown",
   "metadata": {},
   "source": [
    "#### Cactus (Image)"
   ]
  },
  {
   "cell_type": "markdown",
   "metadata": {},
   "source": [
    "Preprocessing"
   ]
  },
  {
   "cell_type": "code",
   "execution_count": 216,
   "metadata": {},
   "outputs": [],
   "source": [
    "train_dir = r'C:\\Users\\Axel\\Documents\\Nova_IMS\\2_Semester\\Deep Learning\\Project\\DLProject\\data_files\\Cactus_Image\\training_set'\n",
    "test_dir = r\"C:\\Users\\Axel\\Documents\\Nova_IMS\\2_Semester\\Deep Learning\\Project\\DLProject\\data_files\\Cactus_Image\\testing_set\""
   ]
  },
  {
   "cell_type": "code",
   "execution_count": 217,
   "metadata": {},
   "outputs": [],
   "source": [
    "from keras.preprocessing.image import ImageDataGenerator\n",
    "# define directory\n",
    "train_datagen = ImageDataGenerator(rescale=1. / 255)\n",
    "test_datagen = ImageDataGenerator(rescale=1. / 255)"
   ]
  },
  {
   "cell_type": "code",
   "execution_count": 218,
   "metadata": {},
   "outputs": [
    {
     "name": "stdout",
     "output_type": "stream",
     "text": [
      "Found 13999 images belonging to 2 classes.\n"
     ]
    }
   ],
   "source": [
    "# get train images\n",
    "train_generator = train_datagen.flow_from_directory(\n",
    "        train_dir,\n",
    "        target_size=(64, 64),\n",
    "        batch_size=20,\n",
    "        class_mode=\"binary\")"
   ]
  },
  {
   "cell_type": "code",
   "execution_count": 219,
   "metadata": {},
   "outputs": [
    {
     "name": "stdout",
     "output_type": "stream",
     "text": [
      "Found 3501 images belonging to 2 classes.\n"
     ]
    }
   ],
   "source": [
    "# get test images\n",
    "test_generator = test_datagen.flow_from_directory(\n",
    "        test_dir,\n",
    "        target_size=(64, 64),\n",
    "        batch_size=20,\n",
    "        class_mode=\"binary\")"
   ]
  },
  {
   "cell_type": "code",
   "execution_count": 238,
   "metadata": {},
   "outputs": [
    {
     "name": "stdout",
     "output_type": "stream",
     "text": [
      "[0.37254903 0.3529412  0.3803922  ... 0.6117647  0.5254902  0.5764706 ]\n",
      "[0.5058824  0.4156863  0.43921572 ... 0.34901962 0.35686275 0.30588236]\n",
      "[0.67058825 0.627451   0.6431373  ... 0.5647059  0.5764706  0.54901963]\n",
      "[0.6        0.5294118  0.52156866 ... 0.57254905 0.50980395 0.5137255 ]\n",
      "[0.78823537 0.7058824  0.7725491  ... 0.59607846 0.4784314  0.50980395]\n",
      "[0.6117647  0.5568628  0.52156866 ... 0.52156866 0.5372549  0.47058827]\n",
      "[0.6745098  0.62352943 0.5921569  ... 0.6666667  0.6117647  0.6117647 ]\n",
      "[0.72156864 0.627451   0.6784314  ... 0.70980394 0.5803922  0.654902  ]\n",
      "[0.5647059  0.54509807 0.57254905 ... 0.5803922  0.52156866 0.59607846]\n",
      "[0.37647063 0.28235295 0.36862746 ... 0.45882356 0.4156863  0.43921572]\n",
      "[0.5411765  0.48235297 0.5019608  ... 0.7803922  0.72156864 0.73333335]\n",
      "[0.627451   0.5372549  0.56078434 ... 0.74509805 0.63529414 0.6901961 ]\n",
      "[0.22352943 0.24313727 0.21568629 ... 0.3254902  0.32941177 0.30588236]\n",
      "[0.6117647  0.5921569  0.5803922  ... 0.3921569  0.34509805 0.38431376]\n",
      "[0.5058824  0.52156866 0.53333336 ... 0.44705886 0.3372549  0.42352945]\n",
      "[0.39607847 0.30980393 0.227451   ... 0.69411767 0.5647059  0.5372549 ]\n",
      "[0.59607846 0.4666667  0.54901963 ... 0.43137258 0.36078432 0.42352945]\n",
      "[0.59607846 0.5372549  0.5568628  ... 0.5411765  0.4901961  0.5254902 ]\n",
      "[0.6117647  0.54901963 0.5529412  ... 0.12941177 0.12156864 0.1254902 ]\n",
      "[0.5803922  0.5019608  0.54901963 ... 0.6745098  0.60784316 0.6392157 ]\n",
      "[0.5411765  0.52156866 0.5058824  ... 0.62352943 0.5686275  0.5686275 ]\n",
      "[0.4901961  0.41960788 0.3647059  ... 0.6117647  0.52156866 0.4901961 ]\n",
      "[0.46274513 0.4039216  0.4156863  ... 0.63529414 0.5294118  0.59607846]\n",
      "[0.48627454 0.47058827 0.427451   ... 0.42352945 0.43137258 0.3803922 ]\n",
      "[0.4901961  0.45098042 0.4039216  ... 0.30980393 0.3019608  0.2509804 ]\n",
      "[0.61960787 0.5411765  0.58431375 ... 0.47450984 0.38823533 0.43921572]\n",
      "[0.4784314  0.43529415 0.45098042 ... 0.34901962 0.3254902  0.3254902 ]\n",
      "[0.27058825 0.29803923 0.23529413 ... 0.3372549  0.29411766 0.2784314 ]\n",
      "[0.6313726  0.54509807 0.5529412  ... 0.50980395 0.43921572 0.43921572]\n",
      "[0.32156864 0.3137255  0.33333334 ... 0.43921572 0.40784317 0.45882356]\n",
      "[0.5529412 0.4901961 0.5019608 ... 0.5882353 0.5294118 0.5411765]\n",
      "[0.5882353  0.49803925 0.52156866 ... 0.6117647  0.54509807 0.5764706 ]\n",
      "[0.25490198 0.20000002 0.25882354 ... 0.35686275 0.30980393 0.34901962]\n",
      "[0.25490198 0.20000002 0.26666668 ... 0.5176471  0.43137258 0.52156866]\n",
      "[0.5882353  0.50980395 0.5058824  ... 0.6156863  0.52156866 0.58431375]\n",
      "[0.4784314 0.427451  0.4039216 ... 0.5686275 0.5137255 0.5137255]\n",
      "[0.6862745  0.6862745  0.64705884 ... 0.45882356 0.41960788 0.38431376]\n",
      "[0.5882353  0.5176471  0.50980395 ... 0.5686275  0.48627454 0.48235297]\n",
      "[0.4666667  0.37254903 0.37254903 ... 0.48235297 0.3921569  0.36862746]\n",
      "[0.427451   0.4431373  0.3529412  ... 0.3137255  0.227451   0.23529413]\n",
      "[0.6666667  0.6156863  0.654902   ... 0.42352945 0.37254903 0.40784317]\n",
      "[0.57254905 0.5372549  0.5176471  ... 0.50980395 0.454902   0.454902  ]\n",
      "[0.6901961  0.5568628  0.62352943 ... 0.50980395 0.39607847 0.47450984]\n",
      "[0.627451   0.5294118  0.6117647  ... 0.34901962 0.25882354 0.32156864]\n",
      "[0.45882356 0.3803922  0.4156863  ... 0.5568628  0.48627454 0.4784314 ]\n",
      "[0.5568628  0.454902   0.45882356 ... 0.31764707 0.26666668 0.3019608 ]\n",
      "[0.32156864 0.30588236 0.27058825 ... 0.53333336 0.40000004 0.4666667 ]\n",
      "[0.45882356 0.3921569  0.454902   ... 0.54509807 0.48235297 0.49411768]\n",
      "[0.29803923 0.25882354 0.3019608  ... 0.33333334 0.33333334 0.37254903]\n",
      "[0.48627454 0.37647063 0.46274513 ... 0.627451   0.5372549  0.6156863 ]\n",
      "[0.52156866 0.47058827 0.49803925 ... 0.5568628  0.50980395 0.46274513]\n",
      "[0.20392159 0.23137257 0.20392159 ... 0.30980393 0.33333334 0.29411766]\n",
      "[0.4784314  0.43137258 0.43921572 ... 0.61960787 0.57254905 0.57254905]\n",
      "[0.61960787 0.53333336 0.54509807 ... 0.49411768 0.37647063 0.47058827]\n",
      "[0.45098042 0.3803922  0.37254903 ... 0.61960787 0.5372549  0.53333336]\n",
      "[0.6156863  0.5686275  0.58431375 ... 0.6039216  0.5568628  0.57254905]\n",
      "[0.43529415 0.45882356 0.41960788 ... 0.40784317 0.39607847 0.3372549 ]\n",
      "[0.48627454 0.43921572 0.44705886 ... 0.21960786 0.23529413 0.23137257]\n",
      "[0.5176471  0.4039216  0.4901961  ... 0.58431375 0.43529415 0.5254902 ]\n",
      "[0.6431373  0.54901963 0.6039216  ... 0.40000004 0.36862746 0.41960788]\n",
      "[0.34509805 0.2901961  0.34117648 ... 0.45098042 0.43137258 0.41960788]\n",
      "[0.40000004 0.37647063 0.37647063 ... 0.45098042 0.3372549  0.42352945]\n",
      "[0.6745098  0.56078434 0.6392157  ... 0.5647059  0.4666667  0.5411765 ]\n",
      "[0.47058827 0.44705886 0.44705886 ... 0.79215693 0.7058824  0.7568628 ]\n",
      "[0.36078432 0.29411766 0.3254902  ... 0.32941177 0.28235295 0.3372549 ]\n",
      "[0.5882353  0.45882356 0.5411765  ... 0.5019608  0.49411768 0.5058824 ]\n",
      "[0.8352942  0.7843138  0.8235295  ... 0.6509804  0.58431375 0.65882355]\n",
      "[0.5176471  0.5176471  0.48627454 ... 0.54509807 0.49411768 0.53333336]\n",
      "[0.6039216  0.54509807 0.53333336 ... 0.627451   0.5568628  0.54901963]\n",
      "[0.427451   0.3254902  0.37647063 ... 0.37254903 0.30980393 0.34901962]\n",
      "[0.6117647  0.48627454 0.5686275  ... 0.54509807 0.48235297 0.53333336]\n",
      "[0.45882356 0.3921569  0.4156863  ... 0.4901961  0.4156863  0.43921572]\n",
      "[0.2901961  0.30980393 0.21960786 ... 0.44705886 0.43137258 0.33333334]\n",
      "[0.5411765  0.4784314  0.4156863  ... 0.40000004 0.3372549  0.2784314 ]\n",
      "[0.4156863  0.3921569  0.3921569  ... 0.53333336 0.48627454 0.5411765 ]\n",
      "[0.27450982 0.20392159 0.26666668 ... 0.4784314  0.36078432 0.454902  ]\n",
      "[0.31764707 0.30588236 0.34901962 ... 0.5137255  0.47058827 0.48627454]\n",
      "[0.63529414 0.5882353  0.5882353  ... 0.64705884 0.5882353  0.6       ]\n",
      "[0.5372549  0.43529415 0.53333336 ... 0.4156863  0.3372549  0.43529415]\n",
      "[0.5019608 0.4039216 0.4156863 ... 0.5686275 0.5019608 0.5254902]\n"
     ]
    }
   ],
   "source": [
    "# limit m is choosen for testing reasons, computation over all images takes 1000 years and is problematic due\n",
    "# to the fact that 13999 can not be divided by the batch size of 20. did not know how to access that somehow else\n",
    "limit_train=5\n",
    "limit_test=2\n",
    "# get dataframe with flattend train images corresponding to size 64x64x3\n",
    "images_train = pd.DataFrame()\n",
    "m = 0\n",
    "for i in train_generator:\n",
    "    n=0\n",
    "    m = m+1\n",
    "    if m == limit_train:\n",
    "        break\n",
    "    else:\n",
    "        while n <= 19:\n",
    "            a = i[0][n].flatten()\n",
    "            print(a)\n",
    "            n = n+1\n",
    "            b= pd.DataFrame(a)\n",
    "            b=b.transpose()\n",
    "            images_train=images_train.append(b)"
   ]
  },
  {
   "cell_type": "code",
   "execution_count": 241,
   "metadata": {},
   "outputs": [
    {
     "name": "stdout",
     "output_type": "stream",
     "text": [
      "[0.4039216  0.3803922  0.3803922  ... 0.31764707 0.27058825 0.2784314 ]\n",
      "[0.36862746 0.3803922  0.3137255  ... 0.43529415 0.45882356 0.41960788]\n",
      "[0.7372549  0.6666667  0.72156864 ... 0.65882355 0.50980395 0.5921569 ]\n",
      "[0.5921569  0.49803925 0.56078434 ... 0.62352943 0.5411765  0.5686275 ]\n",
      "[0.45882356 0.4039216  0.40000004 ... 0.38823533 0.3372549  0.30588236]\n",
      "[0.43529415 0.38823533 0.34117648 ... 0.4431373  0.39607847 0.34117648]\n",
      "[0.627451   0.49803925 0.57254905 ... 0.3921569  0.29411766 0.36862746]\n",
      "[0.3019608  0.27450982 0.3019608  ... 0.5372549  0.4784314  0.5058824 ]\n",
      "[0.5411765  0.48235297 0.46274513 ... 0.5803922  0.52156866 0.49411768]\n",
      "[0.38431376 0.32156864 0.36078432 ... 0.43137258 0.32941177 0.3803922 ]\n",
      "[0.454902   0.5176471  0.4039216  ... 0.57254905 0.5254902  0.53333336]\n",
      "[0.31764707 0.2627451  0.32941177 ... 0.56078434 0.48235297 0.5254902 ]\n",
      "[0.4666667  0.47450984 0.3921569  ... 0.47058827 0.454902   0.45882356]\n",
      "[0.31764707 0.29803923 0.28627452 ... 0.29803923 0.28235295 0.24705884]\n",
      "[0.33333334 0.33333334 0.29411766 ... 0.4156863  0.37647063 0.34117648]\n",
      "[0.21568629 0.227451   0.14509805 ... 0.1137255  0.1254902  0.05882353]\n",
      "[0.5921569  0.5176471  0.5921569  ... 0.81568635 0.7254902  0.80392164]\n",
      "[0.6509804  0.5882353  0.6392157  ... 0.31764707 0.2784314  0.32156864]\n",
      "[0.3372549  0.39607847 0.26666668 ... 0.37254903 0.36078432 0.33333334]\n",
      "[0.31764707 0.30588236 0.2392157  ... 0.54901963 0.4901961  0.4784314 ]\n"
     ]
    }
   ],
   "source": [
    "# get dataframe with flattend train images corresponding to size 64x64x3\n",
    "# also smaller sample\n",
    "m = 0\n",
    "for i in test_generator:\n",
    "    n=0\n",
    "    m = m+1\n",
    "    if m == limit_test:\n",
    "        break\n",
    "    else:\n",
    "        while n <= 19:\n",
    "            a = i[0][n].flatten()\n",
    "            print(a)\n",
    "            n = n+1\n",
    "            b= pd.DataFrame(a)\n",
    "            b=b.transpose()\n",
    "            images_test=images_test.append(b)"
   ]
  },
  {
   "cell_type": "code",
   "execution_count": 239,
   "metadata": {},
   "outputs": [],
   "source": [
    "# get train target (same m as in image data)\n",
    "target_train = []\n",
    "m=0\n",
    "for i in train_generator:\n",
    "    m = m+1\n",
    "    if m==limit_train:\n",
    "        break\n",
    "    else:\n",
    "        c = i[1].tolist()\n",
    "        target_train = target_train + c"
   ]
  },
  {
   "cell_type": "code",
   "execution_count": 242,
   "metadata": {},
   "outputs": [],
   "source": [
    "# get train target (same m as in image data)\n",
    "target_test = []\n",
    "m=0\n",
    "for i in test_generator:\n",
    "    m = m+1\n",
    "    if m==limit_test:\n",
    "        break\n",
    "    else:\n",
    "        c = i[1].tolist()\n",
    "        target_test = target_test + c"
   ]
  },
  {
   "cell_type": "markdown",
   "metadata": {},
   "source": [
    "Split to train and test set"
   ]
  },
  {
   "cell_type": "code",
   "execution_count": 243,
   "metadata": {},
   "outputs": [],
   "source": [
    "X_train, X_test, y_train, y_test = images_train, images_test, target_train, target_test"
   ]
  },
  {
   "cell_type": "code",
   "execution_count": 244,
   "metadata": {},
   "outputs": [],
   "source": [
    "# get validation set\n",
    "x_val = X_train[:10]\n",
    "partial_X_train = X_train[10:]\n",
    "y_val = y_train[:10]\n",
    "partial_y_train = y_train[10:]"
   ]
  },
  {
   "cell_type": "markdown",
   "metadata": {},
   "source": [
    "Shallow Neural Network"
   ]
  },
  {
   "cell_type": "code",
   "execution_count": 245,
   "metadata": {},
   "outputs": [
    {
     "name": "stderr",
     "output_type": "stream",
     "text": [
      "C:\\Users\\Axel\\Anaconda3\\lib\\site-packages\\ipykernel_launcher.py:18: UserWarning: Update your `Dense` call to the Keras 2 API: `Dense(1, activation=\"sigmoid\", kernel_initializer=\"uniform\")`\n"
     ]
    }
   ],
   "source": [
    "shallow_nn = keras_shallow(input_dim=len(X_train.columns))"
   ]
  },
  {
   "cell_type": "code",
   "execution_count": 246,
   "metadata": {},
   "outputs": [
    {
     "name": "stdout",
     "output_type": "stream",
     "text": [
      "Train on 70 samples, validate on 10 samples\n",
      "Epoch 1/20\n",
      "70/70 [==============================] - 0s 7ms/step - loss: 0.6917 - acc: 0.6143 - val_loss: 0.6273 - val_acc: 0.9000\n",
      "Epoch 2/20\n",
      "70/70 [==============================] - 0s 371us/step - loss: 0.6820 - acc: 0.7286 - val_loss: 0.6022 - val_acc: 0.9000\n",
      "Epoch 3/20\n",
      "70/70 [==============================] - 0s 357us/step - loss: 0.6744 - acc: 0.6857 - val_loss: 0.6180 - val_acc: 0.9000\n",
      "Epoch 4/20\n",
      "70/70 [==============================] - 0s 542us/step - loss: 0.6837 - acc: 0.6714 - val_loss: 0.6370 - val_acc: 0.9000\n",
      "Epoch 5/20\n",
      "70/70 [==============================] - 0s 342us/step - loss: 0.6449 - acc: 0.7429 - val_loss: 0.5089 - val_acc: 0.9000\n",
      "Epoch 6/20\n",
      "70/70 [==============================] - 0s 357us/step - loss: 0.7119 - acc: 0.6714 - val_loss: 0.5513 - val_acc: 0.9000\n",
      "Epoch 7/20\n",
      "70/70 [==============================] - 0s 457us/step - loss: 0.5978 - acc: 0.7429 - val_loss: 0.5214 - val_acc: 0.9000\n",
      "Epoch 8/20\n",
      "70/70 [==============================] - 0s 343us/step - loss: 0.6299 - acc: 0.7429 - val_loss: 0.5637 - val_acc: 0.9000\n",
      "Epoch 9/20\n",
      "70/70 [==============================] - 0s 486us/step - loss: 0.6135 - acc: 0.7571 - val_loss: 0.5270 - val_acc: 0.9000\n",
      "Epoch 10/20\n",
      "70/70 [==============================] - 0s 357us/step - loss: 0.5746 - acc: 0.7429 - val_loss: 0.4805 - val_acc: 0.9000\n",
      "Epoch 11/20\n",
      "70/70 [==============================] - 0s 357us/step - loss: 0.6104 - acc: 0.7429 - val_loss: 0.5378 - val_acc: 0.9000\n",
      "Epoch 12/20\n",
      "70/70 [==============================] - 0s 443us/step - loss: 0.7190 - acc: 0.7571 - val_loss: 0.5975 - val_acc: 0.9000\n",
      "Epoch 13/20\n",
      "70/70 [==============================] - 0s 414us/step - loss: 0.6368 - acc: 0.7571 - val_loss: 0.5702 - val_acc: 0.9000\n",
      "Epoch 14/20\n",
      "70/70 [==============================] - 0s 357us/step - loss: 0.6242 - acc: 0.7571 - val_loss: 0.5583 - val_acc: 0.9000\n",
      "Epoch 15/20\n",
      "70/70 [==============================] - 0s 357us/step - loss: 0.5948 - acc: 0.7571 - val_loss: 0.5275 - val_acc: 0.9000\n",
      "Epoch 16/20\n",
      "70/70 [==============================] - 0s 500us/step - loss: 0.6664 - acc: 0.7571 - val_loss: 0.5737 - val_acc: 0.9000\n",
      "Epoch 17/20\n",
      "70/70 [==============================] - 0s 357us/step - loss: 0.6324 - acc: 0.7571 - val_loss: 0.5635 - val_acc: 0.9000\n",
      "Epoch 18/20\n",
      "70/70 [==============================] - 0s 314us/step - loss: 0.6404 - acc: 0.7571 - val_loss: 0.5463 - val_acc: 0.9000\n",
      "Epoch 19/20\n",
      "70/70 [==============================] - 0s 457us/step - loss: 0.6203 - acc: 0.7571 - val_loss: 0.5280 - val_acc: 0.9000\n",
      "Epoch 20/20\n",
      "70/70 [==============================] - 0s 371us/step - loss: 0.6031 - acc: 0.7571 - val_loss: 0.5287 - val_acc: 0.9000\n"
     ]
    }
   ],
   "source": [
    "history_shallow = shallow_nn.fit(partial_X_train, partial_y_train, epochs=20, batch_size=512, validation_data=(x_val, y_val))"
   ]
  },
  {
   "cell_type": "code",
   "execution_count": 247,
   "metadata": {},
   "outputs": [],
   "source": [
    "history_dict = history_shallow.history"
   ]
  },
  {
   "cell_type": "code",
   "execution_count": 248,
   "metadata": {},
   "outputs": [
    {
     "data": {
      "image/png": "[encoded data removed]",
      "text/plain": [
       "<Figure size 432x288 with 1 Axes>"
      ]
     },
     "metadata": {
      "needs_background": "light"
     },
     "output_type": "display_data"
    }
   ],
   "source": [
    "loss_values = history_dict[\"loss\"]\n",
    "val_loss_values = history_dict[\"val_loss\"]\n",
    "\n",
    "epochs = range(1, len(loss_values)+1)\n",
    "\n",
    "plt.plot(epochs, loss_values, \"bo\", label=\"Training loss\")\n",
    "plt.plot(epochs, val_loss_values, \"b\", label=\"Validation loss\")\n",
    "plt.title(\"Training and validation loss\")\n",
    "plt.xlabel(\"Epochs\")\n",
    "plt.ylabel(\"Loss\")\n",
    "plt.legend()\n",
    "\n",
    "plt.show()"
   ]
  },
  {
   "cell_type": "code",
   "execution_count": 249,
   "metadata": {},
   "outputs": [
    {
     "data": {
      "image/png": "[encoded data removed]",
      "text/plain": [
       "<Figure size 432x288 with 1 Axes>"
      ]
     },
     "metadata": {
      "needs_background": "light"
     },
     "output_type": "display_data"
    }
   ],
   "source": [
    "plt.clf()\n",
    "acc_values = history_dict[\"acc\"]\n",
    "val_acc_values = history_dict[\"val_acc\"]\n",
    "\n",
    "plt.plot(epochs, acc_values, \"bo\", label=\"Training acc\")\n",
    "plt.plot(epochs, val_acc_values, \"b\", label=\"Validation acc\")\n",
    "plt.title(\"Training and validation accuracy\")\n",
    "plt.xlabel(\"Epochs\")\n",
    "plt.ylabel(\"Loss\")\n",
    "plt.show()"
   ]
  },
  {
   "cell_type": "code",
   "execution_count": 250,
   "metadata": {},
   "outputs": [
    {
     "data": {
      "text/plain": [
       "array([[0.39056665],\n",
       "       [0.4177832 ],\n",
       "       [0.36265078],\n",
       "       [0.36451212],\n",
       "       [0.4196863 ],\n",
       "       [0.4064532 ],\n",
       "       [0.37121165],\n",
       "       [0.40971893],\n",
       "       [0.38383183],\n",
       "       [0.3902996 ],\n",
       "       [0.37482867],\n",
       "       [0.37981516],\n",
       "       [0.39073288],\n",
       "       [0.41467437],\n",
       "       [0.40569928],\n",
       "       [0.43577203],\n",
       "       [0.35728788],\n",
       "       [0.38076553],\n",
       "       [0.40826604],\n",
       "       [0.38444626]], dtype=float32)"
      ]
     },
     "execution_count": 250,
     "metadata": {},
     "output_type": "execute_result"
    }
   ],
   "source": [
    "shallow_nn.predict(X_test)"
   ]
  },
  {
   "cell_type": "markdown",
   "metadata": {},
   "source": [
    "Deep Neural Network"
   ]
  },
  {
   "cell_type": "code",
   "execution_count": 251,
   "metadata": {},
   "outputs": [
    {
     "name": "stderr",
     "output_type": "stream",
     "text": [
      "C:\\Users\\Axel\\Anaconda3\\lib\\site-packages\\ipykernel_launcher.py:18: UserWarning: Update your `Dense` call to the Keras 2 API: `Dense(1, activation=\"sigmoid\", kernel_initializer=\"uniform\")`\n"
     ]
    }
   ],
   "source": [
    "deep_nn = keras_deep(input_dim=len(X_train.columns))"
   ]
  },
  {
   "cell_type": "code",
   "execution_count": 252,
   "metadata": {},
   "outputs": [
    {
     "name": "stdout",
     "output_type": "stream",
     "text": [
      "Train on 70 samples, validate on 10 samples\n",
      "Epoch 1/20\n",
      "70/70 [==============================] - 1s 11ms/step - loss: 0.6902 - acc: 0.7143 - val_loss: 0.6814 - val_acc: 0.9000\n",
      "Epoch 2/20\n",
      "70/70 [==============================] - 0s 357us/step - loss: 0.6846 - acc: 0.7714 - val_loss: 0.6881 - val_acc: 0.9000\n",
      "Epoch 3/20\n",
      "70/70 [==============================] - 0s 314us/step - loss: 0.6811 - acc: 0.7286 - val_loss: 0.6874 - val_acc: 0.9000\n",
      "Epoch 4/20\n",
      "70/70 [==============================] - 0s 443us/step - loss: 0.6596 - acc: 0.7286 - val_loss: 0.6842 - val_acc: 0.9000\n",
      "Epoch 5/20\n",
      "70/70 [==============================] - 0s 300us/step - loss: 0.6627 - acc: 0.7714 - val_loss: 0.6838 - val_acc: 0.9000\n",
      "Epoch 6/20\n",
      "70/70 [==============================] - 0s 429us/step - loss: 0.6155 - acc: 0.7286 - val_loss: 0.6764 - val_acc: 0.9000\n",
      "Epoch 7/20\n",
      "70/70 [==============================] - 0s 414us/step - loss: 0.6922 - acc: 0.6714 - val_loss: 0.6763 - val_acc: 0.9000\n",
      "Epoch 8/20\n",
      "70/70 [==============================] - 0s 314us/step - loss: 0.6272 - acc: 0.7429 - val_loss: 0.6747 - val_acc: 0.9000\n",
      "Epoch 9/20\n",
      "70/70 [==============================] - 0s 371us/step - loss: 0.6291 - acc: 0.7571 - val_loss: 0.6709 - val_acc: 0.9000\n",
      "Epoch 10/20\n",
      "70/70 [==============================] - 0s 471us/step - loss: 0.6464 - acc: 0.7429 - val_loss: 0.6669 - val_acc: 0.9000\n",
      "Epoch 11/20\n",
      "70/70 [==============================] - 0s 314us/step - loss: 0.6479 - acc: 0.7286 - val_loss: 0.6670 - val_acc: 0.9000\n",
      "Epoch 12/20\n",
      "70/70 [==============================] - 0s 329us/step - loss: 0.6419 - acc: 0.7571 - val_loss: 0.6663 - val_acc: 0.9000\n",
      "Epoch 13/20\n",
      "70/70 [==============================] - 0s 371us/step - loss: 0.6119 - acc: 0.7571 - val_loss: 0.6650 - val_acc: 0.9000\n",
      "Epoch 14/20\n",
      "70/70 [==============================] - 0s 300us/step - loss: 0.6615 - acc: 0.7571 - val_loss: 0.6672 - val_acc: 0.9000\n",
      "Epoch 15/20\n",
      "70/70 [==============================] - 0s 371us/step - loss: 0.6209 - acc: 0.7571 - val_loss: 0.6643 - val_acc: 0.9000\n",
      "Epoch 16/20\n",
      "70/70 [==============================] - 0s 300us/step - loss: 0.7046 - acc: 0.7429 - val_loss: 0.6712 - val_acc: 0.9000\n",
      "Epoch 17/20\n",
      "70/70 [==============================] - 0s 500us/step - loss: 0.6389 - acc: 0.7429 - val_loss: 0.6630 - val_acc: 0.9000\n",
      "Epoch 18/20\n",
      "70/70 [==============================] - 0s 343us/step - loss: 0.6548 - acc: 0.7429 - val_loss: 0.6619 - val_acc: 0.9000\n",
      "Epoch 19/20\n",
      "70/70 [==============================] - 0s 329us/step - loss: 0.6764 - acc: 0.7714 - val_loss: 0.6681 - val_acc: 0.9000\n",
      "Epoch 20/20\n",
      "70/70 [==============================] - 0s 343us/step - loss: 0.6725 - acc: 0.7429 - val_loss: 0.6705 - val_acc: 0.9000\n"
     ]
    }
   ],
   "source": [
    "history_deep = deep_nn.fit(partial_X_train, partial_y_train, epochs=20, batch_size=512, validation_data=(x_val, y_val))"
   ]
  },
  {
   "cell_type": "code",
   "execution_count": 253,
   "metadata": {},
   "outputs": [],
   "source": [
    "history_dict = history_deep.history"
   ]
  },
  {
   "cell_type": "code",
   "execution_count": 254,
   "metadata": {},
   "outputs": [
    {
     "data": {
      "image/png": "[encoded data removed]",
      "text/plain": [
       "<Figure size 432x288 with 1 Axes>"
      ]
     },
     "metadata": {
      "needs_background": "light"
     },
     "output_type": "display_data"
    }
   ],
   "source": [
    "loss_values = history_dict[\"loss\"]\n",
    "val_loss_values = history_dict[\"val_loss\"]\n",
    "\n",
    "epochs = range(1, len(loss_values)+1)\n",
    "\n",
    "plt.plot(epochs, loss_values, \"bo\", label=\"Training loss\")\n",
    "plt.plot(epochs, val_loss_values, \"b\", label=\"Validation loss\")\n",
    "plt.title(\"Training and validation loss\")\n",
    "plt.xlabel(\"Epochs\")\n",
    "plt.ylabel(\"Loss\")\n",
    "plt.legend()\n",
    "\n",
    "plt.show()"
   ]
  },
  {
   "cell_type": "code",
   "execution_count": 255,
   "metadata": {},
   "outputs": [
    {
     "data": {
      "image/png": "[encoded data removed]",
      "text/plain": [
       "<Figure size 432x288 with 1 Axes>"
      ]
     },
     "metadata": {
      "needs_background": "light"
     },
     "output_type": "display_data"
    }
   ],
   "source": [
    "val_acc_values = history_dict[\"val_acc\"]\n",
    "\n",
    "plt.plot(epochs, acc_values, \"bo\", label=\"Training acc\")\n",
    "plt.plot(epochs, val_acc_values, \"b\", label=\"Validation acc\")\n",
    "plt.title(\"Training and validation accuracy\")\n",
    "plt.xlabel(\"Epochs\")\n",
    "plt.ylabel(\"Acc\")\n",
    "plt.show()"
   ]
  },
  {
   "cell_type": "code",
   "execution_count": 256,
   "metadata": {},
   "outputs": [
    {
     "data": {
      "text/plain": [
       "array([[0.48625016],\n",
       "       [0.4873419 ],\n",
       "       [0.4848935 ],\n",
       "       [0.48488778],\n",
       "       [0.48732808],\n",
       "       [0.48684126],\n",
       "       [0.48522782],\n",
       "       [0.48702082],\n",
       "       [0.48595953],\n",
       "       [0.4861002 ],\n",
       "       [0.48536786],\n",
       "       [0.48571938],\n",
       "       [0.48608974],\n",
       "       [0.487329  ],\n",
       "       [0.48680988],\n",
       "       [0.48818168],\n",
       "       [0.48461142],\n",
       "       [0.48563612],\n",
       "       [0.48693717],\n",
       "       [0.48580295]], dtype=float32)"
      ]
     },
     "execution_count": 256,
     "metadata": {},
     "output_type": "execute_result"
    }
   ],
   "source": [
    "deep_nn.predict(X_test)"
   ]
  },
  {
   "cell_type": "markdown",
   "metadata": {},
   "source": [
    "#### IMDB (Text)"
   ]
  },
  {
   "cell_type": "markdown",
   "metadata": {},
   "source": [
    "Preprocessing and Split to Train and Test"
   ]
  },
  {
   "cell_type": "code",
   "execution_count": 263,
   "metadata": {},
   "outputs": [],
   "source": [
    "import codecs\n",
    "import nltk\n",
    "pos_lines_imdb = codecs.open(r\"C:\\Users\\Axel\\Documents\\Nova_IMS\\2_Semester\\Deep Learning\\Project\\DLProject\\data_files\\Text\\positive.txt\",\"r\",encoding=\"latin2\").read()\n",
    "neg_lines_imdb = codecs.open(r\"C:\\Users\\Axel\\Documents\\Nova_IMS\\2_Semester\\Deep Learning\\Project\\DLProject\\data_files\\Text\\negative.txt\",\"r\", encoding=\"latin2\").read()\n",
    "    \n",
    "all_words_imdb = []\n",
    "documents_imdb = []\n",
    "    \n",
    "allowed_word_types = [\"J\"]\n",
    "    \n",
    "for p in pos_lines_imdb.split(\"\\n\"):\n",
    "    documents_imdb.append((p,\"pos\"))\n",
    "    words = word_tokenize(p)\n",
    "    pos = nltk.pos_tag(words)\n",
    "    for w in pos:\n",
    "        if w[1][0] in allowed_word_types:\n",
    "            all_words_imdb.append(w[0].lower())\n",
    "    \n",
    "for p in neg_lines_imdb.split(\"\\n\"):\n",
    "    documents_imdb.append((p,\"neg\"))\n",
    "    words = word_tokenize(p)\n",
    "    pos = nltk.pos_tag(words)\n",
    "    for w in pos:\n",
    "        if w[1][0] in allowed_word_types:\n",
    "            all_words_imdb.append(w[0].lower())\n",
    "                \n",
    "# Get list of lists in dataframe\n",
    "headers = [\"text\", \"y\"]\n",
    "df = pd.DataFrame(documents_imdb, columns=headers)\n",
    "df[\"y\"] = df[\"y\"].map({\"pos\": 1, \"neg\": 0})"
   ]
  },
  {
   "cell_type": "code",
   "execution_count": 265,
   "metadata": {},
   "outputs": [],
   "source": [
    "# get frequency of words\n",
    "from nltk import FreqDist\n",
    "frequency = FreqDist(all_words_imdb)"
   ]
  },
  {
   "cell_type": "code",
   "execution_count": 266,
   "metadata": {},
   "outputs": [],
   "source": [
    "# create frequency dataframe\n",
    "df_imdb = pd.DataFrame.from_dict(frequency, orient='index')\n",
    "df_imdb = df_alice.rename(columns={0: 'Count'})"
   ]
  },
  {
   "cell_type": "code",
   "execution_count": 268,
   "metadata": {},
   "outputs": [],
   "source": [
    "# sort values by frequency\n",
    "df_imdb = df_imdb.sort_values(by=['Count'], ascending=False)"
   ]
  },
  {
   "cell_type": "code",
   "execution_count": 269,
   "metadata": {},
   "outputs": [],
   "source": [
    "# assign number\n",
    "df_imdb['Number'] = range(1, 1+len(df_imdb))"
   ]
  },
  {
   "cell_type": "code",
   "execution_count": 270,
   "metadata": {},
   "outputs": [],
   "source": [
    "df_imdb = df_imdb.reset_index()"
   ]
  },
  {
   "cell_type": "code",
   "execution_count": 271,
   "metadata": {},
   "outputs": [],
   "source": [
    "df_imdb = df_imdb.rename(columns={\"index\":\"word\"})"
   ]
  },
  {
   "cell_type": "code",
   "execution_count": 273,
   "metadata": {},
   "outputs": [
    {
     "data": {
      "text/html": [
       "<div>\n",
       "<style scoped>\n",
       "    .dataframe tbody tr th:only-of-type {\n",
       "        vertical-align: middle;\n",
       "    }\n",
       "\n",
       "    .dataframe tbody tr th {\n",
       "        vertical-align: top;\n",
       "    }\n",
       "\n",
       "    .dataframe thead th {\n",
       "        text-align: right;\n",
       "    }\n",
       "</style>\n",
       "<table border=\"1\" class=\"dataframe\">\n",
       "  <thead>\n",
       "    <tr style=\"text-align: right;\">\n",
       "      <th></th>\n",
       "      <th>word</th>\n",
       "      <th>Count</th>\n",
       "      <th>Number</th>\n",
       "    </tr>\n",
       "  </thead>\n",
       "  <tbody>\n",
       "    <tr>\n",
       "      <th>0</th>\n",
       "      <td>good</td>\n",
       "      <td>369</td>\n",
       "      <td>1</td>\n",
       "    </tr>\n",
       "    <tr>\n",
       "      <th>1</th>\n",
       "      <td>more</td>\n",
       "      <td>331</td>\n",
       "      <td>2</td>\n",
       "    </tr>\n",
       "    <tr>\n",
       "      <th>2</th>\n",
       "      <td>little</td>\n",
       "      <td>265</td>\n",
       "      <td>3</td>\n",
       "    </tr>\n",
       "    <tr>\n",
       "      <th>3</th>\n",
       "      <td>funny</td>\n",
       "      <td>245</td>\n",
       "      <td>4</td>\n",
       "    </tr>\n",
       "    <tr>\n",
       "      <th>4</th>\n",
       "      <td>bad</td>\n",
       "      <td>234</td>\n",
       "      <td>5</td>\n",
       "    </tr>\n",
       "  </tbody>\n",
       "</table>\n",
       "</div>"
      ],
      "text/plain": [
       "     word  Count  Number\n",
       "0    good    369       1\n",
       "1    more    331       2\n",
       "2  little    265       3\n",
       "3   funny    245       4\n",
       "4     bad    234       5"
      ]
     },
     "execution_count": 273,
     "metadata": {},
     "output_type": "execute_result"
    }
   ],
   "source": [
    "df_imdb.head()"
   ]
  },
  {
   "cell_type": "code",
   "execution_count": 308,
   "metadata": {},
   "outputs": [],
   "source": [
    "df = df.loc[1:5]"
   ]
  },
  {
   "cell_type": "code",
   "execution_count": 299,
   "metadata": {},
   "outputs": [],
   "source": [
    "dictionary = dict(zip(df_imdb.word, df_imdb.Number))"
   ]
  },
  {
   "cell_type": "code",
   "execution_count": 311,
   "metadata": {},
   "outputs": [
    {
     "data": {
      "text/plain": [
       "{'good': 1,\n",
       " 'more': 2,\n",
       " 'little': 3,\n",
       " 'funny': 4,\n",
       " 'bad': 5,\n",
       " 'much': 6,\n",
       " 'best': 7,\n",
       " 'new': 8,\n",
       " 'own': 9,\n",
       " 'many': 10,\n",
       " 'most': 11,\n",
       " 'other': 12,\n",
       " 'great': 13,\n",
       " 'big': 14,\n",
       " 'few': 15,\n",
       " 'first': 16,\n",
       " 'real': 17,\n",
       " 'i': 18,\n",
       " 'better': 19,\n",
       " 'full': 20,\n",
       " 'such': 21,\n",
       " 'romantic': 22,\n",
       " 'american': 23,\n",
       " 'old': 24,\n",
       " 'same': 25,\n",
       " 'original': 26,\n",
       " 'human': 27,\n",
       " 'hard': 28,\n",
       " 'interesting': 29,\n",
       " '[': 30,\n",
       " 'young': 31,\n",
       " 'enough': 32,\n",
       " 'emotional': 33,\n",
       " 'least': 34,\n",
       " 'long': 35,\n",
       " 'last': 36,\n",
       " 'cinematic': 37,\n",
       " 'entertaining': 38,\n",
       " 'true': 39,\n",
       " 'high': 40,\n",
       " 'predictable': 41,\n",
       " 'special': 42,\n",
       " ']': 43,\n",
       " 'visual': 44,\n",
       " 'familiar': 45,\n",
       " 'whole': 46,\n",
       " 'comic': 47,\n",
       " 'enjoyable': 48,\n",
       " 'less': 49,\n",
       " 'sweet': 50,\n",
       " 'narrative': 51,\n",
       " 'short': 52,\n",
       " 'worst': 53,\n",
       " 'strong': 54,\n",
       " 'only': 55,\n",
       " 'fascinating': 56,\n",
       " 'obvious': 57,\n",
       " 'solid': 58,\n",
       " 'modern': 59,\n",
       " 'powerful': 60,\n",
       " 'french': 61,\n",
       " 'right': 62,\n",
       " 'fresh': 63,\n",
       " 'rare': 64,\n",
       " 'easy': 65,\n",
       " 'recent': 66,\n",
       " 'dramatic': 67,\n",
       " 'next': 68,\n",
       " 'dull': 69,\n",
       " 'fine': 70,\n",
       " 'worth': 71,\n",
       " 'sure': 72,\n",
       " 'serious': 73,\n",
       " 'black': 74,\n",
       " 'small': 75,\n",
       " 'beautiful': 76,\n",
       " 'dark': 77,\n",
       " 'hilarious': 78,\n",
       " 'classic': 79,\n",
       " 'impossible': 80,\n",
       " 'smart': 81,\n",
       " 'sad': 82,\n",
       " 'different': 83,\n",
       " 'personal': 84,\n",
       " 'compelling': 85,\n",
       " 'pretentious': 86,\n",
       " 'slow': 87,\n",
       " 'psychological': 88,\n",
       " 'complex': 89,\n",
       " 'intelligent': 90,\n",
       " 'subject': 91,\n",
       " 'difficult': 92,\n",
       " 'flat': 93,\n",
       " 'political': 94,\n",
       " 'likely': 95,\n",
       " 'social': 96,\n",
       " 'perfect': 97,\n",
       " 'quirky': 98,\n",
       " 'clever': 99,\n",
       " 'silly': 100,\n",
       " 'simple': 101,\n",
       " 'memorable': 102,\n",
       " 'overall': 103,\n",
       " 'rich': 104,\n",
       " 'dumb': 105,\n",
       " 'several': 106,\n",
       " 'final': 107,\n",
       " 'second': 108,\n",
       " 'possible': 109,\n",
       " 'excellent': 110,\n",
       " 'moral': 111,\n",
       " 'wrong': 112,\n",
       " 'wonderful': 113,\n",
       " 'entire': 114,\n",
       " 'tedious': 115,\n",
       " 'thoughtful': 116,\n",
       " 'usual': 117,\n",
       " 'sharp': 118,\n",
       " 'remarkable': 119,\n",
       " 'terrific': 120,\n",
       " 'latest': 121,\n",
       " 'nice': 122,\n",
       " 'honest': 123,\n",
       " 'gorgeous': 124,\n",
       " 'genuine': 125,\n",
       " 'quiet': 126,\n",
       " 'impressive': 127,\n",
       " 'sci-fi': 128,\n",
       " 'effective': 129,\n",
       " 'brilliant': 130,\n",
       " 'ambitious': 131,\n",
       " 'stupid': 132,\n",
       " 'worse': 133,\n",
       " 'important': 134,\n",
       " 'surprising': 135,\n",
       " 'able': 136,\n",
       " 'awful': 137,\n",
       " 'clear': 138,\n",
       " 'intriguing': 139,\n",
       " 'strange': 140,\n",
       " 'sexual': 141,\n",
       " 'certain': 142,\n",
       " 'creative': 143,\n",
       " 'decent': 144,\n",
       " 'boring': 145,\n",
       " 'wild': 146,\n",
       " 'pretty': 147,\n",
       " 'thin': 148,\n",
       " 'historical': 149,\n",
       " 'provocative': 150,\n",
       " 'deep': 151,\n",
       " 'dead': 152,\n",
       " 'teen': 153,\n",
       " 'major': 154,\n",
       " 'single': 155,\n",
       " 'unexpected': 156,\n",
       " 'scary': 157,\n",
       " 'cultural': 158,\n",
       " 'unfunny': 159,\n",
       " 'ensemble': 160,\n",
       " 'watchable': 161,\n",
       " 'generic': 162,\n",
       " 'heavy': 163,\n",
       " 'previous': 164,\n",
       " 'melodramatic': 165,\n",
       " 'sensitive': 166,\n",
       " 'delightful': 167,\n",
       " 'coming-of-age': 168,\n",
       " 'forgettable': 169,\n",
       " 'subtle': 170,\n",
       " 'earnest': 171,\n",
       " 'old-fashioned': 172,\n",
       " 'contemporary': 173,\n",
       " 'ultimate': 174,\n",
       " 'happy': 175,\n",
       " 'white': 176,\n",
       " 'cool': 177,\n",
       " 'successful': 178,\n",
       " 'odd': 179,\n",
       " 'tired': 180,\n",
       " 'complete': 181,\n",
       " 'inventive': 182,\n",
       " 'considerable': 183,\n",
       " 'cold': 184,\n",
       " 'tragic': 185,\n",
       " 'low': 186,\n",
       " 'past': 187,\n",
       " 'crazy': 188,\n",
       " 'terrible': 189,\n",
       " 'sentimental': 190,\n",
       " 'urban': 191,\n",
       " 'female': 192,\n",
       " 'interested': 193,\n",
       " 'typical': 194,\n",
       " 'cheap': 195,\n",
       " 'painful': 196,\n",
       " 'uneven': 197,\n",
       " 'stylish': 198,\n",
       " 'british': 199,\n",
       " 'fun': 200,\n",
       " 'well-acted': 201,\n",
       " 'bright': 202,\n",
       " 'poor': 203,\n",
       " 'formulaic': 204,\n",
       " 'witty': 205,\n",
       " 'extreme': 206,\n",
       " 'general': 207,\n",
       " 'central': 208,\n",
       " 'gentle': 209,\n",
       " 'energetic': 210,\n",
       " 'sophisticated': 211,\n",
       " 'satisfying': 212,\n",
       " 'dry': 213,\n",
       " 'huge': 214,\n",
       " 'warm': 215,\n",
       " 'tough': 216,\n",
       " 'weak': 217,\n",
       " 'utterly': 218,\n",
       " 'insightful': 219,\n",
       " 'derivative': 220,\n",
       " 'unsettling': 221,\n",
       " 'conventional': 222,\n",
       " 'japanese': 223,\n",
       " 'imaginative': 224,\n",
       " 'superficial': 225,\n",
       " 'weird': 226,\n",
       " 'particular': 227,\n",
       " 'talented': 228,\n",
       " 'heavy-handed': 229,\n",
       " 'minor': 230,\n",
       " 'unusual': 231,\n",
       " 'large': 232,\n",
       " 'alive': 233,\n",
       " 'unique': 234,\n",
       " 'pleasant': 235,\n",
       " 'light': 236,\n",
       " 'simplistic': 237,\n",
       " 'slight': 238,\n",
       " 'worthwhile': 239,\n",
       " 'worthy': 240,\n",
       " 'guilty': 241,\n",
       " 'red': 242,\n",
       " 'believable': 243,\n",
       " 'pure': 244,\n",
       " 'welcome': 245,\n",
       " 'extraordinary': 246,\n",
       " 'natural': 247,\n",
       " 'spiritual': 248,\n",
       " 'realistic': 249,\n",
       " 'bizarre': 250,\n",
       " 'lazy': 251,\n",
       " 'directorial': 252,\n",
       " 'sincere': 253,\n",
       " 'blue': 254,\n",
       " 'steven': 255,\n",
       " 'ridiculous': 256,\n",
       " 'average': 257,\n",
       " 'greatest': 258,\n",
       " 'documentary': 259,\n",
       " 'dreary': 260,\n",
       " 'stunning': 261,\n",
       " 'thought-provoking': 262,\n",
       " 'repetitive': 263,\n",
       " 'delicate': 264,\n",
       " 'funnier': 265,\n",
       " 'universal': 266,\n",
       " 'poetic': 267,\n",
       " 'una': 268,\n",
       " 'accessible': 269,\n",
       " 'manipulative': 270,\n",
       " 'routine': 271,\n",
       " 'empty': 272,\n",
       " 'poignant': 273,\n",
       " 'colorful': 274,\n",
       " 'offensive': 275,\n",
       " 'free': 276,\n",
       " 'intense': 277,\n",
       " 'main': 278,\n",
       " 'raw': 279,\n",
       " 'musical': 280,\n",
       " 'green': 281,\n",
       " 'animated': 282,\n",
       " 'artistic': 283,\n",
       " 'cute': 284,\n",
       " 'admirable': 285,\n",
       " 'amazing': 286,\n",
       " 'giant': 287,\n",
       " 'screen': 288,\n",
       " 'necessary': 289,\n",
       " 'unpleasant': 290,\n",
       " 'modest': 291,\n",
       " 'broad': 292,\n",
       " 'precious': 293,\n",
       " 'authentic': 294,\n",
       " 'funniest': 295,\n",
       " 'national': 296,\n",
       " 'fair': 297,\n",
       " 'well-made': 298,\n",
       " 'commercial': 299,\n",
       " 'loud': 300,\n",
       " 'un': 301,\n",
       " 'sappy': 302,\n",
       " 'deeper': 303,\n",
       " 'outrageous': 304,\n",
       " 'grand': 305,\n",
       " 'chinese': 306,\n",
       " 'first-time': 307,\n",
       " 'superior': 308,\n",
       " 'humorous': 309,\n",
       " 'spectacular': 310,\n",
       " 'digital': 311,\n",
       " 'cautionary': 312,\n",
       " 'cynical': 313,\n",
       " 'playful': 314,\n",
       " 'tiresome': 315,\n",
       " 'italian': 316,\n",
       " 'gritty': 317,\n",
       " 'exciting': 318,\n",
       " 'foreign': 319,\n",
       " 'fantastic': 320,\n",
       " 'hot': 321,\n",
       " 'lame': 322,\n",
       " 'touching': 323,\n",
       " 'sloppy': 324,\n",
       " 'engaging': 325,\n",
       " 'philosophical': 326,\n",
       " 'self-indulgent': 327,\n",
       " 'dangerous': 328,\n",
       " 'common': 329,\n",
       " 'standard': 330,\n",
       " 'um': 331,\n",
       " 'close': 332,\n",
       " 'real-life': 333,\n",
       " 'iranian': 334,\n",
       " 'literary': 335,\n",
       " 'amusing': 336,\n",
       " 'clumsy': 337,\n",
       " 'mediocre': 338,\n",
       " 'willing': 339,\n",
       " 'ludicrous': 340,\n",
       " 'disappointing': 341,\n",
       " 'unlikely': 342,\n",
       " 'over-the-top': 343,\n",
       " 'utter': 344,\n",
       " 'preposterous': 345,\n",
       " 'early': 346,\n",
       " 'feel-good': 347,\n",
       " 'b-movie': 348,\n",
       " 'likable': 349,\n",
       " 'low-key': 350,\n",
       " 'middle': 351,\n",
       " 'comedic': 352,\n",
       " 'intellectual': 353,\n",
       " 'horrible': 354,\n",
       " 'technical': 355,\n",
       " 'banal': 356,\n",
       " 'shallow': 357,\n",
       " 'nasty': 358,\n",
       " 'eccentric': 359,\n",
       " 'ordinary': 360,\n",
       " 'capable': 361,\n",
       " 'older': 362,\n",
       " 'biggest': 363,\n",
       " 'visceral': 364,\n",
       " 'lyrical': 365,\n",
       " 'basic': 366,\n",
       " 'tasty': 367,\n",
       " 'false': 368,\n",
       " 'thoroughly': 369,\n",
       " 'lovely': 370,\n",
       " 'suspenseful': 371,\n",
       " 'desperate': 372,\n",
       " 'bigger': 373,\n",
       " 'current': 374,\n",
       " 'self-conscious': 375,\n",
       " 'straight': 376,\n",
       " 'mindless': 377,\n",
       " 'pathetic': 378,\n",
       " 'total': 379,\n",
       " 'amateurish': 380,\n",
       " 'evocative': 381,\n",
       " 'sick': 382,\n",
       " 'michael': 383,\n",
       " 'popcorn': 384,\n",
       " 'uninspired': 385,\n",
       " 'fatal': 386,\n",
       " 'sexy': 387,\n",
       " 'safe': 388,\n",
       " 'third': 389,\n",
       " 'overwrought': 390,\n",
       " 'lousy': 391,\n",
       " 'subversive': 392,\n",
       " 'vivid': 393,\n",
       " 'traditional': 394,\n",
       " 'southern': 395,\n",
       " 'due': 396,\n",
       " 'elegant': 397,\n",
       " 'public': 398,\n",
       " 'bold': 399,\n",
       " 'fable': 400,\n",
       " 'lead': 401,\n",
       " 'bitter': 402,\n",
       " 'after-school': 403,\n",
       " 'quick': 404,\n",
       " 'brutal': 405,\n",
       " 'surreal': 406,\n",
       " 'adolescent': 407,\n",
       " 'unfaithful': 408,\n",
       " 'loose': 409,\n",
       " 'unintentional': 410,\n",
       " 'low-budget': 411,\n",
       " 'shot': 412,\n",
       " 'apparent': 413,\n",
       " 'graphic': 414,\n",
       " 'finest': 415,\n",
       " 'spy': 416,\n",
       " 'violent': 417,\n",
       " 'artificial': 418,\n",
       " 'greek': 419,\n",
       " 'evil': 420,\n",
       " 'mixed': 421,\n",
       " 'o': 422,\n",
       " 'frustrating': 423,\n",
       " 'chaotic': 424,\n",
       " 'david': 425,\n",
       " 'inoffensive': 426,\n",
       " 'profound': 427,\n",
       " 'wacky': 428,\n",
       " 'charming': 429,\n",
       " 'open': 430,\n",
       " 'dysfunctional': 431,\n",
       " 'incoherent': 432,\n",
       " 'present': 433,\n",
       " 'late': 434,\n",
       " 'private': 435,\n",
       " 'secret': 436,\n",
       " 'constant': 437,\n",
       " 'ballistic': 438,\n",
       " 'goofy': 439,\n",
       " 'collateral': 440,\n",
       " 'distinctive': 441,\n",
       " 'credible': 442,\n",
       " 'brown': 443,\n",
       " 'stand-up': 444,\n",
       " 'theatrical': 445,\n",
       " 'overlong': 446,\n",
       " 'ingenious': 447,\n",
       " 'flashy': 448,\n",
       " 'static': 449,\n",
       " 'obnoxious': 450,\n",
       " 'choppy': 451,\n",
       " 'charismatic': 452,\n",
       " 'afraid': 453,\n",
       " 'actual': 454,\n",
       " 'equal': 455,\n",
       " 'abstract': 456,\n",
       " 'christian': 457,\n",
       " 'imax': 458,\n",
       " 'various': 459,\n",
       " 'busy': 460,\n",
       " 'awkward': 461,\n",
       " 'intimate': 462,\n",
       " 'mild': 463,\n",
       " 'uncompromising': 464,\n",
       " 'significant': 465,\n",
       " 'good-natured': 466,\n",
       " 'top': 467,\n",
       " 'adam': 468,\n",
       " 'slick': 469,\n",
       " 'english': 470,\n",
       " 'mere': 471,\n",
       " 'saturday': 472,\n",
       " 'exploitative': 473,\n",
       " 'depressing': 474,\n",
       " 'soggy': 475,\n",
       " 'art': 476,\n",
       " 'unnecessary': 477,\n",
       " 'famous': 478,\n",
       " 'whimsical': 479,\n",
       " 'twisted': 480,\n",
       " 'que': 481,\n",
       " 'domestic': 482,\n",
       " 'promising': 483,\n",
       " 'mean': 484,\n",
       " 'professional': 485,\n",
       " 'joyous': 486,\n",
       " 'robert': 487,\n",
       " 'noble': 488,\n",
       " 'savvy': 489,\n",
       " 'ponderous': 490,\n",
       " 'substantial': 491,\n",
       " 'middle-aged': 492,\n",
       " 'unfocused': 493,\n",
       " 'hackneyed': 494,\n",
       " 'sensual': 495,\n",
       " 'splendid': 496,\n",
       " 'sour': 497,\n",
       " 'vital': 498,\n",
       " 'larger': 499,\n",
       " 'intricate': 500,\n",
       " 'like': 501,\n",
       " 'vibrant': 502,\n",
       " 'masterful': 503,\n",
       " 'spooky': 504,\n",
       " 'critical': 505,\n",
       " 'stale': 506,\n",
       " 'hopeful': 507,\n",
       " 'trite': 508,\n",
       " 'satirical': 509,\n",
       " 'potent': 510,\n",
       " 'casual': 511,\n",
       " 'frank': 512,\n",
       " 'resonant': 513,\n",
       " 'fierce': 514,\n",
       " 'unsentimental': 515,\n",
       " 'impeccable': 516,\n",
       " 'thematic': 517,\n",
       " 'mainstream': 518,\n",
       " 'well-intentioned': 519,\n",
       " 'unimaginative': 520,\n",
       " 'physical': 521,\n",
       " 'soft': 522,\n",
       " 'detailed': 523,\n",
       " 'grim': 524,\n",
       " 'inspirational': 525,\n",
       " 'bleak': 526,\n",
       " 'understated': 527,\n",
       " 'endless': 528,\n",
       " 'harmless': 529,\n",
       " 'creepy': 530,\n",
       " 'irish': 531,\n",
       " 'faithful': 532,\n",
       " 'marvelous': 533,\n",
       " 'leaden': 534,\n",
       " 'half': 535,\n",
       " 'fanciful': 536,\n",
       " 'younger': 537,\n",
       " 'feature-length': 538,\n",
       " 'undeniable': 539,\n",
       " 'gross-out': 540,\n",
       " 'snow': 541,\n",
       " 'russian': 542,\n",
       " 'ya-ya': 543,\n",
       " 'delicious': 544,\n",
       " 'key': 545,\n",
       " 'writer-director': 546,\n",
       " 'potential': 547,\n",
       " 'male': 548,\n",
       " 'independent': 549,\n",
       " 'exquisite': 550,\n",
       " 'respectable': 551,\n",
       " 'messy': 552,\n",
       " 'south': 553,\n",
       " 'problematic': 554,\n",
       " 'stylistic': 555,\n",
       " 'laughable': 556,\n",
       " 'unoriginal': 557,\n",
       " 'curious': 558,\n",
       " 'uncertain': 559,\n",
       " 'asian': 560,\n",
       " 'popular': 561,\n",
       " 'serviceable': 562,\n",
       " 'careful': 563,\n",
       " 'extended': 564,\n",
       " 'refreshing': 565,\n",
       " 'striking': 566,\n",
       " 'inevitable': 567,\n",
       " 'limited': 568,\n",
       " 'run-of-the-mill': 569,\n",
       " 'gripping': 570,\n",
       " 'super': 571,\n",
       " 'unnerving': 572,\n",
       " 'indian': 573,\n",
       " 'hip-hop': 574,\n",
       " 'broken': 575,\n",
       " 'comfortable': 576,\n",
       " 'well-crafted': 577,\n",
       " 'lackluster': 578,\n",
       " 'divine': 579,\n",
       " 'el': 580,\n",
       " 'devoid': 581,\n",
       " 'religious': 582,\n",
       " 'miserable': 583,\n",
       " 'sympathetic': 584,\n",
       " 'inconsequential': 585,\n",
       " 'elaborate': 586,\n",
       " 'pedestrian': 587,\n",
       " 'implausible': 588,\n",
       " 'unflinching': 589,\n",
       " 'positive': 590,\n",
       " 'exceptional': 591,\n",
       " 'european': 592,\n",
       " 'inner': 593,\n",
       " 'easier': 594,\n",
       " 'convincing': 595,\n",
       " 'uneasy': 596,\n",
       " 'unpredictable': 597,\n",
       " 'notorious': 598,\n",
       " 'outstanding': 599,\n",
       " 'plain': 600,\n",
       " 'brief': 601,\n",
       " 'running': 602,\n",
       " 'disposable': 603,\n",
       " 'inept': 604,\n",
       " 'similar': 605,\n",
       " 'downright': 606,\n",
       " 'aware': 607,\n",
       " 'gay': 608,\n",
       " 'supernatural': 609,\n",
       " 'mysterious': 610,\n",
       " 'longer': 611,\n",
       " 'hollow': 612,\n",
       " 'improbable': 613,\n",
       " 'fourth': 614,\n",
       " 'somber': 615,\n",
       " 'racial': 616,\n",
       " 'audacious': 617,\n",
       " 'deadpan': 618,\n",
       " 'future': 619,\n",
       " 'lightweight': 620,\n",
       " 'trashy': 621,\n",
       " 'sensational': 622,\n",
       " 'wide': 623,\n",
       " 'didactic': 624,\n",
       " 'martial': 625,\n",
       " 'glorious': 626,\n",
       " 'acceptable': 627,\n",
       " 'smarter': 628,\n",
       " 'meaningful': 629,\n",
       " 'appropriate': 630,\n",
       " 'angry': 631,\n",
       " 'tiny': 632,\n",
       " 'valuable': 633,\n",
       " 'fuzzy': 634,\n",
       " 'ironic': 635,\n",
       " 'tale': 636,\n",
       " 'unable': 637,\n",
       " 'liberal': 638,\n",
       " 'exotic': 639,\n",
       " 'cerebral': 640,\n",
       " 'irresistible': 641,\n",
       " 'buoyant': 642,\n",
       " 'concerned': 643,\n",
       " 'redundant': 644,\n",
       " 'serial': 645,\n",
       " 'inspired': 646,\n",
       " 'cruel': 647,\n",
       " 'volatile': 648,\n",
       " 'eric': 649,\n",
       " 'higher': 650,\n",
       " 'epic': 651,\n",
       " 'contrived': 652,\n",
       " 'responsible': 653,\n",
       " 'straightforward': 654,\n",
       " 'marginal': 655,\n",
       " 'parable': 656,\n",
       " 'john': 657,\n",
       " 'dong': 658,\n",
       " 'disturbing': 659,\n",
       " 'harsh': 660,\n",
       " 'attal': 661,\n",
       " 'jewish': 662,\n",
       " 'nonsensical': 663,\n",
       " 'well-meaning': 664,\n",
       " 'innocent': 665,\n",
       " 'infectious': 666,\n",
       " 'pointless': 667,\n",
       " 'korean': 668,\n",
       " 'attractive': 669,\n",
       " 'lifeless': 670,\n",
       " 'listless': 671,\n",
       " 'laugh-out-loud': 672,\n",
       " 'accomplished': 673,\n",
       " 'conservative': 674,\n",
       " 'first-rate': 675,\n",
       " 'mean-spirited': 676,\n",
       " 'unforgettable': 677,\n",
       " 'polished': 678,\n",
       " 'occasional': 679,\n",
       " 'peculiar': 680,\n",
       " 'bottom': 681,\n",
       " 'glossy': 682,\n",
       " 'gross': 683,\n",
       " 'legendary': 684,\n",
       " 'enormous': 685,\n",
       " 'soulful': 686,\n",
       " 'rough': 687,\n",
       " 'former': 688,\n",
       " 'big-screen': 689,\n",
       " 'dreadful': 690,\n",
       " 'unforced': 691,\n",
       " 'claustrophobic': 692,\n",
       " 'murderous': 693,\n",
       " 'vapid': 694,\n",
       " 'earlier': 695,\n",
       " 'everyday': 696,\n",
       " 'neat': 697,\n",
       " 'snappy': 698,\n",
       " 'darkly': 699,\n",
       " 'tepid': 700,\n",
       " 'ill-conceived': 701,\n",
       " 'frantic': 702,\n",
       " 'monotonous': 703,\n",
       " 'wry': 704,\n",
       " 'literate': 705,\n",
       " 'tremendous': 706,\n",
       " 'greater': 707,\n",
       " 'hugh': 708,\n",
       " 'animal': 709,\n",
       " 'stiff': 710,\n",
       " 'incisive': 711,\n",
       " 'opaque': 712,\n",
       " 'seductive': 713,\n",
       " 'exaggerated': 714,\n",
       " 'complicated': 715,\n",
       " 'lucky': 716,\n",
       " 'ready': 717,\n",
       " 'absurdist': 718,\n",
       " 'youthful': 719,\n",
       " 'uplifting': 720,\n",
       " 'live': 721,\n",
       " 'adequate': 722,\n",
       " 'dubious': 723,\n",
       " 'hypnotic': 724,\n",
       " 'muddled': 725,\n",
       " 'elusive': 726,\n",
       " 'idiosyncratic': 727,\n",
       " 'richer': 728,\n",
       " 'fewer': 729,\n",
       " 'verbal': 730,\n",
       " 'direct': 731,\n",
       " 'spirited': 732,\n",
       " 'sobering': 733,\n",
       " 'handsome': 734,\n",
       " 'top-notch': 735,\n",
       " 'flawed': 736,\n",
       " 'initial': 737,\n",
       " 'unlikable': 738,\n",
       " 'confident': 739,\n",
       " 'revelatory': 740,\n",
       " 'familial': 741,\n",
       " 'numerous': 742,\n",
       " 'todd': 743,\n",
       " 'committed': 744,\n",
       " 'dirty': 745,\n",
       " 'daytime': 746,\n",
       " 'magical': 747,\n",
       " 'melancholy': 748,\n",
       " 'existential': 749,\n",
       " 'give': 750,\n",
       " 'dazzling': 751,\n",
       " 'wholesome': 752,\n",
       " 'fast': 753,\n",
       " 'legal': 754,\n",
       " 'nervous': 755,\n",
       " 'incredible': 756,\n",
       " 'invincible': 757,\n",
       " 'distasteful': 758,\n",
       " 'sardonic': 759,\n",
       " 'eager': 760,\n",
       " 'adventurous': 761,\n",
       " 'fantasy': 762,\n",
       " 'morvern': 763,\n",
       " 'amiable': 764,\n",
       " 'nuanced': 765,\n",
       " 'educational': 766,\n",
       " 'pointed': 767,\n",
       " 'es': 768,\n",
       " 'ambiguous': 769,\n",
       " 'flimsy': 770,\n",
       " 'riveting': 771,\n",
       " 'western': 772,\n",
       " 'unsatisfying': 773,\n",
       " 'sudden': 774,\n",
       " 'very': 775,\n",
       " 'patient': 776,\n",
       " 'appealing': 777,\n",
       " 'magnificent': 778,\n",
       " 'double': 779,\n",
       " 'sluggish': 780,\n",
       " 'mad': 781,\n",
       " 'passable': 782,\n",
       " 'so-so': 783,\n",
       " 'naturalistic': 784,\n",
       " 'determined': 785,\n",
       " 'laugh': 786,\n",
       " 'stereotypical': 787,\n",
       " 'crude': 788,\n",
       " 'undone': 789,\n",
       " 'novel': 790,\n",
       " 'pleasurable': 791,\n",
       " 'ii': 792,\n",
       " 'unconvincing': 793,\n",
       " 'erotic': 794,\n",
       " 'onscreen': 795,\n",
       " 'upper': 796,\n",
       " 'fake': 797,\n",
       " 'holocaust': 798,\n",
       " 'clunky': 799,\n",
       " 'mechanical': 800,\n",
       " 'accurate': 801,\n",
       " 'indie': 802,\n",
       " 'enthusiastic': 803,\n",
       " 'feels': 804,\n",
       " 'unbelievable': 805,\n",
       " 'local': 806,\n",
       " 'uncanny': 807,\n",
       " 'genre': 808,\n",
       " 'climactic': 809,\n",
       " 'magic': 810,\n",
       " 'highest': 811,\n",
       " 'further': 812,\n",
       " 'generous': 813,\n",
       " 'artful': 814,\n",
       " 'dogtown': 815,\n",
       " 'anachronistic': 816,\n",
       " '90-minute': 817,\n",
       " 'well-written': 818,\n",
       " 'enigmatic': 819,\n",
       " 'challenging': 820,\n",
       " 'daily': 821,\n",
       " 'encouraging': 822,\n",
       " 'quest': 823,\n",
       " 'ryan': 824,\n",
       " 'observant': 825,\n",
       " 'international': 826,\n",
       " 'inexplicable': 827,\n",
       " 'fast-paced': 828,\n",
       " 'unfamiliar': 829,\n",
       " 'ethnic': 830,\n",
       " 'wet': 831,\n",
       " 'crucial': 832,\n",
       " 'life-affirming': 833,\n",
       " 'sophomoric': 834,\n",
       " 'inherent': 835,\n",
       " 'pat': 836,\n",
       " 'truthful': 837,\n",
       " 'vast': 838,\n",
       " 'incomprehensible': 839,\n",
       " 'collective': 840,\n",
       " 'proper': 841,\n",
       " 'immediate': 842,\n",
       " 'innocuous': 843,\n",
       " 'perceptive': 844,\n",
       " 'robin': 845,\n",
       " 'primitive': 846,\n",
       " 'eddie': 847,\n",
       " 'friday': 848,\n",
       " 'phenomenal': 849,\n",
       " 'stylized': 850,\n",
       " 'scorsese': 851,\n",
       " 'irritating': 852,\n",
       " 'xxx': 853,\n",
       " 'visible': 854,\n",
       " 'idiotic': 855,\n",
       " 'reluctant': 856,\n",
       " 'fellow': 857,\n",
       " 'informative': 858,\n",
       " 'mary': 859,\n",
       " 'absurd': 860,\n",
       " 'gory': 861,\n",
       " 'competent': 862,\n",
       " 'leigh': 863,\n",
       " 'rabbit-proof': 864,\n",
       " 'preachy': 865,\n",
       " 'fat': 866,\n",
       " 'shaky': 867,\n",
       " 'boisterous': 868,\n",
       " 'shoddy': 869,\n",
       " 'gratuitous': 870,\n",
       " 'unpretentious': 871,\n",
       " 'high-tech': 872,\n",
       " 'distinct': 873,\n",
       " 'musty': 874,\n",
       " 'specific': 875,\n",
       " 'crystal': 876,\n",
       " 'lurid': 877,\n",
       " 'offbeat': 878,\n",
       " 'archival': 879,\n",
       " 'yiddish': 880,\n",
       " 'episodic': 881,\n",
       " 'thick': 882,\n",
       " 'scottish': 883,\n",
       " 'funeral': 884,\n",
       " 'brisk': 885,\n",
       " 'lower': 886,\n",
       " 'haunting': 887,\n",
       " 'stronger': 888,\n",
       " 'literal': 889,\n",
       " 'clinical': 890,\n",
       " 'cohesive': 891,\n",
       " 'unfortunate': 892,\n",
       " 'pale': 893,\n",
       " 'witless': 894,\n",
       " 'eventual': 895,\n",
       " 'unwatchable': 896,\n",
       " 'tortured': 897,\n",
       " 'stuart': 898,\n",
       " 'talky': 899,\n",
       " 'ripe': 900,\n",
       " 'lesser': 901,\n",
       " 'unbearable': 902,\n",
       " 'overblown': 903,\n",
       " 'awesome': 904,\n",
       " \"'the\": 905,\n",
       " 'paper-thin': 906,\n",
       " 'radical': 907,\n",
       " 'half-hearted': 908,\n",
       " 'suburban': 909,\n",
       " 'german': 910,\n",
       " 'fleeting': 911,\n",
       " 'hong': 912,\n",
       " 'metaphorical': 913,\n",
       " 'topical': 914,\n",
       " 'escapist': 915,\n",
       " 'action-packed': 916,\n",
       " 'startling': 917,\n",
       " 'sketchy': 918,\n",
       " 'edgy': 919,\n",
       " 'self-deprecating': 920,\n",
       " 'military': 921,\n",
       " 'truly': 922,\n",
       " 'would-be': 923,\n",
       " 'annoying': 924,\n",
       " 'extra': 925,\n",
       " 'acting': 926,\n",
       " 'halloween': 927,\n",
       " 'half-baked': 928,\n",
       " 'austin': 929,\n",
       " 'genial': 930,\n",
       " 'dumbed-down': 931,\n",
       " 'wooden': 932,\n",
       " 'likeable': 933,\n",
       " 'lively': 934,\n",
       " 'unassuming': 935,\n",
       " 'steady': 936,\n",
       " 'demented': 937,\n",
       " 'african': 938,\n",
       " 'terrorist': 939,\n",
       " 'unconventional': 940,\n",
       " 'useless': 941,\n",
       " 'moving': 942,\n",
       " 'grown-up': 943,\n",
       " 'lavish': 944,\n",
       " 'u': 945,\n",
       " 'sumptuous': 946,\n",
       " 'invaluable': 947,\n",
       " 'uncomfortable': 948,\n",
       " 'hokey': 949,\n",
       " 'timely': 950,\n",
       " 'tom': 951,\n",
       " 'favorite': 952,\n",
       " 'phony': 953,\n",
       " 'fancy': 954,\n",
       " 'primary': 955,\n",
       " 'kevin': 956,\n",
       " 'forced': 957,\n",
       " 'definitive': 958,\n",
       " 'notable': 959,\n",
       " 'indulgent': 960,\n",
       " 'symbolic': 961,\n",
       " 'corny': 962,\n",
       " 'impenetrable': 963,\n",
       " 'slapstick': 964,\n",
       " 'silent': 965,\n",
       " 'computer-generated': 966,\n",
       " 'objective': 967,\n",
       " 'punch-drunk': 968,\n",
       " '20th': 969,\n",
       " 'modern-day': 970,\n",
       " 'bogus': 971,\n",
       " 'palpable': 972,\n",
       " 'longest': 973,\n",
       " 'crisp': 974,\n",
       " 'lean': 975,\n",
       " 'consistent': 976,\n",
       " 'shapeless': 977,\n",
       " 'tight': 978,\n",
       " 'eloquent': 979,\n",
       " 'anne': 980,\n",
       " 'forceful': 981,\n",
       " 'farcical': 982,\n",
       " 'rote': 983,\n",
       " 'deft': 984,\n",
       " 'mental': 985,\n",
       " 'tongue-in-cheek': 986,\n",
       " 'economical': 987,\n",
       " 'elizabeth': 988,\n",
       " 'minimalist': 989,\n",
       " 'uma': 990,\n",
       " 'sweetest': 991,\n",
       " 'tony': 992,\n",
       " 'brian': 993,\n",
       " 'inner-city': 994,\n",
       " 'reflective': 995,\n",
       " 'severe': 996,\n",
       " 'expressive': 997,\n",
       " 'nonstop': 998,\n",
       " 'sound': 999,\n",
       " 'graceful': 1000,\n",
       " ...}"
      ]
     },
     "execution_count": 311,
     "metadata": {},
     "output_type": "execute_result"
    }
   ],
   "source": [
    "dictionary"
   ]
  },
  {
   "cell_type": "code",
   "execution_count": 306,
   "metadata": {},
   "outputs": [],
   "source": [
    "def find_replace(string, dictonary):\n",
    "    for item in string:\n",
    "        for item in dictionary.keys():\n",
    "            string = string.replace(item, dictionary[item])\n",
    "    return string"
   ]
  },
  {
   "cell_type": "code",
   "execution_count": 309,
   "metadata": {},
   "outputs": [],
   "source": [
    "for i in df:\n",
    "    text = df.text\n",
    "    new = find_replace(text, word_dict)\n",
    "    df[\"numbers\"] = new"
   ]
  },
  {
   "cell_type": "code",
   "execution_count": 310,
   "metadata": {},
   "outputs": [
    {
     "data": {
      "text/html": [
       "<div>\n",
       "<style scoped>\n",
       "    .dataframe tbody tr th:only-of-type {\n",
       "        vertical-align: middle;\n",
       "    }\n",
       "\n",
       "    .dataframe tbody tr th {\n",
       "        vertical-align: top;\n",
       "    }\n",
       "\n",
       "    .dataframe thead th {\n",
       "        text-align: right;\n",
       "    }\n",
       "</style>\n",
       "<table border=\"1\" class=\"dataframe\">\n",
       "  <thead>\n",
       "    <tr style=\"text-align: right;\">\n",
       "      <th></th>\n",
       "      <th>text</th>\n",
       "      <th>y</th>\n",
       "      <th>tokens</th>\n",
       "      <th>numbers</th>\n",
       "    </tr>\n",
       "  </thead>\n",
       "  <tbody>\n",
       "    <tr>\n",
       "      <th>1</th>\n",
       "      <td>the gorgeously elaborate continuation of \" the...</td>\n",
       "      <td>1</td>\n",
       "      <td>[the, gorgeously, elaborate, continuation, of,...</td>\n",
       "      <td>the gorgeously elaborate continuation of \" the...</td>\n",
       "    </tr>\n",
       "    <tr>\n",
       "      <th>2</th>\n",
       "      <td>effective but too-tepid biopic</td>\n",
       "      <td>1</td>\n",
       "      <td>[effective, but, too-tepid, biopic]</td>\n",
       "      <td>effective but too-tepid biopic</td>\n",
       "    </tr>\n",
       "    <tr>\n",
       "      <th>3</th>\n",
       "      <td>if you sometimes like to go to the movies to h...</td>\n",
       "      <td>1</td>\n",
       "      <td>[if, you, sometimes, like, to, go, to, the, mo...</td>\n",
       "      <td>if you sometimes like to go to the movies to h...</td>\n",
       "    </tr>\n",
       "    <tr>\n",
       "      <th>4</th>\n",
       "      <td>emerges as something rare , an issue movie tha...</td>\n",
       "      <td>1</td>\n",
       "      <td>[emerges, as, something, rare, ,, an, issue, m...</td>\n",
       "      <td>emerges as something rare , an issue movie tha...</td>\n",
       "    </tr>\n",
       "    <tr>\n",
       "      <th>5</th>\n",
       "      <td>the film provides some great insight into the ...</td>\n",
       "      <td>1</td>\n",
       "      <td>[the, film, provides, some, great, insight, in...</td>\n",
       "      <td>the film provides some great insight into the ...</td>\n",
       "    </tr>\n",
       "  </tbody>\n",
       "</table>\n",
       "</div>"
      ],
      "text/plain": [
       "                                                text  y  \\\n",
       "1  the gorgeously elaborate continuation of \" the...  1   \n",
       "2                     effective but too-tepid biopic  1   \n",
       "3  if you sometimes like to go to the movies to h...  1   \n",
       "4  emerges as something rare , an issue movie tha...  1   \n",
       "5  the film provides some great insight into the ...  1   \n",
       "\n",
       "                                              tokens  \\\n",
       "1  [the, gorgeously, elaborate, continuation, of,...   \n",
       "2                [effective, but, too-tepid, biopic]   \n",
       "3  [if, you, sometimes, like, to, go, to, the, mo...   \n",
       "4  [emerges, as, something, rare, ,, an, issue, m...   \n",
       "5  [the, film, provides, some, great, insight, in...   \n",
       "\n",
       "                                             numbers  \n",
       "1  the gorgeously elaborate continuation of \" the...  \n",
       "2                     effective but too-tepid biopic  \n",
       "3  if you sometimes like to go to the movies to h...  \n",
       "4  emerges as something rare , an issue movie tha...  \n",
       "5  the film provides some great insight into the ...  "
      ]
     },
     "execution_count": 310,
     "metadata": {},
     "output_type": "execute_result"
    }
   ],
   "source": [
    "df.head()"
   ]
  },
  {
   "cell_type": "code",
   "execution_count": null,
   "metadata": {},
   "outputs": [],
   "source": [
    "def vectorize_sequences(sequences, dimension=10000):\n",
    "    results=np.zeros((len(sequences), dimension))\n",
    "    for i, sequence in enumerate(sequences):\n",
    "        results[i, sequence] = 1\n",
    "    return results\n",
    "\n",
    "X_train = vectorize_sequences(train_data)\n",
    "X_test = vectorize_sequences(test_data)"
   ]
  },
  {
   "cell_type": "code",
   "execution_count": null,
   "metadata": {},
   "outputs": [],
   "source": [
    "y_train = np.asarray(train_labels).astype(\"float32\")\n",
    "y_test = np.asarray(test_labels).astype(\"float32\")"
   ]
  },
  {
   "cell_type": "markdown",
   "metadata": {},
   "source": [
    "Shallow Neural Network"
   ]
  },
  {
   "cell_type": "code",
   "execution_count": null,
   "metadata": {},
   "outputs": [],
   "source": [
    "shallow_nn = keras_shallow(input_dim=len(X_train.columns))"
   ]
  },
  {
   "cell_type": "code",
   "execution_count": null,
   "metadata": {},
   "outputs": [],
   "source": [
    "history_shallow = shallow_nn.fit(partial_X_train, partial_y_train, epochs=20, batch_size=512, validation_data=(x_val, y_val))"
   ]
  },
  {
   "cell_type": "code",
   "execution_count": null,
   "metadata": {},
   "outputs": [],
   "source": [
    "history_dict = history_shallow.history"
   ]
  },
  {
   "cell_type": "code",
   "execution_count": null,
   "metadata": {},
   "outputs": [],
   "source": [
    "loss_values = history_dict[\"loss\"]\n",
    "val_loss_values = history_dict[\"val_loss\"]\n",
    "\n",
    "epochs = range(1, len(loss_values)+1)\n",
    "\n",
    "plt.plot(epochs, loss_values, \"bo\", label=\"Training loss\")\n",
    "plt.plot(epochs, val_loss_values, \"b\", label=\"Validation loss\")\n",
    "plt.title(\"Training and validation loss\")\n",
    "plt.xlabel(\"Epochs\")\n",
    "plt.ylabel(\"Loss\")\n",
    "plt.legend()\n",
    "\n",
    "plt.show()"
   ]
  },
  {
   "cell_type": "code",
   "execution_count": null,
   "metadata": {},
   "outputs": [],
   "source": [
    "plt.clf()\n",
    "acc_values = history_dict[\"acc\"]\n",
    "val_acc_values = history_dict[\"val_acc\"]\n",
    "\n",
    "plt.plot(epochs, acc_values, \"bo\", label=\"Training acc\")\n",
    "plt.plot(epochs, val_acc_values, \"b\", label=\"Validation acc\")\n",
    "plt.title(\"Training and validation accuracy\")\n",
    "plt.xlabel(\"Epochs\")\n",
    "plt.ylabel(\"Loss\")\n",
    "plt.show()"
   ]
  },
  {
   "cell_type": "code",
   "execution_count": null,
   "metadata": {},
   "outputs": [],
   "source": [
    "shallow_nn.predict(X_test)"
   ]
  },
  {
   "cell_type": "markdown",
   "metadata": {},
   "source": [
    "Deep Neural Network"
   ]
  },
  {
   "cell_type": "code",
   "execution_count": null,
   "metadata": {},
   "outputs": [],
   "source": [
    "deep_nn = keras_deep(input_dim=len(X_train.columns))"
   ]
  },
  {
   "cell_type": "code",
   "execution_count": null,
   "metadata": {},
   "outputs": [],
   "source": [
    "history_deep = deep_nn.fit(partial_X_train, partial_y_train, epochs=20, batch_size=512, validation_data=(x_val, y_val))"
   ]
  },
  {
   "cell_type": "code",
   "execution_count": null,
   "metadata": {},
   "outputs": [],
   "source": [
    "history_dict = history_deep.history"
   ]
  },
  {
   "cell_type": "code",
   "execution_count": null,
   "metadata": {},
   "outputs": [],
   "source": [
    "loss_values = history_dict[\"loss\"]\n",
    "val_loss_values = history_dict[\"val_loss\"]\n",
    "\n",
    "epochs = range(1, len(loss_values)+1)\n",
    "\n",
    "plt.plot(epochs, loss_values, \"bo\", label=\"Training loss\")\n",
    "plt.plot(epochs, val_loss_values, \"b\", label=\"Validation loss\")\n",
    "plt.title(\"Training and validation loss\")\n",
    "plt.xlabel(\"Epochs\")\n",
    "plt.ylabel(\"Loss\")\n",
    "plt.legend()\n",
    "\n",
    "plt.show()"
   ]
  },
  {
   "cell_type": "code",
   "execution_count": null,
   "metadata": {},
   "outputs": [],
   "source": [
    "val_acc_values = history_dict[\"val_acc\"]\n",
    "\n",
    "plt.plot(epochs, acc_values, \"bo\", label=\"Training acc\")\n",
    "plt.plot(epochs, val_acc_values, \"b\", label=\"Validation acc\")\n",
    "plt.title(\"Training and validation accuracy\")\n",
    "plt.xlabel(\"Epochs\")\n",
    "plt.ylabel(\"Acc\")\n",
    "plt.show()"
   ]
  },
  {
   "cell_type": "code",
   "execution_count": null,
   "metadata": {},
   "outputs": [],
   "source": [
    "deep_nn.predict(X_test)"
   ]
  }
 ],
 "metadata": {
  "kernelspec": {
   "display_name": "Python 3",
   "language": "python",
   "name": "python3"
  },
  "language_info": {
   "codemirror_mode": {
    "name": "ipython",
    "version": 3
   },
   "file_extension": ".py",
   "mimetype": "text/x-python",
   "name": "python",
   "nbconvert_exporter": "python",
   "pygments_lexer": "ipython3",
   "version": "3.6.7"
  }
 },
 "nbformat": 4,
 "nbformat_minor": 2
}
